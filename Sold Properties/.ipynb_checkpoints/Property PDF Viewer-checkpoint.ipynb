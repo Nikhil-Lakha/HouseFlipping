{
 "cells": [
  {
   "cell_type": "code",
   "execution_count": 34,
   "id": "2c572de5",
   "metadata": {},
   "outputs": [],
   "source": [
    "import pandas as pd\n",
    "import numpy as np\n",
    "import os\n",
    "import ipywidgets as widgets\n",
    "from reportlab.lib.pagesizes import letter\n",
    "from reportlab.lib.styles import getSampleStyleSheet\n",
    "import io\n",
    "from IPython.display import display, FileLink\n",
    "import ipywidgets as widgets\n",
    "\n",
    "from reportlab.lib.styles import getSampleStyleSheet, ParagraphStyle\n",
    "from reportlab.lib import colors\n",
    "from reportlab.lib.units import inch\n",
    "\n",
    "from reportlab.platypus import SimpleDocTemplate, Paragraph, Image, Spacer, Table, TableStyle\n"
   ]
  },
  {
   "cell_type": "code",
   "execution_count": 4,
   "id": "306151ef",
   "metadata": {},
   "outputs": [],
   "source": [
    "# Define the directory where the CSV files are located\n",
    "directory = './'  # Update this with the appropriate directory path\n",
    "\n",
    "# Function to process each CSV file\n",
    "def process_csv(file):\n",
    "    # Read the CSV file into a DataFrame\n",
    "    df = pd.read_csv(file)\n",
    "    \n",
    "    # Remove duplicates based on \"List ID\" column, keeping the oldest \"Sold Date\"\n",
    "    df['Sold Date'] = pd.to_datetime(df['Sold Date'])  # Convert 'Sold Date' to datetime\n",
    "    df.sort_values(by='Sold Date', inplace=True)  # Sort by 'Sold Date' to get the oldest first\n",
    "    df.drop_duplicates(subset='List ID', keep='first', inplace=True)\n",
    "    \n",
    "    return df\n",
    "\n",
    "# List to store processed DataFrames\n",
    "dfs = []\n",
    "\n",
    "# Iterate through files in the directory\n",
    "for file in os.listdir(directory):\n",
    "    # Check if the file is a CSV file and starts with \"Sold Properties\"\n",
    "    if file.endswith('.csv') and file.startswith('Sold Properties'):\n",
    "        # Process the CSV file and append the DataFrame to the list\n",
    "        file_path = os.path.join(directory, file)\n",
    "        df = process_csv(file_path)\n",
    "        dfs.append(df)\n",
    "\n",
    "# Concatenate all DataFrames into a single DataFrame\n",
    "final_df = pd.concat(dfs, ignore_index=True)"
   ]
  },
  {
   "cell_type": "code",
   "execution_count": 15,
   "id": "c5061c54",
   "metadata": {},
   "outputs": [
    {
     "data": {
      "application/vnd.jupyter.widget-view+json": {
       "model_id": "f054521467d1436d991eb0676d66e84d",
       "version_major": 2,
       "version_minor": 0
      },
      "text/plain": [
       "Dropdown(description='Province:', options=('All', 'gauteng'), value='All')"
      ]
     },
     "metadata": {},
     "output_type": "display_data"
    },
    {
     "data": {
      "application/vnd.jupyter.widget-view+json": {
       "model_id": "91822c4365ea42698c1b7462219cb1c3",
       "version_major": 2,
       "version_minor": 0
      },
      "text/plain": [
       "Dropdown(description='City:', options=('All',), value='All')"
      ]
     },
     "metadata": {},
     "output_type": "display_data"
    },
    {
     "data": {
      "application/vnd.jupyter.widget-view+json": {
       "model_id": "80ec3945f928426ba800bf5126d459a6",
       "version_major": 2,
       "version_minor": 0
      },
      "text/plain": [
       "Dropdown(description='Suburb:', options=('All',), value='All')"
      ]
     },
     "metadata": {},
     "output_type": "display_data"
    },
    {
     "data": {
      "application/vnd.jupyter.widget-view+json": {
       "model_id": "8bd062c333a840fab6de195f860bec47",
       "version_major": 2,
       "version_minor": 0
      },
      "text/plain": [
       "Dropdown(description='Area:', options=('All',), value='All')"
      ]
     },
     "metadata": {},
     "output_type": "display_data"
    },
    {
     "data": {
      "application/vnd.jupyter.widget-view+json": {
       "model_id": "3d9b04f4364747c8a72aea2680d783b9",
       "version_major": 2,
       "version_minor": 0
      },
      "text/plain": [
       "Button(description='Apply', style=ButtonStyle())"
      ]
     },
     "metadata": {},
     "output_type": "display_data"
    },
    {
     "data": {
      "application/vnd.jupyter.widget-view+json": {
       "model_id": "6932de2eca5646348b6ae14ba5a2c4c4",
       "version_major": 2,
       "version_minor": 0
      },
      "text/plain": [
       "Output()"
      ]
     },
     "metadata": {},
     "output_type": "display_data"
    }
   ],
   "source": [
    "# Define widgets for filtering\n",
    "province_dropdown = widgets.Dropdown(\n",
    "    options=['All'] + final_df['Province'].unique().tolist(),\n",
    "    value='All',\n",
    "    description='Province:'\n",
    ")\n",
    "\n",
    "city_dropdown = widgets.Dropdown(\n",
    "    options=['All'],\n",
    "    value='All',\n",
    "    description='City:'\n",
    ")\n",
    "\n",
    "suburb_dropdown = widgets.Dropdown(\n",
    "    options=['All'],\n",
    "    value='All',\n",
    "    description='Suburb:'\n",
    ")\n",
    "\n",
    "area_dropdown = widgets.Dropdown(\n",
    "    options=['All'],\n",
    "    value='All',\n",
    "    description='Area:'\n",
    ")\n",
    "\n",
    "apply_button = widgets.Button(description='Apply')\n",
    "\n",
    "output = widgets.Output()\n",
    "\n",
    "# Define event handlers for dropdowns\n",
    "def on_province_change(change):\n",
    "    if change.new == 'All':\n",
    "        city_dropdown.options = ['All']\n",
    "    else:\n",
    "        city_dropdown.options = ['All'] + final_df[final_df['Province'] == change.new]['City'].unique().tolist()\n",
    "    city_dropdown.value = 'All'\n",
    "\n",
    "def on_city_change(change):\n",
    "    if change.new == 'All':\n",
    "        suburb_dropdown.options = ['All']\n",
    "    else:\n",
    "        selected_province = province_dropdown.value\n",
    "        suburb_dropdown.options = ['All'] + final_df[(final_df['Province'] == selected_province) & (final_df['City'] == change.new)]['Suburb'].unique().tolist()\n",
    "    suburb_dropdown.value = 'All'\n",
    "\n",
    "def on_suburb_change(change):\n",
    "    if change.new == 'All':\n",
    "        area_dropdown.options = ['All']\n",
    "    else:\n",
    "        selected_province = province_dropdown.value\n",
    "        selected_city = city_dropdown.value\n",
    "        area_dropdown.options = ['All'] + final_df[(final_df['Province'] == selected_province) & (final_df['City'] == selected_city) & (final_df['Suburb'] == change.new)]['Area'].unique().tolist()\n",
    "    area_dropdown.value = 'All'\n",
    "\n",
    "# Attach event handlers to dropdowns\n",
    "province_dropdown.observe(on_province_change, names='value')\n",
    "city_dropdown.observe(on_city_change, names='value')\n",
    "suburb_dropdown.observe(on_suburb_change, names='value')\n",
    "\n",
    "# Define filtering logic\n",
    "def filter_dataframe(button):\n",
    "    with output:\n",
    "        output.clear_output()\n",
    "        filtered_df = final_df.copy()\n",
    "        \n",
    "        province = province_dropdown.value\n",
    "        city = city_dropdown.value\n",
    "        suburb = suburb_dropdown.value\n",
    "        area = area_dropdown.value\n",
    "        \n",
    "        if province != 'All':\n",
    "            filtered_df = filtered_df[filtered_df['Province'] == province]\n",
    "\n",
    "        if city != 'All':\n",
    "            filtered_df = filtered_df[filtered_df['City'] == city]\n",
    "\n",
    "        if suburb != 'All':\n",
    "            filtered_df = filtered_df[filtered_df['Suburb'] == suburb]\n",
    "\n",
    "        if area != 'All':\n",
    "            filtered_df = filtered_df[filtered_df['Area'] == area]\n",
    "\n",
    "        display(filtered_df)\n",
    "\n",
    "# Attach event handler to the button\n",
    "apply_button.on_click(filter_dataframe)\n",
    "\n",
    "# Display widgets\n",
    "display(province_dropdown, city_dropdown, suburb_dropdown, area_dropdown, apply_button, output)\n",
    "filter_dataframe(None)  # Initial display"
   ]
  },
  {
   "cell_type": "code",
   "execution_count": 36,
   "id": "f7b5c3b1",
   "metadata": {},
   "outputs": [
    {
     "data": {
      "application/vnd.jupyter.widget-view+json": {
       "model_id": "738db0e9ceca4d138bffafcaa077a449",
       "version_major": 2,
       "version_minor": 0
      },
      "text/plain": [
       "Text(value='', description='List ID:')"
      ]
     },
     "metadata": {},
     "output_type": "display_data"
    },
    {
     "data": {
      "application/vnd.jupyter.widget-view+json": {
       "model_id": "b4d898d9a3e3443ba1b1218c42410f13",
       "version_major": 2,
       "version_minor": 0
      },
      "text/plain": [
       "Button(description='Apply', style=ButtonStyle())"
      ]
     },
     "metadata": {},
     "output_type": "display_data"
    },
    {
     "name": "stdout",
     "output_type": "stream",
     "text": [
      "PDF generated: listing_details_T4257250.pdf\n",
      "PDF generated: listing_details_T4417162.pdf\n"
     ]
    }
   ],
   "source": [
    "# Define a function to generate PDF with images\n",
    "def generate_pdf_with_images(list_id):\n",
    "    # Retrieve details based on the list_id\n",
    "    details = final_df[final_df['List ID'] == list_id].squeeze()\n",
    "\n",
    "    # Create a PDF document\n",
    "    pdf_filename = f\"listing_details_{list_id}.pdf\"\n",
    "    doc = SimpleDocTemplate(pdf_filename, pagesize=letter)\n",
    "    styles = getSampleStyleSheet()\n",
    "\n",
    "    # Define custom styles\n",
    "    title_style = ParagraphStyle(\n",
    "        \"Title\",\n",
    "        parent=styles[\"Heading1\"],\n",
    "        fontSize=24,\n",
    "        spaceAfter=12\n",
    "    )\n",
    "\n",
    "    medium_size_style = ParagraphStyle(\n",
    "        \"MediumSize\",\n",
    "        parent=styles[\"Normal\"],\n",
    "        fontSize=12,\n",
    "        spaceAfter=6\n",
    "    )\n",
    "\n",
    "    # Prepare the content\n",
    "    story = []\n",
    "\n",
    "    # Title as heading\n",
    "    title_text = \"<b>Title: </b>\"\n",
    "    title_text += details['Title']\n",
    "    title_para = Paragraph(title_text, title_style)\n",
    "    story.append(title_para)\n",
    "\n",
    "    # Add spacer\n",
    "    story.append(Spacer(1, 12))\n",
    "\n",
    "    # Hero image\n",
    "    images_dir = f\"C:\\\\Users\\\\lakha\\\\OneDrive\\\\Documents\\\\House Flipping - Real Life\\\\Sold House Images\\\\{list_id}\"\n",
    "    image_files = [f for f in os.listdir(images_dir) if os.path.isfile(os.path.join(images_dir, f))]\n",
    "    if image_files:\n",
    "        hero_image_path = os.path.join(images_dir, image_files[0])\n",
    "        hero_img = Image(hero_image_path, width=400, height=300)\n",
    "        story.append(hero_img)\n",
    "\n",
    "    # Add spacer\n",
    "    story.append(Spacer(1, 12))\n",
    "\n",
    "    # Create a table for details\n",
    "    data = [\n",
    "        [\"Price:\", details['Price'], \"Sold Date:\", details['Sold Date']],\n",
    "        [\"Bedrooms:\", details['Bedrooms'], \"Bathrooms:\", details['Bathrooms']],\n",
    "        [\"Floor Area:\", details['Floor Area'], \"List ID:\", details['List ID']],\n",
    "        [\"Province:\", details['Province'], \"City:\", details['City']],\n",
    "        [\"Suburb:\", details['Suburb'], \"Area:\", details['Area']],\n",
    "        [\"Href:\", details['Href'], \"\", \"\"]\n",
    "    ]\n",
    "\n",
    "    table = Table(data, colWidths=[100, 200, 100, 200])\n",
    "    table.setStyle(TableStyle([('ALIGN', (0, 0), (-1, -1), 'LEFT'),\n",
    "                               ('VALIGN', (0, 0), (-1, -1), 'MIDDLE'),\n",
    "                               ('FONT', (0, 0), (-1, -1), 'Helvetica', 10),\n",
    "                               ('TEXTCOLOR', (0, 0), (-1, -1), colors.black),\n",
    "                               ('GRID', (0, 0), (-1, -1), 1, colors.black),\n",
    "                               ]))\n",
    "    story.append(table)\n",
    "\n",
    "    # Add spacer\n",
    "    story.append(Spacer(1, 12))\n",
    "\n",
    "    # Add images with spacers\n",
    "    for image_file in image_files[1:]:  # Skip the first image, already added as hero image\n",
    "        image_path = os.path.join(images_dir, image_file)\n",
    "        img = Image(image_path, width=400, height=300)\n",
    "        story.append(img)\n",
    "        story.append(Spacer(1, 12))  # Spacer between images\n",
    "\n",
    "    # Build the PDF\n",
    "    doc.build(story)\n",
    "\n",
    "    print(f\"PDF generated: {pdf_filename}\")\n",
    "\n",
    "    return pdf_filename\n",
    "\n",
    "# Define event handler for Apply button click\n",
    "def on_apply_button_clicked(b):\n",
    "    list_id = text_input.value\n",
    "    pdf_filename = generate_pdf_with_images(list_id)\n",
    "\n",
    "# Create a text input for List ID\n",
    "text_input = widgets.Text(\n",
    "    value='',\n",
    "    description='List ID:'\n",
    ")\n",
    "\n",
    "# Create an Apply button\n",
    "apply_button = widgets.Button(description=\"Apply\")\n",
    "apply_button.on_click(on_apply_button_clicked)\n",
    "\n",
    "# Display widgets\n",
    "display(text_input, apply_button)"
   ]
  }
 ],
 "metadata": {
  "kernelspec": {
   "display_name": "Python 3 (ipykernel)",
   "language": "python",
   "name": "python3"
  },
  "language_info": {
   "codemirror_mode": {
    "name": "ipython",
    "version": 3
   },
   "file_extension": ".py",
   "mimetype": "text/x-python",
   "name": "python",
   "nbconvert_exporter": "python",
   "pygments_lexer": "ipython3",
   "version": "3.9.13"
  }
 },
 "nbformat": 4,
 "nbformat_minor": 5
}
