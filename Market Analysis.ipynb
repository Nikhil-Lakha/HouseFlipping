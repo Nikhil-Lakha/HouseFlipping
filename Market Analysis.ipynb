{
 "cells": [
  {
   "cell_type": "code",
   "execution_count": 1,
   "id": "74544d7c",
   "metadata": {},
   "outputs": [],
   "source": [
    "import pandas as pd\n",
    "import numpy as np\n",
    "\n",
    "import plotly.graph_objs as go\n",
    "from plotly.subplots import make_subplots"
   ]
  },
  {
   "cell_type": "code",
   "execution_count": 2,
   "id": "b601710d",
   "metadata": {},
   "outputs": [],
   "source": [
    "property_list = pd.read_csv(\"all_property_details.csv\")\n",
    "property_list = property_list.replace(to_replace='None', value=np.nan)\n",
    "property_list = property_list.replace(to_replace='✔', value=1)\n",
    "# Calculate the percentage of NaN values per column\n",
    "nan_percentages = (property_list.isna().sum() / len(property_list)) * 100\n",
    "# Filter columns where percentage of NaN is 60% or more\n",
    "columns_to_remove = nan_percentages[nan_percentages >= 45].index\n",
    "# Remove the filtered columns\n",
    "property_list = property_list.drop(columns=columns_to_remove)"
   ]
  },
  {
   "cell_type": "code",
   "execution_count": 3,
   "id": "7dfd618b",
   "metadata": {},
   "outputs": [],
   "source": [
    "sold_homes = property_list[property_list['Price'] == 'Sold']"
   ]
  },
  {
   "cell_type": "code",
   "execution_count": 4,
   "id": "4f25c952",
   "metadata": {},
   "outputs": [],
   "source": [
    "# Create a new column to identify whether the home is active or sold\n",
    "property_list['Status'] = property_list['Price'].apply(lambda x: 'Sold' if x == 'Sold' else 'active')\n",
    "\n",
    "# Group by Area and Status, and count the occurrences\n",
    "grouped_df = property_list.groupby(['Area', 'Status']).size().unstack(fill_value=0)"
   ]
  },
  {
   "cell_type": "code",
   "execution_count": 5,
   "id": "4c709237",
   "metadata": {},
   "outputs": [],
   "source": [
    "grouped_df['Inventory'] = grouped_df['active']/grouped_df['Sold']"
   ]
  },
  {
   "cell_type": "code",
   "execution_count": 7,
   "id": "d56843d5",
   "metadata": {},
   "outputs": [
    {
     "data": {
      "application/vnd.plotly.v1+json": {
       "config": {
        "plotlyServerURL": "https://plot.ly"
       },
       "data": [
        {
         "marker": {
          "color": "blue"
         },
         "name": "Inventory",
         "orientation": "h",
         "text": [
          null,
          null,
          null,
          null,
          null,
          null,
          null,
          null,
          null,
          null,
          null,
          null,
          null,
          null,
          null,
          null,
          null,
          null,
          null,
          null,
          null,
          null,
          null,
          null,
          null,
          null,
          null,
          null,
          null,
          null,
          null,
          null,
          null,
          null,
          null,
          null,
          null,
          null,
          null,
          null,
          null,
          null,
          null,
          null,
          null,
          null,
          null,
          null,
          null,
          null,
          248,
          157,
          142.8,
          138.5,
          135.11,
          131.25,
          129.5,
          125,
          121,
          115,
          113,
          104,
          96.33,
          88.33,
          82,
          76,
          71.93,
          70,
          67.71,
          66,
          60.37,
          59,
          58,
          57,
          56.25,
          55,
          54.33,
          54,
          53,
          52.75,
          52.25,
          52,
          52,
          51,
          49,
          48,
          47.82,
          47,
          46.33,
          45,
          44.6,
          42.6,
          42,
          40.76,
          39.9,
          38,
          37.33,
          36.5,
          36,
          36,
          35.83,
          35,
          35,
          35,
          35,
          34.18,
          33.75,
          33,
          32.75,
          31.8,
          31.4,
          31.14,
          31,
          30,
          30,
          30,
          30,
          30,
          29.7,
          29,
          28.86,
          28,
          27.33,
          26.75,
          26.67,
          25.25,
          25,
          24.8,
          24.67,
          24,
          24,
          24,
          23,
          22.5,
          22,
          21.88,
          21.67,
          21.5,
          21,
          20.83,
          20.8,
          20.2,
          19.67,
          19.5,
          19.5,
          17,
          17,
          16.36,
          15,
          14.6,
          14,
          13.39,
          12,
          11.33,
          11.2,
          10.5,
          10.4,
          9.54,
          9.5,
          9.44,
          8,
          7.75,
          6.5,
          2.5
         ],
         "textposition": "auto",
         "texttemplate": "%{text}",
         "type": "bar",
         "x": [
          null,
          null,
          null,
          null,
          null,
          null,
          null,
          null,
          null,
          null,
          null,
          null,
          null,
          null,
          null,
          null,
          null,
          null,
          null,
          null,
          null,
          null,
          null,
          null,
          null,
          null,
          null,
          null,
          null,
          null,
          null,
          null,
          null,
          null,
          null,
          null,
          null,
          null,
          null,
          null,
          null,
          null,
          null,
          null,
          null,
          null,
          null,
          null,
          null,
          null,
          248,
          157,
          142.8,
          138.5,
          135.11111111111111,
          131.25,
          129.5,
          125,
          121,
          115,
          113,
          104,
          96.33333333333333,
          88.33333333333333,
          82,
          76,
          71.93333333333334,
          70,
          67.71428571428571,
          66,
          60.370370370370374,
          59,
          58,
          57,
          56.25,
          55,
          54.333333333333336,
          54,
          53,
          52.75,
          52.25,
          52,
          52,
          51,
          49,
          48,
          47.81818181818182,
          47,
          46.333333333333336,
          45,
          44.6,
          42.6,
          42,
          40.76190476190476,
          39.9,
          38,
          37.333333333333336,
          36.5,
          36,
          36,
          35.833333333333336,
          35,
          35,
          35,
          35,
          34.1764705882353,
          33.75,
          33,
          32.75,
          31.8,
          31.4,
          31.142857142857142,
          31,
          30,
          30,
          30,
          30,
          30,
          29.7,
          29,
          28.857142857142858,
          28,
          27.333333333333332,
          26.75,
          26.666666666666668,
          25.25,
          25,
          24.8,
          24.666666666666668,
          24,
          24,
          24,
          23,
          22.5,
          22,
          21.88235294117647,
          21.666666666666668,
          21.5,
          21,
          20.833333333333332,
          20.8,
          20.2,
          19.666666666666668,
          19.5,
          19.5,
          17,
          17,
          16.363636363636363,
          15,
          14.6,
          14,
          13.38888888888889,
          12,
          11.333333333333334,
          11.2,
          10.5,
          10.4,
          9.538461538461538,
          9.5,
          9.444444444444445,
          8,
          7.75,
          6.5,
          2.5
         ],
         "y": [
          "albertskroon",
          "kensington-b",
          "norscot",
          "bryanston-west",
          "cedar-creek",
          "nooitgedacht",
          "melrose-arch",
          "meadowbrook",
          "maroeladal",
          "craighall",
          "kya-sands",
          "cresta",
          "kengies",
          "farmall",
          "kelvin",
          "kelland",
          "jukskei-park",
          "delarey",
          "industria",
          "dunkeld",
          "dunkeld-west",
          "duxberry",
          "inanda",
          "emmarentia",
          "norwood",
          "oaklands",
          "petervale",
          "westbury",
          "aldara-park",
          "windsor-glen",
          "atholl-gardens",
          "auckland-park",
          "bedford-gardens",
          "willowild",
          "whiteridge",
          "bellairspark",
          "westcliff",
          "berario",
          "strydompark",
          "pineslopes",
          "steyn-city",
          "sonneglans",
          "senderwood",
          "savoy-estate",
          "ruiterhof",
          "robin-hills",
          "riviera",
          "richmond",
          "bramley",
          "forest-town",
          "buccleuch",
          "linbro-park",
          "sandown",
          "craigavon",
          "bedfordview",
          "broadacres",
          "northgate",
          "parktown",
          "orchards",
          "hyde-park",
          "waverley",
          "olivedale",
          "lanseria-and-surrounds",
          "jackal-creek-northriding",
          "wendywood",
          "oriel",
          "morningside",
          "fourways",
          "cosmo-city",
          "brixton",
          "bryanston",
          "dainfern-valley",
          "sharonlea",
          "robindale",
          "atholl",
          "albertville",
          "morninghill",
          "craighall-park",
          "quellerina",
          "rosebank",
          "killarney",
          "sophiatown",
          "saxonwold",
          "melrose-north",
          "parkwood",
          "fourways-gardens",
          "dainfern",
          "ferndale",
          "chartwell",
          "noordhang",
          "rivonia",
          "edenburg",
          "essexwold",
          "north-riding",
          "douglasdale",
          "sandhurst",
          "woodmead",
          "blackheath",
          "gresswold",
          "birdhaven",
          "paulshof",
          "rembrandt-park",
          "morningside-manor",
          "fontainebleau",
          "greenside",
          "lonehill",
          "bloubosrand",
          "benmore-gardens",
          "river-club",
          "sundowner",
          "northcliff",
          "illovo",
          "st-andrews",
          "blair-atholl-estate",
          "khyber-rock",
          "bramley-park",
          "dainfern-ridge",
          "melrose",
          "houghton-estate",
          "parktown-north",
          "northwold",
          "hurlingham-manor",
          "highlands-north",
          "parkmore",
          "beverley",
          "windsor-east",
          "lombardy-east",
          "hurlingham",
          "bergbron",
          "linden",
          "bosmont",
          "crosby",
          "bedford-park",
          "cedar-lakes",
          "melrose-estate",
          "sunninghill",
          "windsor-west",
          "strathavon",
          "malanshof",
          "magaliessig",
          "westdene",
          "boskruin",
          "montgomery-park",
          "bordeaux",
          "victory-park",
          "randpark",
          "greymont",
          "fairland",
          "melville",
          "riverlea",
          "roosevelt-park",
          "randpark-ridge",
          "risidale",
          "bromhof",
          "parkview",
          "gallo-manor",
          "newlands",
          "blairgowrie",
          "florida-glen",
          "parkhurst",
          "darrenwood",
          "johannesburg-north",
          "president-ridge",
          "moret"
         ]
        }
       ],
       "layout": {
        "bargap": 0.15,
        "template": {
         "data": {
          "bar": [
           {
            "error_x": {
             "color": "#2a3f5f"
            },
            "error_y": {
             "color": "#2a3f5f"
            },
            "marker": {
             "line": {
              "color": "white",
              "width": 0.5
             },
             "pattern": {
              "fillmode": "overlay",
              "size": 10,
              "solidity": 0.2
             }
            },
            "type": "bar"
           }
          ],
          "barpolar": [
           {
            "marker": {
             "line": {
              "color": "white",
              "width": 0.5
             },
             "pattern": {
              "fillmode": "overlay",
              "size": 10,
              "solidity": 0.2
             }
            },
            "type": "barpolar"
           }
          ],
          "carpet": [
           {
            "aaxis": {
             "endlinecolor": "#2a3f5f",
             "gridcolor": "#C8D4E3",
             "linecolor": "#C8D4E3",
             "minorgridcolor": "#C8D4E3",
             "startlinecolor": "#2a3f5f"
            },
            "baxis": {
             "endlinecolor": "#2a3f5f",
             "gridcolor": "#C8D4E3",
             "linecolor": "#C8D4E3",
             "minorgridcolor": "#C8D4E3",
             "startlinecolor": "#2a3f5f"
            },
            "type": "carpet"
           }
          ],
          "choropleth": [
           {
            "colorbar": {
             "outlinewidth": 0,
             "ticks": ""
            },
            "type": "choropleth"
           }
          ],
          "contour": [
           {
            "colorbar": {
             "outlinewidth": 0,
             "ticks": ""
            },
            "colorscale": [
             [
              0,
              "#0d0887"
             ],
             [
              0.1111111111111111,
              "#46039f"
             ],
             [
              0.2222222222222222,
              "#7201a8"
             ],
             [
              0.3333333333333333,
              "#9c179e"
             ],
             [
              0.4444444444444444,
              "#bd3786"
             ],
             [
              0.5555555555555556,
              "#d8576b"
             ],
             [
              0.6666666666666666,
              "#ed7953"
             ],
             [
              0.7777777777777778,
              "#fb9f3a"
             ],
             [
              0.8888888888888888,
              "#fdca26"
             ],
             [
              1,
              "#f0f921"
             ]
            ],
            "type": "contour"
           }
          ],
          "contourcarpet": [
           {
            "colorbar": {
             "outlinewidth": 0,
             "ticks": ""
            },
            "type": "contourcarpet"
           }
          ],
          "heatmap": [
           {
            "colorbar": {
             "outlinewidth": 0,
             "ticks": ""
            },
            "colorscale": [
             [
              0,
              "#0d0887"
             ],
             [
              0.1111111111111111,
              "#46039f"
             ],
             [
              0.2222222222222222,
              "#7201a8"
             ],
             [
              0.3333333333333333,
              "#9c179e"
             ],
             [
              0.4444444444444444,
              "#bd3786"
             ],
             [
              0.5555555555555556,
              "#d8576b"
             ],
             [
              0.6666666666666666,
              "#ed7953"
             ],
             [
              0.7777777777777778,
              "#fb9f3a"
             ],
             [
              0.8888888888888888,
              "#fdca26"
             ],
             [
              1,
              "#f0f921"
             ]
            ],
            "type": "heatmap"
           }
          ],
          "heatmapgl": [
           {
            "colorbar": {
             "outlinewidth": 0,
             "ticks": ""
            },
            "colorscale": [
             [
              0,
              "#0d0887"
             ],
             [
              0.1111111111111111,
              "#46039f"
             ],
             [
              0.2222222222222222,
              "#7201a8"
             ],
             [
              0.3333333333333333,
              "#9c179e"
             ],
             [
              0.4444444444444444,
              "#bd3786"
             ],
             [
              0.5555555555555556,
              "#d8576b"
             ],
             [
              0.6666666666666666,
              "#ed7953"
             ],
             [
              0.7777777777777778,
              "#fb9f3a"
             ],
             [
              0.8888888888888888,
              "#fdca26"
             ],
             [
              1,
              "#f0f921"
             ]
            ],
            "type": "heatmapgl"
           }
          ],
          "histogram": [
           {
            "marker": {
             "pattern": {
              "fillmode": "overlay",
              "size": 10,
              "solidity": 0.2
             }
            },
            "type": "histogram"
           }
          ],
          "histogram2d": [
           {
            "colorbar": {
             "outlinewidth": 0,
             "ticks": ""
            },
            "colorscale": [
             [
              0,
              "#0d0887"
             ],
             [
              0.1111111111111111,
              "#46039f"
             ],
             [
              0.2222222222222222,
              "#7201a8"
             ],
             [
              0.3333333333333333,
              "#9c179e"
             ],
             [
              0.4444444444444444,
              "#bd3786"
             ],
             [
              0.5555555555555556,
              "#d8576b"
             ],
             [
              0.6666666666666666,
              "#ed7953"
             ],
             [
              0.7777777777777778,
              "#fb9f3a"
             ],
             [
              0.8888888888888888,
              "#fdca26"
             ],
             [
              1,
              "#f0f921"
             ]
            ],
            "type": "histogram2d"
           }
          ],
          "histogram2dcontour": [
           {
            "colorbar": {
             "outlinewidth": 0,
             "ticks": ""
            },
            "colorscale": [
             [
              0,
              "#0d0887"
             ],
             [
              0.1111111111111111,
              "#46039f"
             ],
             [
              0.2222222222222222,
              "#7201a8"
             ],
             [
              0.3333333333333333,
              "#9c179e"
             ],
             [
              0.4444444444444444,
              "#bd3786"
             ],
             [
              0.5555555555555556,
              "#d8576b"
             ],
             [
              0.6666666666666666,
              "#ed7953"
             ],
             [
              0.7777777777777778,
              "#fb9f3a"
             ],
             [
              0.8888888888888888,
              "#fdca26"
             ],
             [
              1,
              "#f0f921"
             ]
            ],
            "type": "histogram2dcontour"
           }
          ],
          "mesh3d": [
           {
            "colorbar": {
             "outlinewidth": 0,
             "ticks": ""
            },
            "type": "mesh3d"
           }
          ],
          "parcoords": [
           {
            "line": {
             "colorbar": {
              "outlinewidth": 0,
              "ticks": ""
             }
            },
            "type": "parcoords"
           }
          ],
          "pie": [
           {
            "automargin": true,
            "type": "pie"
           }
          ],
          "scatter": [
           {
            "fillpattern": {
             "fillmode": "overlay",
             "size": 10,
             "solidity": 0.2
            },
            "type": "scatter"
           }
          ],
          "scatter3d": [
           {
            "line": {
             "colorbar": {
              "outlinewidth": 0,
              "ticks": ""
             }
            },
            "marker": {
             "colorbar": {
              "outlinewidth": 0,
              "ticks": ""
             }
            },
            "type": "scatter3d"
           }
          ],
          "scattercarpet": [
           {
            "marker": {
             "colorbar": {
              "outlinewidth": 0,
              "ticks": ""
             }
            },
            "type": "scattercarpet"
           }
          ],
          "scattergeo": [
           {
            "marker": {
             "colorbar": {
              "outlinewidth": 0,
              "ticks": ""
             }
            },
            "type": "scattergeo"
           }
          ],
          "scattergl": [
           {
            "marker": {
             "colorbar": {
              "outlinewidth": 0,
              "ticks": ""
             }
            },
            "type": "scattergl"
           }
          ],
          "scattermapbox": [
           {
            "marker": {
             "colorbar": {
              "outlinewidth": 0,
              "ticks": ""
             }
            },
            "type": "scattermapbox"
           }
          ],
          "scatterpolar": [
           {
            "marker": {
             "colorbar": {
              "outlinewidth": 0,
              "ticks": ""
             }
            },
            "type": "scatterpolar"
           }
          ],
          "scatterpolargl": [
           {
            "marker": {
             "colorbar": {
              "outlinewidth": 0,
              "ticks": ""
             }
            },
            "type": "scatterpolargl"
           }
          ],
          "scatterternary": [
           {
            "marker": {
             "colorbar": {
              "outlinewidth": 0,
              "ticks": ""
             }
            },
            "type": "scatterternary"
           }
          ],
          "surface": [
           {
            "colorbar": {
             "outlinewidth": 0,
             "ticks": ""
            },
            "colorscale": [
             [
              0,
              "#0d0887"
             ],
             [
              0.1111111111111111,
              "#46039f"
             ],
             [
              0.2222222222222222,
              "#7201a8"
             ],
             [
              0.3333333333333333,
              "#9c179e"
             ],
             [
              0.4444444444444444,
              "#bd3786"
             ],
             [
              0.5555555555555556,
              "#d8576b"
             ],
             [
              0.6666666666666666,
              "#ed7953"
             ],
             [
              0.7777777777777778,
              "#fb9f3a"
             ],
             [
              0.8888888888888888,
              "#fdca26"
             ],
             [
              1,
              "#f0f921"
             ]
            ],
            "type": "surface"
           }
          ],
          "table": [
           {
            "cells": {
             "fill": {
              "color": "#EBF0F8"
             },
             "line": {
              "color": "white"
             }
            },
            "header": {
             "fill": {
              "color": "#C8D4E3"
             },
             "line": {
              "color": "white"
             }
            },
            "type": "table"
           }
          ]
         },
         "layout": {
          "annotationdefaults": {
           "arrowcolor": "#2a3f5f",
           "arrowhead": 0,
           "arrowwidth": 1
          },
          "autotypenumbers": "strict",
          "coloraxis": {
           "colorbar": {
            "outlinewidth": 0,
            "ticks": ""
           }
          },
          "colorscale": {
           "diverging": [
            [
             0,
             "#8e0152"
            ],
            [
             0.1,
             "#c51b7d"
            ],
            [
             0.2,
             "#de77ae"
            ],
            [
             0.3,
             "#f1b6da"
            ],
            [
             0.4,
             "#fde0ef"
            ],
            [
             0.5,
             "#f7f7f7"
            ],
            [
             0.6,
             "#e6f5d0"
            ],
            [
             0.7,
             "#b8e186"
            ],
            [
             0.8,
             "#7fbc41"
            ],
            [
             0.9,
             "#4d9221"
            ],
            [
             1,
             "#276419"
            ]
           ],
           "sequential": [
            [
             0,
             "#0d0887"
            ],
            [
             0.1111111111111111,
             "#46039f"
            ],
            [
             0.2222222222222222,
             "#7201a8"
            ],
            [
             0.3333333333333333,
             "#9c179e"
            ],
            [
             0.4444444444444444,
             "#bd3786"
            ],
            [
             0.5555555555555556,
             "#d8576b"
            ],
            [
             0.6666666666666666,
             "#ed7953"
            ],
            [
             0.7777777777777778,
             "#fb9f3a"
            ],
            [
             0.8888888888888888,
             "#fdca26"
            ],
            [
             1,
             "#f0f921"
            ]
           ],
           "sequentialminus": [
            [
             0,
             "#0d0887"
            ],
            [
             0.1111111111111111,
             "#46039f"
            ],
            [
             0.2222222222222222,
             "#7201a8"
            ],
            [
             0.3333333333333333,
             "#9c179e"
            ],
            [
             0.4444444444444444,
             "#bd3786"
            ],
            [
             0.5555555555555556,
             "#d8576b"
            ],
            [
             0.6666666666666666,
             "#ed7953"
            ],
            [
             0.7777777777777778,
             "#fb9f3a"
            ],
            [
             0.8888888888888888,
             "#fdca26"
            ],
            [
             1,
             "#f0f921"
            ]
           ]
          },
          "colorway": [
           "#636efa",
           "#EF553B",
           "#00cc96",
           "#ab63fa",
           "#FFA15A",
           "#19d3f3",
           "#FF6692",
           "#B6E880",
           "#FF97FF",
           "#FECB52"
          ],
          "font": {
           "color": "#2a3f5f"
          },
          "geo": {
           "bgcolor": "white",
           "lakecolor": "white",
           "landcolor": "white",
           "showlakes": true,
           "showland": true,
           "subunitcolor": "#C8D4E3"
          },
          "hoverlabel": {
           "align": "left"
          },
          "hovermode": "closest",
          "mapbox": {
           "style": "light"
          },
          "paper_bgcolor": "white",
          "plot_bgcolor": "white",
          "polar": {
           "angularaxis": {
            "gridcolor": "#EBF0F8",
            "linecolor": "#EBF0F8",
            "ticks": ""
           },
           "bgcolor": "white",
           "radialaxis": {
            "gridcolor": "#EBF0F8",
            "linecolor": "#EBF0F8",
            "ticks": ""
           }
          },
          "scene": {
           "xaxis": {
            "backgroundcolor": "white",
            "gridcolor": "#DFE8F3",
            "gridwidth": 2,
            "linecolor": "#EBF0F8",
            "showbackground": true,
            "ticks": "",
            "zerolinecolor": "#EBF0F8"
           },
           "yaxis": {
            "backgroundcolor": "white",
            "gridcolor": "#DFE8F3",
            "gridwidth": 2,
            "linecolor": "#EBF0F8",
            "showbackground": true,
            "ticks": "",
            "zerolinecolor": "#EBF0F8"
           },
           "zaxis": {
            "backgroundcolor": "white",
            "gridcolor": "#DFE8F3",
            "gridwidth": 2,
            "linecolor": "#EBF0F8",
            "showbackground": true,
            "ticks": "",
            "zerolinecolor": "#EBF0F8"
           }
          },
          "shapedefaults": {
           "line": {
            "color": "#2a3f5f"
           }
          },
          "ternary": {
           "aaxis": {
            "gridcolor": "#DFE8F3",
            "linecolor": "#A2B1C6",
            "ticks": ""
           },
           "baxis": {
            "gridcolor": "#DFE8F3",
            "linecolor": "#A2B1C6",
            "ticks": ""
           },
           "bgcolor": "white",
           "caxis": {
            "gridcolor": "#DFE8F3",
            "linecolor": "#A2B1C6",
            "ticks": ""
           }
          },
          "title": {
           "x": 0.05
          },
          "xaxis": {
           "automargin": true,
           "gridcolor": "#EBF0F8",
           "linecolor": "#EBF0F8",
           "ticks": "",
           "title": {
            "standoff": 15
           },
           "zerolinecolor": "#EBF0F8",
           "zerolinewidth": 2
          },
          "yaxis": {
           "automargin": true,
           "gridcolor": "#EBF0F8",
           "linecolor": "#EBF0F8",
           "ticks": "",
           "title": {
            "standoff": 15
           },
           "zerolinecolor": "#EBF0F8",
           "zerolinewidth": 2
          }
         }
        },
        "title": {
         "text": "Inventory by Area (Ranked)"
        },
        "xaxis": {
         "title": {
          "text": "Inventory"
         }
        },
        "yaxis": {
         "autorange": "reversed",
         "title": {
          "text": "Area"
         }
        }
       }
      },
      "text/html": [
       "<div>                            <div id=\"5f1c0290-8d9f-4998-adb8-72089c6b0860\" class=\"plotly-graph-div\" style=\"height:525px; width:100%;\"></div>            <script type=\"text/javascript\">                require([\"plotly\"], function(Plotly) {                    window.PLOTLYENV=window.PLOTLYENV || {};                                    if (document.getElementById(\"5f1c0290-8d9f-4998-adb8-72089c6b0860\")) {                    Plotly.newPlot(                        \"5f1c0290-8d9f-4998-adb8-72089c6b0860\",                        [{\"marker\":{\"color\":\"blue\"},\"name\":\"Inventory\",\"orientation\":\"h\",\"text\":[null,null,null,null,null,null,null,null,null,null,null,null,null,null,null,null,null,null,null,null,null,null,null,null,null,null,null,null,null,null,null,null,null,null,null,null,null,null,null,null,null,null,null,null,null,null,null,null,null,null,248.0,157.0,142.8,138.5,135.11,131.25,129.5,125.0,121.0,115.0,113.0,104.0,96.33,88.33,82.0,76.0,71.93,70.0,67.71,66.0,60.37,59.0,58.0,57.0,56.25,55.0,54.33,54.0,53.0,52.75,52.25,52.0,52.0,51.0,49.0,48.0,47.82,47.0,46.33,45.0,44.6,42.6,42.0,40.76,39.9,38.0,37.33,36.5,36.0,36.0,35.83,35.0,35.0,35.0,35.0,34.18,33.75,33.0,32.75,31.8,31.4,31.14,31.0,30.0,30.0,30.0,30.0,30.0,29.7,29.0,28.86,28.0,27.33,26.75,26.67,25.25,25.0,24.8,24.67,24.0,24.0,24.0,23.0,22.5,22.0,21.88,21.67,21.5,21.0,20.83,20.8,20.2,19.67,19.5,19.5,17.0,17.0,16.36,15.0,14.6,14.0,13.39,12.0,11.33,11.2,10.5,10.4,9.54,9.5,9.44,8.0,7.75,6.5,2.5],\"textposition\":\"auto\",\"texttemplate\":\"%{text}\",\"x\":[null,null,null,null,null,null,null,null,null,null,null,null,null,null,null,null,null,null,null,null,null,null,null,null,null,null,null,null,null,null,null,null,null,null,null,null,null,null,null,null,null,null,null,null,null,null,null,null,null,null,248.0,157.0,142.8,138.5,135.11111111111111,131.25,129.5,125.0,121.0,115.0,113.0,104.0,96.33333333333333,88.33333333333333,82.0,76.0,71.93333333333334,70.0,67.71428571428571,66.0,60.370370370370374,59.0,58.0,57.0,56.25,55.0,54.333333333333336,54.0,53.0,52.75,52.25,52.0,52.0,51.0,49.0,48.0,47.81818181818182,47.0,46.333333333333336,45.0,44.6,42.6,42.0,40.76190476190476,39.9,38.0,37.333333333333336,36.5,36.0,36.0,35.833333333333336,35.0,35.0,35.0,35.0,34.1764705882353,33.75,33.0,32.75,31.8,31.4,31.142857142857142,31.0,30.0,30.0,30.0,30.0,30.0,29.7,29.0,28.857142857142858,28.0,27.333333333333332,26.75,26.666666666666668,25.25,25.0,24.8,24.666666666666668,24.0,24.0,24.0,23.0,22.5,22.0,21.88235294117647,21.666666666666668,21.5,21.0,20.833333333333332,20.8,20.2,19.666666666666668,19.5,19.5,17.0,17.0,16.363636363636363,15.0,14.6,14.0,13.38888888888889,12.0,11.333333333333334,11.2,10.5,10.4,9.538461538461538,9.5,9.444444444444445,8.0,7.75,6.5,2.5],\"y\":[\"albertskroon\",\"kensington-b\",\"norscot\",\"bryanston-west\",\"cedar-creek\",\"nooitgedacht\",\"melrose-arch\",\"meadowbrook\",\"maroeladal\",\"craighall\",\"kya-sands\",\"cresta\",\"kengies\",\"farmall\",\"kelvin\",\"kelland\",\"jukskei-park\",\"delarey\",\"industria\",\"dunkeld\",\"dunkeld-west\",\"duxberry\",\"inanda\",\"emmarentia\",\"norwood\",\"oaklands\",\"petervale\",\"westbury\",\"aldara-park\",\"windsor-glen\",\"atholl-gardens\",\"auckland-park\",\"bedford-gardens\",\"willowild\",\"whiteridge\",\"bellairspark\",\"westcliff\",\"berario\",\"strydompark\",\"pineslopes\",\"steyn-city\",\"sonneglans\",\"senderwood\",\"savoy-estate\",\"ruiterhof\",\"robin-hills\",\"riviera\",\"richmond\",\"bramley\",\"forest-town\",\"buccleuch\",\"linbro-park\",\"sandown\",\"craigavon\",\"bedfordview\",\"broadacres\",\"northgate\",\"parktown\",\"orchards\",\"hyde-park\",\"waverley\",\"olivedale\",\"lanseria-and-surrounds\",\"jackal-creek-northriding\",\"wendywood\",\"oriel\",\"morningside\",\"fourways\",\"cosmo-city\",\"brixton\",\"bryanston\",\"dainfern-valley\",\"sharonlea\",\"robindale\",\"atholl\",\"albertville\",\"morninghill\",\"craighall-park\",\"quellerina\",\"rosebank\",\"killarney\",\"sophiatown\",\"saxonwold\",\"melrose-north\",\"parkwood\",\"fourways-gardens\",\"dainfern\",\"ferndale\",\"chartwell\",\"noordhang\",\"rivonia\",\"edenburg\",\"essexwold\",\"north-riding\",\"douglasdale\",\"sandhurst\",\"woodmead\",\"blackheath\",\"gresswold\",\"birdhaven\",\"paulshof\",\"rembrandt-park\",\"morningside-manor\",\"fontainebleau\",\"greenside\",\"lonehill\",\"bloubosrand\",\"benmore-gardens\",\"river-club\",\"sundowner\",\"northcliff\",\"illovo\",\"st-andrews\",\"blair-atholl-estate\",\"khyber-rock\",\"bramley-park\",\"dainfern-ridge\",\"melrose\",\"houghton-estate\",\"parktown-north\",\"northwold\",\"hurlingham-manor\",\"highlands-north\",\"parkmore\",\"beverley\",\"windsor-east\",\"lombardy-east\",\"hurlingham\",\"bergbron\",\"linden\",\"bosmont\",\"crosby\",\"bedford-park\",\"cedar-lakes\",\"melrose-estate\",\"sunninghill\",\"windsor-west\",\"strathavon\",\"malanshof\",\"magaliessig\",\"westdene\",\"boskruin\",\"montgomery-park\",\"bordeaux\",\"victory-park\",\"randpark\",\"greymont\",\"fairland\",\"melville\",\"riverlea\",\"roosevelt-park\",\"randpark-ridge\",\"risidale\",\"bromhof\",\"parkview\",\"gallo-manor\",\"newlands\",\"blairgowrie\",\"florida-glen\",\"parkhurst\",\"darrenwood\",\"johannesburg-north\",\"president-ridge\",\"moret\"],\"type\":\"bar\"}],                        {\"template\":{\"data\":{\"barpolar\":[{\"marker\":{\"line\":{\"color\":\"white\",\"width\":0.5},\"pattern\":{\"fillmode\":\"overlay\",\"size\":10,\"solidity\":0.2}},\"type\":\"barpolar\"}],\"bar\":[{\"error_x\":{\"color\":\"#2a3f5f\"},\"error_y\":{\"color\":\"#2a3f5f\"},\"marker\":{\"line\":{\"color\":\"white\",\"width\":0.5},\"pattern\":{\"fillmode\":\"overlay\",\"size\":10,\"solidity\":0.2}},\"type\":\"bar\"}],\"carpet\":[{\"aaxis\":{\"endlinecolor\":\"#2a3f5f\",\"gridcolor\":\"#C8D4E3\",\"linecolor\":\"#C8D4E3\",\"minorgridcolor\":\"#C8D4E3\",\"startlinecolor\":\"#2a3f5f\"},\"baxis\":{\"endlinecolor\":\"#2a3f5f\",\"gridcolor\":\"#C8D4E3\",\"linecolor\":\"#C8D4E3\",\"minorgridcolor\":\"#C8D4E3\",\"startlinecolor\":\"#2a3f5f\"},\"type\":\"carpet\"}],\"choropleth\":[{\"colorbar\":{\"outlinewidth\":0,\"ticks\":\"\"},\"type\":\"choropleth\"}],\"contourcarpet\":[{\"colorbar\":{\"outlinewidth\":0,\"ticks\":\"\"},\"type\":\"contourcarpet\"}],\"contour\":[{\"colorbar\":{\"outlinewidth\":0,\"ticks\":\"\"},\"colorscale\":[[0.0,\"#0d0887\"],[0.1111111111111111,\"#46039f\"],[0.2222222222222222,\"#7201a8\"],[0.3333333333333333,\"#9c179e\"],[0.4444444444444444,\"#bd3786\"],[0.5555555555555556,\"#d8576b\"],[0.6666666666666666,\"#ed7953\"],[0.7777777777777778,\"#fb9f3a\"],[0.8888888888888888,\"#fdca26\"],[1.0,\"#f0f921\"]],\"type\":\"contour\"}],\"heatmapgl\":[{\"colorbar\":{\"outlinewidth\":0,\"ticks\":\"\"},\"colorscale\":[[0.0,\"#0d0887\"],[0.1111111111111111,\"#46039f\"],[0.2222222222222222,\"#7201a8\"],[0.3333333333333333,\"#9c179e\"],[0.4444444444444444,\"#bd3786\"],[0.5555555555555556,\"#d8576b\"],[0.6666666666666666,\"#ed7953\"],[0.7777777777777778,\"#fb9f3a\"],[0.8888888888888888,\"#fdca26\"],[1.0,\"#f0f921\"]],\"type\":\"heatmapgl\"}],\"heatmap\":[{\"colorbar\":{\"outlinewidth\":0,\"ticks\":\"\"},\"colorscale\":[[0.0,\"#0d0887\"],[0.1111111111111111,\"#46039f\"],[0.2222222222222222,\"#7201a8\"],[0.3333333333333333,\"#9c179e\"],[0.4444444444444444,\"#bd3786\"],[0.5555555555555556,\"#d8576b\"],[0.6666666666666666,\"#ed7953\"],[0.7777777777777778,\"#fb9f3a\"],[0.8888888888888888,\"#fdca26\"],[1.0,\"#f0f921\"]],\"type\":\"heatmap\"}],\"histogram2dcontour\":[{\"colorbar\":{\"outlinewidth\":0,\"ticks\":\"\"},\"colorscale\":[[0.0,\"#0d0887\"],[0.1111111111111111,\"#46039f\"],[0.2222222222222222,\"#7201a8\"],[0.3333333333333333,\"#9c179e\"],[0.4444444444444444,\"#bd3786\"],[0.5555555555555556,\"#d8576b\"],[0.6666666666666666,\"#ed7953\"],[0.7777777777777778,\"#fb9f3a\"],[0.8888888888888888,\"#fdca26\"],[1.0,\"#f0f921\"]],\"type\":\"histogram2dcontour\"}],\"histogram2d\":[{\"colorbar\":{\"outlinewidth\":0,\"ticks\":\"\"},\"colorscale\":[[0.0,\"#0d0887\"],[0.1111111111111111,\"#46039f\"],[0.2222222222222222,\"#7201a8\"],[0.3333333333333333,\"#9c179e\"],[0.4444444444444444,\"#bd3786\"],[0.5555555555555556,\"#d8576b\"],[0.6666666666666666,\"#ed7953\"],[0.7777777777777778,\"#fb9f3a\"],[0.8888888888888888,\"#fdca26\"],[1.0,\"#f0f921\"]],\"type\":\"histogram2d\"}],\"histogram\":[{\"marker\":{\"pattern\":{\"fillmode\":\"overlay\",\"size\":10,\"solidity\":0.2}},\"type\":\"histogram\"}],\"mesh3d\":[{\"colorbar\":{\"outlinewidth\":0,\"ticks\":\"\"},\"type\":\"mesh3d\"}],\"parcoords\":[{\"line\":{\"colorbar\":{\"outlinewidth\":0,\"ticks\":\"\"}},\"type\":\"parcoords\"}],\"pie\":[{\"automargin\":true,\"type\":\"pie\"}],\"scatter3d\":[{\"line\":{\"colorbar\":{\"outlinewidth\":0,\"ticks\":\"\"}},\"marker\":{\"colorbar\":{\"outlinewidth\":0,\"ticks\":\"\"}},\"type\":\"scatter3d\"}],\"scattercarpet\":[{\"marker\":{\"colorbar\":{\"outlinewidth\":0,\"ticks\":\"\"}},\"type\":\"scattercarpet\"}],\"scattergeo\":[{\"marker\":{\"colorbar\":{\"outlinewidth\":0,\"ticks\":\"\"}},\"type\":\"scattergeo\"}],\"scattergl\":[{\"marker\":{\"colorbar\":{\"outlinewidth\":0,\"ticks\":\"\"}},\"type\":\"scattergl\"}],\"scattermapbox\":[{\"marker\":{\"colorbar\":{\"outlinewidth\":0,\"ticks\":\"\"}},\"type\":\"scattermapbox\"}],\"scatterpolargl\":[{\"marker\":{\"colorbar\":{\"outlinewidth\":0,\"ticks\":\"\"}},\"type\":\"scatterpolargl\"}],\"scatterpolar\":[{\"marker\":{\"colorbar\":{\"outlinewidth\":0,\"ticks\":\"\"}},\"type\":\"scatterpolar\"}],\"scatter\":[{\"fillpattern\":{\"fillmode\":\"overlay\",\"size\":10,\"solidity\":0.2},\"type\":\"scatter\"}],\"scatterternary\":[{\"marker\":{\"colorbar\":{\"outlinewidth\":0,\"ticks\":\"\"}},\"type\":\"scatterternary\"}],\"surface\":[{\"colorbar\":{\"outlinewidth\":0,\"ticks\":\"\"},\"colorscale\":[[0.0,\"#0d0887\"],[0.1111111111111111,\"#46039f\"],[0.2222222222222222,\"#7201a8\"],[0.3333333333333333,\"#9c179e\"],[0.4444444444444444,\"#bd3786\"],[0.5555555555555556,\"#d8576b\"],[0.6666666666666666,\"#ed7953\"],[0.7777777777777778,\"#fb9f3a\"],[0.8888888888888888,\"#fdca26\"],[1.0,\"#f0f921\"]],\"type\":\"surface\"}],\"table\":[{\"cells\":{\"fill\":{\"color\":\"#EBF0F8\"},\"line\":{\"color\":\"white\"}},\"header\":{\"fill\":{\"color\":\"#C8D4E3\"},\"line\":{\"color\":\"white\"}},\"type\":\"table\"}]},\"layout\":{\"annotationdefaults\":{\"arrowcolor\":\"#2a3f5f\",\"arrowhead\":0,\"arrowwidth\":1},\"autotypenumbers\":\"strict\",\"coloraxis\":{\"colorbar\":{\"outlinewidth\":0,\"ticks\":\"\"}},\"colorscale\":{\"diverging\":[[0,\"#8e0152\"],[0.1,\"#c51b7d\"],[0.2,\"#de77ae\"],[0.3,\"#f1b6da\"],[0.4,\"#fde0ef\"],[0.5,\"#f7f7f7\"],[0.6,\"#e6f5d0\"],[0.7,\"#b8e186\"],[0.8,\"#7fbc41\"],[0.9,\"#4d9221\"],[1,\"#276419\"]],\"sequential\":[[0.0,\"#0d0887\"],[0.1111111111111111,\"#46039f\"],[0.2222222222222222,\"#7201a8\"],[0.3333333333333333,\"#9c179e\"],[0.4444444444444444,\"#bd3786\"],[0.5555555555555556,\"#d8576b\"],[0.6666666666666666,\"#ed7953\"],[0.7777777777777778,\"#fb9f3a\"],[0.8888888888888888,\"#fdca26\"],[1.0,\"#f0f921\"]],\"sequentialminus\":[[0.0,\"#0d0887\"],[0.1111111111111111,\"#46039f\"],[0.2222222222222222,\"#7201a8\"],[0.3333333333333333,\"#9c179e\"],[0.4444444444444444,\"#bd3786\"],[0.5555555555555556,\"#d8576b\"],[0.6666666666666666,\"#ed7953\"],[0.7777777777777778,\"#fb9f3a\"],[0.8888888888888888,\"#fdca26\"],[1.0,\"#f0f921\"]]},\"colorway\":[\"#636efa\",\"#EF553B\",\"#00cc96\",\"#ab63fa\",\"#FFA15A\",\"#19d3f3\",\"#FF6692\",\"#B6E880\",\"#FF97FF\",\"#FECB52\"],\"font\":{\"color\":\"#2a3f5f\"},\"geo\":{\"bgcolor\":\"white\",\"lakecolor\":\"white\",\"landcolor\":\"white\",\"showlakes\":true,\"showland\":true,\"subunitcolor\":\"#C8D4E3\"},\"hoverlabel\":{\"align\":\"left\"},\"hovermode\":\"closest\",\"mapbox\":{\"style\":\"light\"},\"paper_bgcolor\":\"white\",\"plot_bgcolor\":\"white\",\"polar\":{\"angularaxis\":{\"gridcolor\":\"#EBF0F8\",\"linecolor\":\"#EBF0F8\",\"ticks\":\"\"},\"bgcolor\":\"white\",\"radialaxis\":{\"gridcolor\":\"#EBF0F8\",\"linecolor\":\"#EBF0F8\",\"ticks\":\"\"}},\"scene\":{\"xaxis\":{\"backgroundcolor\":\"white\",\"gridcolor\":\"#DFE8F3\",\"gridwidth\":2,\"linecolor\":\"#EBF0F8\",\"showbackground\":true,\"ticks\":\"\",\"zerolinecolor\":\"#EBF0F8\"},\"yaxis\":{\"backgroundcolor\":\"white\",\"gridcolor\":\"#DFE8F3\",\"gridwidth\":2,\"linecolor\":\"#EBF0F8\",\"showbackground\":true,\"ticks\":\"\",\"zerolinecolor\":\"#EBF0F8\"},\"zaxis\":{\"backgroundcolor\":\"white\",\"gridcolor\":\"#DFE8F3\",\"gridwidth\":2,\"linecolor\":\"#EBF0F8\",\"showbackground\":true,\"ticks\":\"\",\"zerolinecolor\":\"#EBF0F8\"}},\"shapedefaults\":{\"line\":{\"color\":\"#2a3f5f\"}},\"ternary\":{\"aaxis\":{\"gridcolor\":\"#DFE8F3\",\"linecolor\":\"#A2B1C6\",\"ticks\":\"\"},\"baxis\":{\"gridcolor\":\"#DFE8F3\",\"linecolor\":\"#A2B1C6\",\"ticks\":\"\"},\"bgcolor\":\"white\",\"caxis\":{\"gridcolor\":\"#DFE8F3\",\"linecolor\":\"#A2B1C6\",\"ticks\":\"\"}},\"title\":{\"x\":0.05},\"xaxis\":{\"automargin\":true,\"gridcolor\":\"#EBF0F8\",\"linecolor\":\"#EBF0F8\",\"ticks\":\"\",\"title\":{\"standoff\":15},\"zerolinecolor\":\"#EBF0F8\",\"zerolinewidth\":2},\"yaxis\":{\"automargin\":true,\"gridcolor\":\"#EBF0F8\",\"linecolor\":\"#EBF0F8\",\"ticks\":\"\",\"title\":{\"standoff\":15},\"zerolinecolor\":\"#EBF0F8\",\"zerolinewidth\":2}}},\"yaxis\":{\"title\":{\"text\":\"Area\"},\"autorange\":\"reversed\"},\"title\":{\"text\":\"Inventory by Area (Ranked)\"},\"xaxis\":{\"title\":{\"text\":\"Inventory\"}},\"bargap\":0.15},                        {\"responsive\": true}                    ).then(function(){\n",
       "                            \n",
       "var gd = document.getElementById('5f1c0290-8d9f-4998-adb8-72089c6b0860');\n",
       "var x = new MutationObserver(function (mutations, observer) {{\n",
       "        var display = window.getComputedStyle(gd).display;\n",
       "        if (!display || display === 'none') {{\n",
       "            console.log([gd, 'removed!']);\n",
       "            Plotly.purge(gd);\n",
       "            observer.disconnect();\n",
       "        }}\n",
       "}});\n",
       "\n",
       "// Listen for the removal of the full notebook cells\n",
       "var notebookContainer = gd.closest('#notebook-container');\n",
       "if (notebookContainer) {{\n",
       "    x.observe(notebookContainer, {childList: true});\n",
       "}}\n",
       "\n",
       "// Listen for the clearing of the current output cell\n",
       "var outputEl = gd.closest('.output');\n",
       "if (outputEl) {{\n",
       "    x.observe(outputEl, {childList: true});\n",
       "}}\n",
       "\n",
       "                        })                };                });            </script>        </div>"
      ]
     },
     "metadata": {},
     "output_type": "display_data"
    }
   ],
   "source": [
    "# Sort the DataFrame by 'Inventory' column in descending order\n",
    "sorted_df = grouped_df.sort_values(by='Inventory', ascending=False)\n",
    "\n",
    "# Create a Plotly horizontal bar chart\n",
    "fig = go.Figure()\n",
    "\n",
    "# Add a bar trace\n",
    "fig.add_trace(go.Bar(\n",
    "    x=sorted_df['Inventory'],  # Inventory values\n",
    "    y=sorted_df.index,  # Areas\n",
    "    orientation='h',  # Horizontal bar chart\n",
    "    marker_color='blue',\n",
    "    text=sorted_df['Inventory'].round(2),  # Round to 2 decimal places for visual clarity\n",
    "    textposition='auto',\n",
    "    texttemplate='%{text}',  # Show numbers on bars\n",
    "    name='Inventory'\n",
    "))\n",
    "\n",
    "# Update layout\n",
    "fig.update_layout(\n",
    "    title='Inventory by Area (Ranked)',\n",
    "    xaxis=dict(title='Inventory'),\n",
    "    yaxis=dict(title='Area', autorange=\"reversed\"),  # Reverse the y-axis for ranking\n",
    "    template='plotly_white',\n",
    "    bargap=0.15  # Set the gap between bars\n",
    ")\n",
    "\n",
    "# Show the plot\n",
    "fig.show()"
   ]
  }
 ],
 "metadata": {
  "kernelspec": {
   "display_name": "Python 3 (ipykernel)",
   "language": "python",
   "name": "python3"
  },
  "language_info": {
   "codemirror_mode": {
    "name": "ipython",
    "version": 3
   },
   "file_extension": ".py",
   "mimetype": "text/x-python",
   "name": "python",
   "nbconvert_exporter": "python",
   "pygments_lexer": "ipython3",
   "version": "3.9.13"
  }
 },
 "nbformat": 4,
 "nbformat_minor": 5
}
