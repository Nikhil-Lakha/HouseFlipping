{
 "cells": [
  {
   "cell_type": "code",
   "execution_count": 13,
   "id": "74544d7c",
   "metadata": {},
   "outputs": [],
   "source": [
    "import pandas as pd\n",
    "import numpy as np\n",
    "\n",
    "import plotly.graph_objs as go\n",
    "from plotly.subplots import make_subplots"
   ]
  },
  {
   "cell_type": "code",
   "execution_count": 14,
   "id": "b601710d",
   "metadata": {},
   "outputs": [],
   "source": [
    "property_list = pd.read_csv(\"all_property_details.csv\")\n",
    "property_list = property_list.replace(to_replace='None', value=np.nan)\n",
    "property_list = property_list.replace(to_replace='✔', value=1)\n",
    "# Calculate the percentage of NaN values per column\n",
    "nan_percentages = (property_list.isna().sum() / len(property_list)) * 100\n",
    "# Filter columns where percentage of NaN is 60% or more\n",
    "columns_to_remove = nan_percentages[nan_percentages >= 45].index\n",
    "# Remove the filtered columns\n",
    "property_list = property_list.drop(columns=columns_to_remove)"
   ]
  },
  {
   "cell_type": "code",
   "execution_count": 15,
   "id": "7dfd618b",
   "metadata": {},
   "outputs": [],
   "source": [
    "sold_homes = property_list[property_list['Price'] == 'Sold']"
   ]
  },
  {
   "cell_type": "code",
   "execution_count": 16,
   "id": "4f25c952",
   "metadata": {},
   "outputs": [],
   "source": [
    "# Create a new column to identify whether the home is active or sold\n",
    "property_list['Status'] = property_list['Price'].apply(lambda x: 'Sold' if x == 'Sold' else 'active')\n",
    "\n",
    "# Group by Area and Status, and count the occurrences\n",
    "grouped_df = property_list.groupby(['Area', 'Status']).size().unstack(fill_value=0)"
   ]
  },
  {
   "cell_type": "code",
   "execution_count": 17,
   "id": "4c709237",
   "metadata": {},
   "outputs": [],
   "source": [
    "grouped_df['Inventory'] = grouped_df['active']/grouped_df['Sold']"
   ]
  },
  {
   "cell_type": "code",
   "execution_count": 18,
   "id": "d56843d5",
   "metadata": {},
   "outputs": [
    {
     "data": {
      "application/vnd.plotly.v1+json": {
       "config": {
        "plotlyServerURL": "https://plot.ly"
       },
       "data": [
        {
         "marker": {
          "color": "blue"
         },
         "name": "Inventory",
         "orientation": "h",
         "text": [
          null,
          null,
          null,
          null,
          null,
          null,
          null,
          null,
          null,
          null,
          null,
          null,
          null,
          null,
          null,
          null,
          null,
          null,
          null,
          null,
          null,
          null,
          null,
          null,
          null,
          null,
          null,
          null,
          null,
          null,
          null,
          null,
          null,
          null,
          null,
          null,
          null,
          null,
          null,
          null,
          null,
          null,
          null,
          null,
          null,
          null,
          null,
          null,
          null,
          null,
          null,
          null,
          null,
          null,
          null,
          null,
          null,
          null,
          null,
          null,
          null,
          null,
          null,
          null,
          null,
          null,
          null,
          null,
          null,
          365,
          332,
          306,
          296.5,
          282,
          271,
          269,
          167,
          166,
          148,
          140,
          133,
          116,
          102,
          97.5,
          75,
          74,
          67.5,
          63,
          59.33,
          58.67,
          56.8,
          55.9,
          55,
          53.5,
          53,
          51.5,
          51.33,
          51,
          50,
          49.75,
          49,
          48.09,
          48,
          46.62,
          46.33,
          46.25,
          43,
          40.91,
          40.6,
          40,
          40,
          38,
          37,
          37,
          37,
          35.38,
          35,
          35,
          34.78,
          34.5,
          34.5,
          34,
          33.33,
          33,
          32.5,
          32,
          31.67,
          31.25,
          29,
          29,
          27.7,
          26.5,
          26.4,
          24.5,
          24.17,
          24,
          24,
          24,
          23,
          23,
          22,
          21,
          19.6,
          19.5,
          18,
          17,
          16,
          15.67,
          14.29,
          14,
          14,
          14,
          13.5,
          12.67,
          12.67,
          12.62,
          12.5,
          11,
          11,
          11,
          11,
          10.67,
          10.5,
          10,
          9,
          7,
          6.75,
          5.5,
          4,
          3,
          1
         ],
         "textposition": "auto",
         "texttemplate": "%{text}",
         "type": "bar",
         "x": [
          null,
          null,
          null,
          null,
          null,
          null,
          null,
          null,
          null,
          null,
          null,
          null,
          null,
          null,
          null,
          null,
          null,
          null,
          null,
          null,
          null,
          null,
          null,
          null,
          null,
          null,
          null,
          null,
          null,
          null,
          null,
          null,
          null,
          null,
          null,
          null,
          null,
          null,
          null,
          null,
          null,
          null,
          null,
          null,
          null,
          null,
          null,
          null,
          null,
          null,
          null,
          null,
          null,
          null,
          null,
          null,
          null,
          null,
          null,
          null,
          null,
          null,
          null,
          null,
          null,
          null,
          null,
          null,
          null,
          365,
          332,
          306,
          296.5,
          282,
          271,
          269,
          167,
          166,
          148,
          140,
          133,
          116,
          102,
          97.5,
          75,
          74,
          67.5,
          63,
          59.333333333333336,
          58.666666666666664,
          56.8,
          55.9,
          55,
          53.5,
          53,
          51.5,
          51.333333333333336,
          51,
          50,
          49.75,
          49,
          48.09090909090909,
          48,
          46.61538461538461,
          46.333333333333336,
          46.25,
          43,
          40.90909090909091,
          40.6,
          40,
          40,
          38,
          37,
          37,
          37,
          35.38461538461539,
          35,
          35,
          34.77777777777778,
          34.5,
          34.5,
          34,
          33.333333333333336,
          33,
          32.5,
          32,
          31.666666666666668,
          31.25,
          29,
          29,
          27.7,
          26.5,
          26.4,
          24.5,
          24.166666666666668,
          24,
          24,
          24,
          23,
          23,
          22,
          21,
          19.6,
          19.5,
          18,
          17,
          16,
          15.666666666666666,
          14.285714285714286,
          14,
          14,
          14,
          13.5,
          12.666666666666666,
          12.666666666666666,
          12.625,
          12.5,
          11,
          11,
          11,
          11,
          10.666666666666666,
          10.5,
          10,
          9,
          7,
          6.75,
          5.5,
          4,
          3,
          1
         ],
         "y": [
          "aeroton",
          "morninghill",
          "melville",
          "maroeladal",
          "lanseria-and-surrounds",
          "kya-sands",
          "alan-manor",
          "kenilworth",
          "kelvin",
          "kelland",
          "jukskei-park",
          "industria",
          "inanda",
          "hurlingham-manor",
          "greenside",
          "glenvista",
          "glenanda",
          "gillview",
          "fourways-gardens",
          "farmall",
          "eye-of-africa",
          "essexwold",
          "emmarentia",
          "moffat-view",
          "nooitgedacht",
          "eikenhof",
          "noordhang",
          "windsor-glen",
          "whiteridge",
          "westbury",
          "wendywood",
          "turffontein",
          "the-hill",
          "strydompark",
          "strathavon",
          "steyn-city",
          "st-andrews",
          "sharonlea",
          "ruiterhof",
          "roseacre",
          "robindale",
          "robin-hills",
          "risidale",
          "ridgeway",
          "pineslopes",
          "petervale",
          "parkmore",
          "oriel",
          "elandspark",
          "khyber-rock",
          "woodmead",
          "crown-gardens",
          "bassonia-estate",
          "bedford-park",
          "bassonia",
          "bryanston-west",
          "cedar-creek",
          "atholl-gardens",
          "cedar-lakes",
          "bellairspark",
          "aspen-hills",
          "cresta",
          "aldara-park",
          "chartwell",
          "albertskroon",
          "berario",
          "delarey",
          "dainfern-valley",
          "dainfern-ridge",
          "sky-city",
          "bedfordview",
          "broadacres",
          "katlehong",
          "winchester-hills",
          "bedford-gardens",
          "sandown",
          "oakdene",
          "kibler-park",
          "meredale",
          "linbro-park",
          "alveda",
          "linmeyer",
          "jackal-creek-northriding",
          "northgate",
          "sonneglans",
          "beverley",
          "rosettenville",
          "mondeor",
          "naturena",
          "mulbarton",
          "ormonde",
          "fourways",
          "rivonia",
          "northcliff",
          "albertville",
          "bloubosrand",
          "craigavon",
          "sophiatown",
          "brixton",
          "buccleuch",
          "liefde-en-vrede",
          "morningside",
          "auckland-park",
          "north-riding",
          "olivedale",
          "bryanston",
          "south-hills",
          "ferndale",
          "dainfern",
          "kensington-b",
          "hyde-park",
          "haddon",
          "boskruin",
          "linden",
          "forest-hill",
          "cosmo-city",
          "richmond",
          "sandhurst",
          "sunninghill",
          "bergbron",
          "robertsham",
          "blackheath",
          "westdene",
          "regents-park",
          "windsor-west",
          "rembrandt-park",
          "lonehill",
          "edenburg",
          "benmore-gardens",
          "florida-glen",
          "douglasdale",
          "paulshof",
          "sundowner",
          "montgomery-park",
          "illovo",
          "bosmont",
          "bramley",
          "quellerina",
          "atholl",
          "kengies",
          "crosby",
          "bramley-park",
          "windsor-east",
          "lombardy-east",
          "victory-park",
          "hurlingham",
          "greymont",
          "northwold",
          "bromhof",
          "meadowbrook",
          "gallo-manor",
          "roosevelt-park",
          "newlands",
          "suideroord",
          "riverlea",
          "fairland",
          "blairgowrie",
          "bordeaux",
          "darrenwood",
          "fontainebleau",
          "randpark-ridge",
          "malanshof",
          "magaliessig",
          "morningside-manor",
          "president-ridge",
          "johannesburg-north",
          "river-club",
          "blair-atholl-estate",
          "randpark",
          "senderwood",
          "moret"
         ]
        }
       ],
       "layout": {
        "bargap": 0.15,
        "template": {
         "data": {
          "bar": [
           {
            "error_x": {
             "color": "#2a3f5f"
            },
            "error_y": {
             "color": "#2a3f5f"
            },
            "marker": {
             "line": {
              "color": "white",
              "width": 0.5
             },
             "pattern": {
              "fillmode": "overlay",
              "size": 10,
              "solidity": 0.2
             }
            },
            "type": "bar"
           }
          ],
          "barpolar": [
           {
            "marker": {
             "line": {
              "color": "white",
              "width": 0.5
             },
             "pattern": {
              "fillmode": "overlay",
              "size": 10,
              "solidity": 0.2
             }
            },
            "type": "barpolar"
           }
          ],
          "carpet": [
           {
            "aaxis": {
             "endlinecolor": "#2a3f5f",
             "gridcolor": "#C8D4E3",
             "linecolor": "#C8D4E3",
             "minorgridcolor": "#C8D4E3",
             "startlinecolor": "#2a3f5f"
            },
            "baxis": {
             "endlinecolor": "#2a3f5f",
             "gridcolor": "#C8D4E3",
             "linecolor": "#C8D4E3",
             "minorgridcolor": "#C8D4E3",
             "startlinecolor": "#2a3f5f"
            },
            "type": "carpet"
           }
          ],
          "choropleth": [
           {
            "colorbar": {
             "outlinewidth": 0,
             "ticks": ""
            },
            "type": "choropleth"
           }
          ],
          "contour": [
           {
            "colorbar": {
             "outlinewidth": 0,
             "ticks": ""
            },
            "colorscale": [
             [
              0,
              "#0d0887"
             ],
             [
              0.1111111111111111,
              "#46039f"
             ],
             [
              0.2222222222222222,
              "#7201a8"
             ],
             [
              0.3333333333333333,
              "#9c179e"
             ],
             [
              0.4444444444444444,
              "#bd3786"
             ],
             [
              0.5555555555555556,
              "#d8576b"
             ],
             [
              0.6666666666666666,
              "#ed7953"
             ],
             [
              0.7777777777777778,
              "#fb9f3a"
             ],
             [
              0.8888888888888888,
              "#fdca26"
             ],
             [
              1,
              "#f0f921"
             ]
            ],
            "type": "contour"
           }
          ],
          "contourcarpet": [
           {
            "colorbar": {
             "outlinewidth": 0,
             "ticks": ""
            },
            "type": "contourcarpet"
           }
          ],
          "heatmap": [
           {
            "colorbar": {
             "outlinewidth": 0,
             "ticks": ""
            },
            "colorscale": [
             [
              0,
              "#0d0887"
             ],
             [
              0.1111111111111111,
              "#46039f"
             ],
             [
              0.2222222222222222,
              "#7201a8"
             ],
             [
              0.3333333333333333,
              "#9c179e"
             ],
             [
              0.4444444444444444,
              "#bd3786"
             ],
             [
              0.5555555555555556,
              "#d8576b"
             ],
             [
              0.6666666666666666,
              "#ed7953"
             ],
             [
              0.7777777777777778,
              "#fb9f3a"
             ],
             [
              0.8888888888888888,
              "#fdca26"
             ],
             [
              1,
              "#f0f921"
             ]
            ],
            "type": "heatmap"
           }
          ],
          "heatmapgl": [
           {
            "colorbar": {
             "outlinewidth": 0,
             "ticks": ""
            },
            "colorscale": [
             [
              0,
              "#0d0887"
             ],
             [
              0.1111111111111111,
              "#46039f"
             ],
             [
              0.2222222222222222,
              "#7201a8"
             ],
             [
              0.3333333333333333,
              "#9c179e"
             ],
             [
              0.4444444444444444,
              "#bd3786"
             ],
             [
              0.5555555555555556,
              "#d8576b"
             ],
             [
              0.6666666666666666,
              "#ed7953"
             ],
             [
              0.7777777777777778,
              "#fb9f3a"
             ],
             [
              0.8888888888888888,
              "#fdca26"
             ],
             [
              1,
              "#f0f921"
             ]
            ],
            "type": "heatmapgl"
           }
          ],
          "histogram": [
           {
            "marker": {
             "pattern": {
              "fillmode": "overlay",
              "size": 10,
              "solidity": 0.2
             }
            },
            "type": "histogram"
           }
          ],
          "histogram2d": [
           {
            "colorbar": {
             "outlinewidth": 0,
             "ticks": ""
            },
            "colorscale": [
             [
              0,
              "#0d0887"
             ],
             [
              0.1111111111111111,
              "#46039f"
             ],
             [
              0.2222222222222222,
              "#7201a8"
             ],
             [
              0.3333333333333333,
              "#9c179e"
             ],
             [
              0.4444444444444444,
              "#bd3786"
             ],
             [
              0.5555555555555556,
              "#d8576b"
             ],
             [
              0.6666666666666666,
              "#ed7953"
             ],
             [
              0.7777777777777778,
              "#fb9f3a"
             ],
             [
              0.8888888888888888,
              "#fdca26"
             ],
             [
              1,
              "#f0f921"
             ]
            ],
            "type": "histogram2d"
           }
          ],
          "histogram2dcontour": [
           {
            "colorbar": {
             "outlinewidth": 0,
             "ticks": ""
            },
            "colorscale": [
             [
              0,
              "#0d0887"
             ],
             [
              0.1111111111111111,
              "#46039f"
             ],
             [
              0.2222222222222222,
              "#7201a8"
             ],
             [
              0.3333333333333333,
              "#9c179e"
             ],
             [
              0.4444444444444444,
              "#bd3786"
             ],
             [
              0.5555555555555556,
              "#d8576b"
             ],
             [
              0.6666666666666666,
              "#ed7953"
             ],
             [
              0.7777777777777778,
              "#fb9f3a"
             ],
             [
              0.8888888888888888,
              "#fdca26"
             ],
             [
              1,
              "#f0f921"
             ]
            ],
            "type": "histogram2dcontour"
           }
          ],
          "mesh3d": [
           {
            "colorbar": {
             "outlinewidth": 0,
             "ticks": ""
            },
            "type": "mesh3d"
           }
          ],
          "parcoords": [
           {
            "line": {
             "colorbar": {
              "outlinewidth": 0,
              "ticks": ""
             }
            },
            "type": "parcoords"
           }
          ],
          "pie": [
           {
            "automargin": true,
            "type": "pie"
           }
          ],
          "scatter": [
           {
            "fillpattern": {
             "fillmode": "overlay",
             "size": 10,
             "solidity": 0.2
            },
            "type": "scatter"
           }
          ],
          "scatter3d": [
           {
            "line": {
             "colorbar": {
              "outlinewidth": 0,
              "ticks": ""
             }
            },
            "marker": {
             "colorbar": {
              "outlinewidth": 0,
              "ticks": ""
             }
            },
            "type": "scatter3d"
           }
          ],
          "scattercarpet": [
           {
            "marker": {
             "colorbar": {
              "outlinewidth": 0,
              "ticks": ""
             }
            },
            "type": "scattercarpet"
           }
          ],
          "scattergeo": [
           {
            "marker": {
             "colorbar": {
              "outlinewidth": 0,
              "ticks": ""
             }
            },
            "type": "scattergeo"
           }
          ],
          "scattergl": [
           {
            "marker": {
             "colorbar": {
              "outlinewidth": 0,
              "ticks": ""
             }
            },
            "type": "scattergl"
           }
          ],
          "scattermapbox": [
           {
            "marker": {
             "colorbar": {
              "outlinewidth": 0,
              "ticks": ""
             }
            },
            "type": "scattermapbox"
           }
          ],
          "scatterpolar": [
           {
            "marker": {
             "colorbar": {
              "outlinewidth": 0,
              "ticks": ""
             }
            },
            "type": "scatterpolar"
           }
          ],
          "scatterpolargl": [
           {
            "marker": {
             "colorbar": {
              "outlinewidth": 0,
              "ticks": ""
             }
            },
            "type": "scatterpolargl"
           }
          ],
          "scatterternary": [
           {
            "marker": {
             "colorbar": {
              "outlinewidth": 0,
              "ticks": ""
             }
            },
            "type": "scatterternary"
           }
          ],
          "surface": [
           {
            "colorbar": {
             "outlinewidth": 0,
             "ticks": ""
            },
            "colorscale": [
             [
              0,
              "#0d0887"
             ],
             [
              0.1111111111111111,
              "#46039f"
             ],
             [
              0.2222222222222222,
              "#7201a8"
             ],
             [
              0.3333333333333333,
              "#9c179e"
             ],
             [
              0.4444444444444444,
              "#bd3786"
             ],
             [
              0.5555555555555556,
              "#d8576b"
             ],
             [
              0.6666666666666666,
              "#ed7953"
             ],
             [
              0.7777777777777778,
              "#fb9f3a"
             ],
             [
              0.8888888888888888,
              "#fdca26"
             ],
             [
              1,
              "#f0f921"
             ]
            ],
            "type": "surface"
           }
          ],
          "table": [
           {
            "cells": {
             "fill": {
              "color": "#EBF0F8"
             },
             "line": {
              "color": "white"
             }
            },
            "header": {
             "fill": {
              "color": "#C8D4E3"
             },
             "line": {
              "color": "white"
             }
            },
            "type": "table"
           }
          ]
         },
         "layout": {
          "annotationdefaults": {
           "arrowcolor": "#2a3f5f",
           "arrowhead": 0,
           "arrowwidth": 1
          },
          "autotypenumbers": "strict",
          "coloraxis": {
           "colorbar": {
            "outlinewidth": 0,
            "ticks": ""
           }
          },
          "colorscale": {
           "diverging": [
            [
             0,
             "#8e0152"
            ],
            [
             0.1,
             "#c51b7d"
            ],
            [
             0.2,
             "#de77ae"
            ],
            [
             0.3,
             "#f1b6da"
            ],
            [
             0.4,
             "#fde0ef"
            ],
            [
             0.5,
             "#f7f7f7"
            ],
            [
             0.6,
             "#e6f5d0"
            ],
            [
             0.7,
             "#b8e186"
            ],
            [
             0.8,
             "#7fbc41"
            ],
            [
             0.9,
             "#4d9221"
            ],
            [
             1,
             "#276419"
            ]
           ],
           "sequential": [
            [
             0,
             "#0d0887"
            ],
            [
             0.1111111111111111,
             "#46039f"
            ],
            [
             0.2222222222222222,
             "#7201a8"
            ],
            [
             0.3333333333333333,
             "#9c179e"
            ],
            [
             0.4444444444444444,
             "#bd3786"
            ],
            [
             0.5555555555555556,
             "#d8576b"
            ],
            [
             0.6666666666666666,
             "#ed7953"
            ],
            [
             0.7777777777777778,
             "#fb9f3a"
            ],
            [
             0.8888888888888888,
             "#fdca26"
            ],
            [
             1,
             "#f0f921"
            ]
           ],
           "sequentialminus": [
            [
             0,
             "#0d0887"
            ],
            [
             0.1111111111111111,
             "#46039f"
            ],
            [
             0.2222222222222222,
             "#7201a8"
            ],
            [
             0.3333333333333333,
             "#9c179e"
            ],
            [
             0.4444444444444444,
             "#bd3786"
            ],
            [
             0.5555555555555556,
             "#d8576b"
            ],
            [
             0.6666666666666666,
             "#ed7953"
            ],
            [
             0.7777777777777778,
             "#fb9f3a"
            ],
            [
             0.8888888888888888,
             "#fdca26"
            ],
            [
             1,
             "#f0f921"
            ]
           ]
          },
          "colorway": [
           "#636efa",
           "#EF553B",
           "#00cc96",
           "#ab63fa",
           "#FFA15A",
           "#19d3f3",
           "#FF6692",
           "#B6E880",
           "#FF97FF",
           "#FECB52"
          ],
          "font": {
           "color": "#2a3f5f"
          },
          "geo": {
           "bgcolor": "white",
           "lakecolor": "white",
           "landcolor": "white",
           "showlakes": true,
           "showland": true,
           "subunitcolor": "#C8D4E3"
          },
          "hoverlabel": {
           "align": "left"
          },
          "hovermode": "closest",
          "mapbox": {
           "style": "light"
          },
          "paper_bgcolor": "white",
          "plot_bgcolor": "white",
          "polar": {
           "angularaxis": {
            "gridcolor": "#EBF0F8",
            "linecolor": "#EBF0F8",
            "ticks": ""
           },
           "bgcolor": "white",
           "radialaxis": {
            "gridcolor": "#EBF0F8",
            "linecolor": "#EBF0F8",
            "ticks": ""
           }
          },
          "scene": {
           "xaxis": {
            "backgroundcolor": "white",
            "gridcolor": "#DFE8F3",
            "gridwidth": 2,
            "linecolor": "#EBF0F8",
            "showbackground": true,
            "ticks": "",
            "zerolinecolor": "#EBF0F8"
           },
           "yaxis": {
            "backgroundcolor": "white",
            "gridcolor": "#DFE8F3",
            "gridwidth": 2,
            "linecolor": "#EBF0F8",
            "showbackground": true,
            "ticks": "",
            "zerolinecolor": "#EBF0F8"
           },
           "zaxis": {
            "backgroundcolor": "white",
            "gridcolor": "#DFE8F3",
            "gridwidth": 2,
            "linecolor": "#EBF0F8",
            "showbackground": true,
            "ticks": "",
            "zerolinecolor": "#EBF0F8"
           }
          },
          "shapedefaults": {
           "line": {
            "color": "#2a3f5f"
           }
          },
          "ternary": {
           "aaxis": {
            "gridcolor": "#DFE8F3",
            "linecolor": "#A2B1C6",
            "ticks": ""
           },
           "baxis": {
            "gridcolor": "#DFE8F3",
            "linecolor": "#A2B1C6",
            "ticks": ""
           },
           "bgcolor": "white",
           "caxis": {
            "gridcolor": "#DFE8F3",
            "linecolor": "#A2B1C6",
            "ticks": ""
           }
          },
          "title": {
           "x": 0.05
          },
          "xaxis": {
           "automargin": true,
           "gridcolor": "#EBF0F8",
           "linecolor": "#EBF0F8",
           "ticks": "",
           "title": {
            "standoff": 15
           },
           "zerolinecolor": "#EBF0F8",
           "zerolinewidth": 2
          },
          "yaxis": {
           "automargin": true,
           "gridcolor": "#EBF0F8",
           "linecolor": "#EBF0F8",
           "ticks": "",
           "title": {
            "standoff": 15
           },
           "zerolinecolor": "#EBF0F8",
           "zerolinewidth": 2
          }
         }
        },
        "title": {
         "text": "Inventory by Area (Ranked)"
        },
        "xaxis": {
         "title": {
          "text": "Inventory"
         }
        },
        "yaxis": {
         "autorange": "reversed",
         "title": {
          "text": "Area"
         }
        }
       }
      },
      "text/html": [
       "<div>                            <div id=\"2b807a74-7129-4302-bdc5-438e3e7cfb9f\" class=\"plotly-graph-div\" style=\"height:525px; width:100%;\"></div>            <script type=\"text/javascript\">                require([\"plotly\"], function(Plotly) {                    window.PLOTLYENV=window.PLOTLYENV || {};                                    if (document.getElementById(\"2b807a74-7129-4302-bdc5-438e3e7cfb9f\")) {                    Plotly.newPlot(                        \"2b807a74-7129-4302-bdc5-438e3e7cfb9f\",                        [{\"marker\":{\"color\":\"blue\"},\"name\":\"Inventory\",\"orientation\":\"h\",\"text\":[null,null,null,null,null,null,null,null,null,null,null,null,null,null,null,null,null,null,null,null,null,null,null,null,null,null,null,null,null,null,null,null,null,null,null,null,null,null,null,null,null,null,null,null,null,null,null,null,null,null,null,null,null,null,null,null,null,null,null,null,null,null,null,null,null,null,null,null,null,365.0,332.0,306.0,296.5,282.0,271.0,269.0,167.0,166.0,148.0,140.0,133.0,116.0,102.0,97.5,75.0,74.0,67.5,63.0,59.33,58.67,56.8,55.9,55.0,53.5,53.0,51.5,51.33,51.0,50.0,49.75,49.0,48.09,48.0,46.62,46.33,46.25,43.0,40.91,40.6,40.0,40.0,38.0,37.0,37.0,37.0,35.38,35.0,35.0,34.78,34.5,34.5,34.0,33.33,33.0,32.5,32.0,31.67,31.25,29.0,29.0,27.7,26.5,26.4,24.5,24.17,24.0,24.0,24.0,23.0,23.0,22.0,21.0,19.6,19.5,18.0,17.0,16.0,15.67,14.29,14.0,14.0,14.0,13.5,12.67,12.67,12.62,12.5,11.0,11.0,11.0,11.0,10.67,10.5,10.0,9.0,7.0,6.75,5.5,4.0,3.0,1.0],\"textposition\":\"auto\",\"texttemplate\":\"%{text}\",\"x\":[null,null,null,null,null,null,null,null,null,null,null,null,null,null,null,null,null,null,null,null,null,null,null,null,null,null,null,null,null,null,null,null,null,null,null,null,null,null,null,null,null,null,null,null,null,null,null,null,null,null,null,null,null,null,null,null,null,null,null,null,null,null,null,null,null,null,null,null,null,365.0,332.0,306.0,296.5,282.0,271.0,269.0,167.0,166.0,148.0,140.0,133.0,116.0,102.0,97.5,75.0,74.0,67.5,63.0,59.333333333333336,58.666666666666664,56.8,55.9,55.0,53.5,53.0,51.5,51.333333333333336,51.0,50.0,49.75,49.0,48.09090909090909,48.0,46.61538461538461,46.333333333333336,46.25,43.0,40.90909090909091,40.6,40.0,40.0,38.0,37.0,37.0,37.0,35.38461538461539,35.0,35.0,34.77777777777778,34.5,34.5,34.0,33.333333333333336,33.0,32.5,32.0,31.666666666666668,31.25,29.0,29.0,27.7,26.5,26.4,24.5,24.166666666666668,24.0,24.0,24.0,23.0,23.0,22.0,21.0,19.6,19.5,18.0,17.0,16.0,15.666666666666666,14.285714285714286,14.0,14.0,14.0,13.5,12.666666666666666,12.666666666666666,12.625,12.5,11.0,11.0,11.0,11.0,10.666666666666666,10.5,10.0,9.0,7.0,6.75,5.5,4.0,3.0,1.0],\"y\":[\"aeroton\",\"morninghill\",\"melville\",\"maroeladal\",\"lanseria-and-surrounds\",\"kya-sands\",\"alan-manor\",\"kenilworth\",\"kelvin\",\"kelland\",\"jukskei-park\",\"industria\",\"inanda\",\"hurlingham-manor\",\"greenside\",\"glenvista\",\"glenanda\",\"gillview\",\"fourways-gardens\",\"farmall\",\"eye-of-africa\",\"essexwold\",\"emmarentia\",\"moffat-view\",\"nooitgedacht\",\"eikenhof\",\"noordhang\",\"windsor-glen\",\"whiteridge\",\"westbury\",\"wendywood\",\"turffontein\",\"the-hill\",\"strydompark\",\"strathavon\",\"steyn-city\",\"st-andrews\",\"sharonlea\",\"ruiterhof\",\"roseacre\",\"robindale\",\"robin-hills\",\"risidale\",\"ridgeway\",\"pineslopes\",\"petervale\",\"parkmore\",\"oriel\",\"elandspark\",\"khyber-rock\",\"woodmead\",\"crown-gardens\",\"bassonia-estate\",\"bedford-park\",\"bassonia\",\"bryanston-west\",\"cedar-creek\",\"atholl-gardens\",\"cedar-lakes\",\"bellairspark\",\"aspen-hills\",\"cresta\",\"aldara-park\",\"chartwell\",\"albertskroon\",\"berario\",\"delarey\",\"dainfern-valley\",\"dainfern-ridge\",\"sky-city\",\"bedfordview\",\"broadacres\",\"katlehong\",\"winchester-hills\",\"bedford-gardens\",\"sandown\",\"oakdene\",\"kibler-park\",\"meredale\",\"linbro-park\",\"alveda\",\"linmeyer\",\"jackal-creek-northriding\",\"northgate\",\"sonneglans\",\"beverley\",\"rosettenville\",\"mondeor\",\"naturena\",\"mulbarton\",\"ormonde\",\"fourways\",\"rivonia\",\"northcliff\",\"albertville\",\"bloubosrand\",\"craigavon\",\"sophiatown\",\"brixton\",\"buccleuch\",\"liefde-en-vrede\",\"morningside\",\"auckland-park\",\"north-riding\",\"olivedale\",\"bryanston\",\"south-hills\",\"ferndale\",\"dainfern\",\"kensington-b\",\"hyde-park\",\"haddon\",\"boskruin\",\"linden\",\"forest-hill\",\"cosmo-city\",\"richmond\",\"sandhurst\",\"sunninghill\",\"bergbron\",\"robertsham\",\"blackheath\",\"westdene\",\"regents-park\",\"windsor-west\",\"rembrandt-park\",\"lonehill\",\"edenburg\",\"benmore-gardens\",\"florida-glen\",\"douglasdale\",\"paulshof\",\"sundowner\",\"montgomery-park\",\"illovo\",\"bosmont\",\"bramley\",\"quellerina\",\"atholl\",\"kengies\",\"crosby\",\"bramley-park\",\"windsor-east\",\"lombardy-east\",\"victory-park\",\"hurlingham\",\"greymont\",\"northwold\",\"bromhof\",\"meadowbrook\",\"gallo-manor\",\"roosevelt-park\",\"newlands\",\"suideroord\",\"riverlea\",\"fairland\",\"blairgowrie\",\"bordeaux\",\"darrenwood\",\"fontainebleau\",\"randpark-ridge\",\"malanshof\",\"magaliessig\",\"morningside-manor\",\"president-ridge\",\"johannesburg-north\",\"river-club\",\"blair-atholl-estate\",\"randpark\",\"senderwood\",\"moret\"],\"type\":\"bar\"}],                        {\"template\":{\"data\":{\"barpolar\":[{\"marker\":{\"line\":{\"color\":\"white\",\"width\":0.5},\"pattern\":{\"fillmode\":\"overlay\",\"size\":10,\"solidity\":0.2}},\"type\":\"barpolar\"}],\"bar\":[{\"error_x\":{\"color\":\"#2a3f5f\"},\"error_y\":{\"color\":\"#2a3f5f\"},\"marker\":{\"line\":{\"color\":\"white\",\"width\":0.5},\"pattern\":{\"fillmode\":\"overlay\",\"size\":10,\"solidity\":0.2}},\"type\":\"bar\"}],\"carpet\":[{\"aaxis\":{\"endlinecolor\":\"#2a3f5f\",\"gridcolor\":\"#C8D4E3\",\"linecolor\":\"#C8D4E3\",\"minorgridcolor\":\"#C8D4E3\",\"startlinecolor\":\"#2a3f5f\"},\"baxis\":{\"endlinecolor\":\"#2a3f5f\",\"gridcolor\":\"#C8D4E3\",\"linecolor\":\"#C8D4E3\",\"minorgridcolor\":\"#C8D4E3\",\"startlinecolor\":\"#2a3f5f\"},\"type\":\"carpet\"}],\"choropleth\":[{\"colorbar\":{\"outlinewidth\":0,\"ticks\":\"\"},\"type\":\"choropleth\"}],\"contourcarpet\":[{\"colorbar\":{\"outlinewidth\":0,\"ticks\":\"\"},\"type\":\"contourcarpet\"}],\"contour\":[{\"colorbar\":{\"outlinewidth\":0,\"ticks\":\"\"},\"colorscale\":[[0.0,\"#0d0887\"],[0.1111111111111111,\"#46039f\"],[0.2222222222222222,\"#7201a8\"],[0.3333333333333333,\"#9c179e\"],[0.4444444444444444,\"#bd3786\"],[0.5555555555555556,\"#d8576b\"],[0.6666666666666666,\"#ed7953\"],[0.7777777777777778,\"#fb9f3a\"],[0.8888888888888888,\"#fdca26\"],[1.0,\"#f0f921\"]],\"type\":\"contour\"}],\"heatmapgl\":[{\"colorbar\":{\"outlinewidth\":0,\"ticks\":\"\"},\"colorscale\":[[0.0,\"#0d0887\"],[0.1111111111111111,\"#46039f\"],[0.2222222222222222,\"#7201a8\"],[0.3333333333333333,\"#9c179e\"],[0.4444444444444444,\"#bd3786\"],[0.5555555555555556,\"#d8576b\"],[0.6666666666666666,\"#ed7953\"],[0.7777777777777778,\"#fb9f3a\"],[0.8888888888888888,\"#fdca26\"],[1.0,\"#f0f921\"]],\"type\":\"heatmapgl\"}],\"heatmap\":[{\"colorbar\":{\"outlinewidth\":0,\"ticks\":\"\"},\"colorscale\":[[0.0,\"#0d0887\"],[0.1111111111111111,\"#46039f\"],[0.2222222222222222,\"#7201a8\"],[0.3333333333333333,\"#9c179e\"],[0.4444444444444444,\"#bd3786\"],[0.5555555555555556,\"#d8576b\"],[0.6666666666666666,\"#ed7953\"],[0.7777777777777778,\"#fb9f3a\"],[0.8888888888888888,\"#fdca26\"],[1.0,\"#f0f921\"]],\"type\":\"heatmap\"}],\"histogram2dcontour\":[{\"colorbar\":{\"outlinewidth\":0,\"ticks\":\"\"},\"colorscale\":[[0.0,\"#0d0887\"],[0.1111111111111111,\"#46039f\"],[0.2222222222222222,\"#7201a8\"],[0.3333333333333333,\"#9c179e\"],[0.4444444444444444,\"#bd3786\"],[0.5555555555555556,\"#d8576b\"],[0.6666666666666666,\"#ed7953\"],[0.7777777777777778,\"#fb9f3a\"],[0.8888888888888888,\"#fdca26\"],[1.0,\"#f0f921\"]],\"type\":\"histogram2dcontour\"}],\"histogram2d\":[{\"colorbar\":{\"outlinewidth\":0,\"ticks\":\"\"},\"colorscale\":[[0.0,\"#0d0887\"],[0.1111111111111111,\"#46039f\"],[0.2222222222222222,\"#7201a8\"],[0.3333333333333333,\"#9c179e\"],[0.4444444444444444,\"#bd3786\"],[0.5555555555555556,\"#d8576b\"],[0.6666666666666666,\"#ed7953\"],[0.7777777777777778,\"#fb9f3a\"],[0.8888888888888888,\"#fdca26\"],[1.0,\"#f0f921\"]],\"type\":\"histogram2d\"}],\"histogram\":[{\"marker\":{\"pattern\":{\"fillmode\":\"overlay\",\"size\":10,\"solidity\":0.2}},\"type\":\"histogram\"}],\"mesh3d\":[{\"colorbar\":{\"outlinewidth\":0,\"ticks\":\"\"},\"type\":\"mesh3d\"}],\"parcoords\":[{\"line\":{\"colorbar\":{\"outlinewidth\":0,\"ticks\":\"\"}},\"type\":\"parcoords\"}],\"pie\":[{\"automargin\":true,\"type\":\"pie\"}],\"scatter3d\":[{\"line\":{\"colorbar\":{\"outlinewidth\":0,\"ticks\":\"\"}},\"marker\":{\"colorbar\":{\"outlinewidth\":0,\"ticks\":\"\"}},\"type\":\"scatter3d\"}],\"scattercarpet\":[{\"marker\":{\"colorbar\":{\"outlinewidth\":0,\"ticks\":\"\"}},\"type\":\"scattercarpet\"}],\"scattergeo\":[{\"marker\":{\"colorbar\":{\"outlinewidth\":0,\"ticks\":\"\"}},\"type\":\"scattergeo\"}],\"scattergl\":[{\"marker\":{\"colorbar\":{\"outlinewidth\":0,\"ticks\":\"\"}},\"type\":\"scattergl\"}],\"scattermapbox\":[{\"marker\":{\"colorbar\":{\"outlinewidth\":0,\"ticks\":\"\"}},\"type\":\"scattermapbox\"}],\"scatterpolargl\":[{\"marker\":{\"colorbar\":{\"outlinewidth\":0,\"ticks\":\"\"}},\"type\":\"scatterpolargl\"}],\"scatterpolar\":[{\"marker\":{\"colorbar\":{\"outlinewidth\":0,\"ticks\":\"\"}},\"type\":\"scatterpolar\"}],\"scatter\":[{\"fillpattern\":{\"fillmode\":\"overlay\",\"size\":10,\"solidity\":0.2},\"type\":\"scatter\"}],\"scatterternary\":[{\"marker\":{\"colorbar\":{\"outlinewidth\":0,\"ticks\":\"\"}},\"type\":\"scatterternary\"}],\"surface\":[{\"colorbar\":{\"outlinewidth\":0,\"ticks\":\"\"},\"colorscale\":[[0.0,\"#0d0887\"],[0.1111111111111111,\"#46039f\"],[0.2222222222222222,\"#7201a8\"],[0.3333333333333333,\"#9c179e\"],[0.4444444444444444,\"#bd3786\"],[0.5555555555555556,\"#d8576b\"],[0.6666666666666666,\"#ed7953\"],[0.7777777777777778,\"#fb9f3a\"],[0.8888888888888888,\"#fdca26\"],[1.0,\"#f0f921\"]],\"type\":\"surface\"}],\"table\":[{\"cells\":{\"fill\":{\"color\":\"#EBF0F8\"},\"line\":{\"color\":\"white\"}},\"header\":{\"fill\":{\"color\":\"#C8D4E3\"},\"line\":{\"color\":\"white\"}},\"type\":\"table\"}]},\"layout\":{\"annotationdefaults\":{\"arrowcolor\":\"#2a3f5f\",\"arrowhead\":0,\"arrowwidth\":1},\"autotypenumbers\":\"strict\",\"coloraxis\":{\"colorbar\":{\"outlinewidth\":0,\"ticks\":\"\"}},\"colorscale\":{\"diverging\":[[0,\"#8e0152\"],[0.1,\"#c51b7d\"],[0.2,\"#de77ae\"],[0.3,\"#f1b6da\"],[0.4,\"#fde0ef\"],[0.5,\"#f7f7f7\"],[0.6,\"#e6f5d0\"],[0.7,\"#b8e186\"],[0.8,\"#7fbc41\"],[0.9,\"#4d9221\"],[1,\"#276419\"]],\"sequential\":[[0.0,\"#0d0887\"],[0.1111111111111111,\"#46039f\"],[0.2222222222222222,\"#7201a8\"],[0.3333333333333333,\"#9c179e\"],[0.4444444444444444,\"#bd3786\"],[0.5555555555555556,\"#d8576b\"],[0.6666666666666666,\"#ed7953\"],[0.7777777777777778,\"#fb9f3a\"],[0.8888888888888888,\"#fdca26\"],[1.0,\"#f0f921\"]],\"sequentialminus\":[[0.0,\"#0d0887\"],[0.1111111111111111,\"#46039f\"],[0.2222222222222222,\"#7201a8\"],[0.3333333333333333,\"#9c179e\"],[0.4444444444444444,\"#bd3786\"],[0.5555555555555556,\"#d8576b\"],[0.6666666666666666,\"#ed7953\"],[0.7777777777777778,\"#fb9f3a\"],[0.8888888888888888,\"#fdca26\"],[1.0,\"#f0f921\"]]},\"colorway\":[\"#636efa\",\"#EF553B\",\"#00cc96\",\"#ab63fa\",\"#FFA15A\",\"#19d3f3\",\"#FF6692\",\"#B6E880\",\"#FF97FF\",\"#FECB52\"],\"font\":{\"color\":\"#2a3f5f\"},\"geo\":{\"bgcolor\":\"white\",\"lakecolor\":\"white\",\"landcolor\":\"white\",\"showlakes\":true,\"showland\":true,\"subunitcolor\":\"#C8D4E3\"},\"hoverlabel\":{\"align\":\"left\"},\"hovermode\":\"closest\",\"mapbox\":{\"style\":\"light\"},\"paper_bgcolor\":\"white\",\"plot_bgcolor\":\"white\",\"polar\":{\"angularaxis\":{\"gridcolor\":\"#EBF0F8\",\"linecolor\":\"#EBF0F8\",\"ticks\":\"\"},\"bgcolor\":\"white\",\"radialaxis\":{\"gridcolor\":\"#EBF0F8\",\"linecolor\":\"#EBF0F8\",\"ticks\":\"\"}},\"scene\":{\"xaxis\":{\"backgroundcolor\":\"white\",\"gridcolor\":\"#DFE8F3\",\"gridwidth\":2,\"linecolor\":\"#EBF0F8\",\"showbackground\":true,\"ticks\":\"\",\"zerolinecolor\":\"#EBF0F8\"},\"yaxis\":{\"backgroundcolor\":\"white\",\"gridcolor\":\"#DFE8F3\",\"gridwidth\":2,\"linecolor\":\"#EBF0F8\",\"showbackground\":true,\"ticks\":\"\",\"zerolinecolor\":\"#EBF0F8\"},\"zaxis\":{\"backgroundcolor\":\"white\",\"gridcolor\":\"#DFE8F3\",\"gridwidth\":2,\"linecolor\":\"#EBF0F8\",\"showbackground\":true,\"ticks\":\"\",\"zerolinecolor\":\"#EBF0F8\"}},\"shapedefaults\":{\"line\":{\"color\":\"#2a3f5f\"}},\"ternary\":{\"aaxis\":{\"gridcolor\":\"#DFE8F3\",\"linecolor\":\"#A2B1C6\",\"ticks\":\"\"},\"baxis\":{\"gridcolor\":\"#DFE8F3\",\"linecolor\":\"#A2B1C6\",\"ticks\":\"\"},\"bgcolor\":\"white\",\"caxis\":{\"gridcolor\":\"#DFE8F3\",\"linecolor\":\"#A2B1C6\",\"ticks\":\"\"}},\"title\":{\"x\":0.05},\"xaxis\":{\"automargin\":true,\"gridcolor\":\"#EBF0F8\",\"linecolor\":\"#EBF0F8\",\"ticks\":\"\",\"title\":{\"standoff\":15},\"zerolinecolor\":\"#EBF0F8\",\"zerolinewidth\":2},\"yaxis\":{\"automargin\":true,\"gridcolor\":\"#EBF0F8\",\"linecolor\":\"#EBF0F8\",\"ticks\":\"\",\"title\":{\"standoff\":15},\"zerolinecolor\":\"#EBF0F8\",\"zerolinewidth\":2}}},\"yaxis\":{\"title\":{\"text\":\"Area\"},\"autorange\":\"reversed\"},\"title\":{\"text\":\"Inventory by Area (Ranked)\"},\"xaxis\":{\"title\":{\"text\":\"Inventory\"}},\"bargap\":0.15},                        {\"responsive\": true}                    ).then(function(){\n",
       "                            \n",
       "var gd = document.getElementById('2b807a74-7129-4302-bdc5-438e3e7cfb9f');\n",
       "var x = new MutationObserver(function (mutations, observer) {{\n",
       "        var display = window.getComputedStyle(gd).display;\n",
       "        if (!display || display === 'none') {{\n",
       "            console.log([gd, 'removed!']);\n",
       "            Plotly.purge(gd);\n",
       "            observer.disconnect();\n",
       "        }}\n",
       "}});\n",
       "\n",
       "// Listen for the removal of the full notebook cells\n",
       "var notebookContainer = gd.closest('#notebook-container');\n",
       "if (notebookContainer) {{\n",
       "    x.observe(notebookContainer, {childList: true});\n",
       "}}\n",
       "\n",
       "// Listen for the clearing of the current output cell\n",
       "var outputEl = gd.closest('.output');\n",
       "if (outputEl) {{\n",
       "    x.observe(outputEl, {childList: true});\n",
       "}}\n",
       "\n",
       "                        })                };                });            </script>        </div>"
      ]
     },
     "metadata": {},
     "output_type": "display_data"
    }
   ],
   "source": [
    "# Sort the DataFrame by 'Inventory' column in descending order\n",
    "sorted_df = grouped_df.sort_values(by='Inventory', ascending=False)\n",
    "\n",
    "# Create a Plotly horizontal bar chart\n",
    "fig = go.Figure()\n",
    "\n",
    "# Add a bar trace\n",
    "fig.add_trace(go.Bar(\n",
    "    x=sorted_df['Inventory'],  # Inventory values\n",
    "    y=sorted_df.index,  # Areas\n",
    "    orientation='h',  # Horizontal bar chart\n",
    "    marker_color='blue',\n",
    "    text=sorted_df['Inventory'].round(2),  # Round to 2 decimal places for visual clarity\n",
    "    textposition='auto',\n",
    "    texttemplate='%{text}',  # Show numbers on bars\n",
    "    name='Inventory'\n",
    "))\n",
    "\n",
    "# Update layout\n",
    "fig.update_layout(\n",
    "    title='Inventory by Area (Ranked)',\n",
    "    xaxis=dict(title='Inventory'),\n",
    "    yaxis=dict(title='Area', autorange=\"reversed\"),  # Reverse the y-axis for ranking\n",
    "    template='plotly_white',\n",
    "    bargap=0.15  # Set the gap between bars\n",
    ")\n",
    "\n",
    "# Show the plot\n",
    "fig.show()"
   ]
  }
 ],
 "metadata": {
  "kernelspec": {
   "display_name": "Python 3 (ipykernel)",
   "language": "python",
   "name": "python3"
  },
  "language_info": {
   "codemirror_mode": {
    "name": "ipython",
    "version": 3
   },
   "file_extension": ".py",
   "mimetype": "text/x-python",
   "name": "python",
   "nbconvert_exporter": "python",
   "pygments_lexer": "ipython3",
   "version": "3.9.13"
  }
 },
 "nbformat": 4,
 "nbformat_minor": 5
}
