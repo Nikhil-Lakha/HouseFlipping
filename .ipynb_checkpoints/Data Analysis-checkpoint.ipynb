{
 "cells": [
  {
   "cell_type": "code",
   "execution_count": 36,
   "id": "32a7e174",
   "metadata": {},
   "outputs": [],
   "source": [
    "import pandas as pd\n",
    "import numpy as np\n",
    "import matplotlib.pyplot as plt\n",
    "import ipywidgets as widgets\n",
    "from IPython.display import display, clear_output\n",
    "%matplotlib widget\n",
    "import plotly.graph_objects as go\n",
    "import re"
   ]
  },
  {
   "cell_type": "code",
   "execution_count": 37,
   "id": "4421c034",
   "metadata": {},
   "outputs": [
    {
     "data": {
      "text/html": [
       "<div>\n",
       "<style scoped>\n",
       "    .dataframe tbody tr th:only-of-type {\n",
       "        vertical-align: middle;\n",
       "    }\n",
       "\n",
       "    .dataframe tbody tr th {\n",
       "        vertical-align: top;\n",
       "    }\n",
       "\n",
       "    .dataframe thead th {\n",
       "        text-align: right;\n",
       "    }\n",
       "</style>\n",
       "<table border=\"1\" class=\"dataframe\">\n",
       "  <thead>\n",
       "    <tr style=\"text-align: right;\">\n",
       "      <th></th>\n",
       "      <th>Unnamed: 0</th>\n",
       "      <th>Title</th>\n",
       "      <th>Href</th>\n",
       "      <th>Bedrooms</th>\n",
       "      <th>Bathrooms</th>\n",
       "      <th>Covered Parkings</th>\n",
       "      <th>Lounges</th>\n",
       "      <th>Access Gate</th>\n",
       "      <th>Balcony</th>\n",
       "      <th>Built In Braai</th>\n",
       "      <th>...</th>\n",
       "      <th>Electricity Included</th>\n",
       "      <th>Borehole</th>\n",
       "      <th>Floor Area</th>\n",
       "      <th>Land Area</th>\n",
       "      <th>Rates</th>\n",
       "      <th>Levy</th>\n",
       "      <th>Province</th>\n",
       "      <th>City</th>\n",
       "      <th>Suburb</th>\n",
       "      <th>Area</th>\n",
       "    </tr>\n",
       "  </thead>\n",
       "  <tbody>\n",
       "    <tr>\n",
       "      <th>0</th>\n",
       "      <td>0</td>\n",
       "      <td>1 Bed Apartment in Bedfordview</td>\n",
       "      <td>https://www.privateproperty.co.za/for-sale/gauteng/johannesburg/bedfordview/bedfordview/g130-blackbrick-bedford/24-johnson-road/T3821226</td>\n",
       "      <td>1</td>\n",
       "      <td>1</td>\n",
       "      <td>1</td>\n",
       "      <td>1</td>\n",
       "      <td>✔</td>\n",
       "      <td>✔</td>\n",
       "      <td>✔</td>\n",
       "      <td>...</td>\n",
       "      <td>None</td>\n",
       "      <td>None</td>\n",
       "      <td>38 m²RatesR 503</td>\n",
       "      <td>NaN</td>\n",
       "      <td>R 503</td>\n",
       "      <td>NaN</td>\n",
       "      <td>gauteng</td>\n",
       "      <td>johannesburg</td>\n",
       "      <td>bedfordview</td>\n",
       "      <td>bedfordview</td>\n",
       "    </tr>\n",
       "    <tr>\n",
       "      <th>1</th>\n",
       "      <td>1</td>\n",
       "      <td>2 Bed Apartment in Bedfordview</td>\n",
       "      <td>https://www.privateproperty.co.za/for-sale/gauteng/johannesburg/bedfordview/bedfordview/1102-blackbrick-bedford/24-johnson-road/T3821231</td>\n",
       "      <td>2</td>\n",
       "      <td>2</td>\n",
       "      <td>2</td>\n",
       "      <td>1</td>\n",
       "      <td>✔</td>\n",
       "      <td>✔</td>\n",
       "      <td>✔</td>\n",
       "      <td>...</td>\n",
       "      <td>None</td>\n",
       "      <td>None</td>\n",
       "      <td>85 m²RatesR 894</td>\n",
       "      <td>NaN</td>\n",
       "      <td>R 894</td>\n",
       "      <td>NaN</td>\n",
       "      <td>gauteng</td>\n",
       "      <td>johannesburg</td>\n",
       "      <td>bedfordview</td>\n",
       "      <td>bedfordview</td>\n",
       "    </tr>\n",
       "    <tr>\n",
       "      <th>2</th>\n",
       "      <td>2</td>\n",
       "      <td>Studio apartment in Bedfordview</td>\n",
       "      <td>https://www.privateproperty.co.za/for-sale/gauteng/johannesburg/bedfordview/bedfordview/1097-blackbrick-bedford/24-johnson-road/T3821219</td>\n",
       "      <td>0.5</td>\n",
       "      <td>1</td>\n",
       "      <td>1</td>\n",
       "      <td>1</td>\n",
       "      <td>✔</td>\n",
       "      <td>None</td>\n",
       "      <td>✔</td>\n",
       "      <td>...</td>\n",
       "      <td>None</td>\n",
       "      <td>None</td>\n",
       "      <td>40 m²RatesR 320</td>\n",
       "      <td>NaN</td>\n",
       "      <td>R 320</td>\n",
       "      <td>NaN</td>\n",
       "      <td>gauteng</td>\n",
       "      <td>johannesburg</td>\n",
       "      <td>bedfordview</td>\n",
       "      <td>bedfordview</td>\n",
       "    </tr>\n",
       "    <tr>\n",
       "      <th>3</th>\n",
       "      <td>3</td>\n",
       "      <td>2 Bed Apartment in Bedford Gardens</td>\n",
       "      <td>https://www.privateproperty.co.za/for-sale/gauteng/johannesburg/bedfordview/bedford-gardens/33-kings-b-anerley/7-leicester-road/T4508721</td>\n",
       "      <td>2</td>\n",
       "      <td>2</td>\n",
       "      <td>1</td>\n",
       "      <td>1</td>\n",
       "      <td>✔</td>\n",
       "      <td>✔</td>\n",
       "      <td>None</td>\n",
       "      <td>...</td>\n",
       "      <td>None</td>\n",
       "      <td>None</td>\n",
       "      <td>123 m²RatesR 600</td>\n",
       "      <td>NaN</td>\n",
       "      <td>R 600</td>\n",
       "      <td>NaN</td>\n",
       "      <td>gauteng</td>\n",
       "      <td>johannesburg</td>\n",
       "      <td>bedfordview</td>\n",
       "      <td>bedford-gardens</td>\n",
       "    </tr>\n",
       "    <tr>\n",
       "      <th>4</th>\n",
       "      <td>4</td>\n",
       "      <td>2 Bed Townhouse in St Andrews</td>\n",
       "      <td>https://www.privateproperty.co.za/for-sale/gauteng/johannesburg/bedfordview/st-andrews/T4353067</td>\n",
       "      <td>2</td>\n",
       "      <td>2</td>\n",
       "      <td>1</td>\n",
       "      <td>1</td>\n",
       "      <td>None</td>\n",
       "      <td>✔</td>\n",
       "      <td>None</td>\n",
       "      <td>...</td>\n",
       "      <td>None</td>\n",
       "      <td>None</td>\n",
       "      <td>142 m²</td>\n",
       "      <td>8943 m²</td>\n",
       "      <td>NaN</td>\n",
       "      <td>NaN</td>\n",
       "      <td>gauteng</td>\n",
       "      <td>johannesburg</td>\n",
       "      <td>bedfordview</td>\n",
       "      <td>st-andrews</td>\n",
       "    </tr>\n",
       "    <tr>\n",
       "      <th>...</th>\n",
       "      <td>...</td>\n",
       "      <td>...</td>\n",
       "      <td>...</td>\n",
       "      <td>...</td>\n",
       "      <td>...</td>\n",
       "      <td>...</td>\n",
       "      <td>...</td>\n",
       "      <td>...</td>\n",
       "      <td>...</td>\n",
       "      <td>...</td>\n",
       "      <td>...</td>\n",
       "      <td>...</td>\n",
       "      <td>...</td>\n",
       "      <td>...</td>\n",
       "      <td>...</td>\n",
       "      <td>...</td>\n",
       "      <td>...</td>\n",
       "      <td>...</td>\n",
       "      <td>...</td>\n",
       "      <td>...</td>\n",
       "      <td>...</td>\n",
       "    </tr>\n",
       "    <tr>\n",
       "      <th>17680</th>\n",
       "      <td>17680</td>\n",
       "      <td>4 Bed House in Hurlingham</td>\n",
       "      <td>https://www.privateproperty.co.za/for-sale/gauteng/johannesburg/sandton-and-bryanston-north/hurlingham/T4207068</td>\n",
       "      <td>4</td>\n",
       "      <td>4</td>\n",
       "      <td>None</td>\n",
       "      <td>2</td>\n",
       "      <td>None</td>\n",
       "      <td>None</td>\n",
       "      <td>None</td>\n",
       "      <td>...</td>\n",
       "      <td>None</td>\n",
       "      <td>None</td>\n",
       "      <td>NaN</td>\n",
       "      <td>2075 m²None</td>\n",
       "      <td>NaN</td>\n",
       "      <td>NaN</td>\n",
       "      <td>gauteng</td>\n",
       "      <td>johannesburg</td>\n",
       "      <td>sandton-and-bryanston-north</td>\n",
       "      <td>hurlingham</td>\n",
       "    </tr>\n",
       "    <tr>\n",
       "      <th>17681</th>\n",
       "      <td>17681</td>\n",
       "      <td>2 Bed Apartment in Morningside</td>\n",
       "      <td>https://www.privateproperty.co.za/for-sale/gauteng/johannesburg/sandton-and-bryanston-north/morningside/T4515034</td>\n",
       "      <td>2</td>\n",
       "      <td>2</td>\n",
       "      <td>1</td>\n",
       "      <td>1</td>\n",
       "      <td>None</td>\n",
       "      <td>None</td>\n",
       "      <td>None</td>\n",
       "      <td>...</td>\n",
       "      <td>None</td>\n",
       "      <td>None</td>\n",
       "      <td>77 m²RatesR 2120</td>\n",
       "      <td>NaN</td>\n",
       "      <td>R 2120</td>\n",
       "      <td>NaN</td>\n",
       "      <td>gauteng</td>\n",
       "      <td>johannesburg</td>\n",
       "      <td>sandton-and-bryanston-north</td>\n",
       "      <td>morningside</td>\n",
       "    </tr>\n",
       "    <tr>\n",
       "      <th>17682</th>\n",
       "      <td>17682</td>\n",
       "      <td>2 Bed Apartment in Buccleuch</td>\n",
       "      <td>https://www.privateproperty.co.za/for-sale/gauteng/johannesburg/sandton-and-bryanston-north/buccleuch/T4406410</td>\n",
       "      <td>2</td>\n",
       "      <td>1</td>\n",
       "      <td>2</td>\n",
       "      <td>1</td>\n",
       "      <td>None</td>\n",
       "      <td>None</td>\n",
       "      <td>None</td>\n",
       "      <td>...</td>\n",
       "      <td>None</td>\n",
       "      <td>None</td>\n",
       "      <td>NaN</td>\n",
       "      <td>57 m²</td>\n",
       "      <td>R 500</td>\n",
       "      <td>NaN</td>\n",
       "      <td>gauteng</td>\n",
       "      <td>johannesburg</td>\n",
       "      <td>sandton-and-bryanston-north</td>\n",
       "      <td>buccleuch</td>\n",
       "    </tr>\n",
       "    <tr>\n",
       "      <th>17683</th>\n",
       "      <td>17683</td>\n",
       "      <td>3 Bed House in Bryanston</td>\n",
       "      <td>https://www.privateproperty.co.za/for-sale/gauteng/johannesburg/sandton-and-bryanston-north/bryanston/T4073196</td>\n",
       "      <td>3</td>\n",
       "      <td>2</td>\n",
       "      <td>None</td>\n",
       "      <td>1</td>\n",
       "      <td>None</td>\n",
       "      <td>None</td>\n",
       "      <td>None</td>\n",
       "      <td>...</td>\n",
       "      <td>None</td>\n",
       "      <td>None</td>\n",
       "      <td>NaN</td>\n",
       "      <td>164 m²</td>\n",
       "      <td>R 3462</td>\n",
       "      <td>NaN</td>\n",
       "      <td>gauteng</td>\n",
       "      <td>johannesburg</td>\n",
       "      <td>sandton-and-bryanston-north</td>\n",
       "      <td>bryanston</td>\n",
       "    </tr>\n",
       "    <tr>\n",
       "      <th>17684</th>\n",
       "      <td>17684</td>\n",
       "      <td>5 Bed House in Hyde Park</td>\n",
       "      <td>https://www.privateproperty.co.za/for-sale/gauteng/johannesburg/sandton-and-bryanston-north/hyde-park/T4523625</td>\n",
       "      <td>5</td>\n",
       "      <td>5.5</td>\n",
       "      <td>8</td>\n",
       "      <td>4</td>\n",
       "      <td>None</td>\n",
       "      <td>None</td>\n",
       "      <td>None</td>\n",
       "      <td>...</td>\n",
       "      <td>None</td>\n",
       "      <td>None</td>\n",
       "      <td>2298 m²</td>\n",
       "      <td>4706 m²</td>\n",
       "      <td>NaN</td>\n",
       "      <td>NaN</td>\n",
       "      <td>gauteng</td>\n",
       "      <td>johannesburg</td>\n",
       "      <td>sandton-and-bryanston-north</td>\n",
       "      <td>hyde-park</td>\n",
       "    </tr>\n",
       "  </tbody>\n",
       "</table>\n",
       "<p>17685 rows × 71 columns</p>\n",
       "</div>"
      ],
      "text/plain": [
       "       Unnamed: 0                               Title  \\\n",
       "0               0      1 Bed Apartment in Bedfordview   \n",
       "1               1      2 Bed Apartment in Bedfordview   \n",
       "2               2     Studio apartment in Bedfordview   \n",
       "3               3  2 Bed Apartment in Bedford Gardens   \n",
       "4               4       2 Bed Townhouse in St Andrews   \n",
       "...           ...                                 ...   \n",
       "17680       17680           4 Bed House in Hurlingham   \n",
       "17681       17681      2 Bed Apartment in Morningside   \n",
       "17682       17682        2 Bed Apartment in Buccleuch   \n",
       "17683       17683            3 Bed House in Bryanston   \n",
       "17684       17684            5 Bed House in Hyde Park   \n",
       "\n",
       "                                                                                                                                           Href  \\\n",
       "0      https://www.privateproperty.co.za/for-sale/gauteng/johannesburg/bedfordview/bedfordview/g130-blackbrick-bedford/24-johnson-road/T3821226   \n",
       "1      https://www.privateproperty.co.za/for-sale/gauteng/johannesburg/bedfordview/bedfordview/1102-blackbrick-bedford/24-johnson-road/T3821231   \n",
       "2      https://www.privateproperty.co.za/for-sale/gauteng/johannesburg/bedfordview/bedfordview/1097-blackbrick-bedford/24-johnson-road/T3821219   \n",
       "3      https://www.privateproperty.co.za/for-sale/gauteng/johannesburg/bedfordview/bedford-gardens/33-kings-b-anerley/7-leicester-road/T4508721   \n",
       "4                                               https://www.privateproperty.co.za/for-sale/gauteng/johannesburg/bedfordview/st-andrews/T4353067   \n",
       "...                                                                                                                                         ...   \n",
       "17680                           https://www.privateproperty.co.za/for-sale/gauteng/johannesburg/sandton-and-bryanston-north/hurlingham/T4207068   \n",
       "17681                          https://www.privateproperty.co.za/for-sale/gauteng/johannesburg/sandton-and-bryanston-north/morningside/T4515034   \n",
       "17682                            https://www.privateproperty.co.za/for-sale/gauteng/johannesburg/sandton-and-bryanston-north/buccleuch/T4406410   \n",
       "17683                            https://www.privateproperty.co.za/for-sale/gauteng/johannesburg/sandton-and-bryanston-north/bryanston/T4073196   \n",
       "17684                            https://www.privateproperty.co.za/for-sale/gauteng/johannesburg/sandton-and-bryanston-north/hyde-park/T4523625   \n",
       "\n",
       "      Bedrooms Bathrooms Covered Parkings Lounges Access Gate Balcony  \\\n",
       "0            1         1                1       1           ✔       ✔   \n",
       "1            2         2                2       1           ✔       ✔   \n",
       "2          0.5         1                1       1           ✔    None   \n",
       "3            2         2                1       1           ✔       ✔   \n",
       "4            2         2                1       1        None       ✔   \n",
       "...        ...       ...              ...     ...         ...     ...   \n",
       "17680        4         4             None       2        None    None   \n",
       "17681        2         2                1       1        None    None   \n",
       "17682        2         1                2       1        None    None   \n",
       "17683        3         2             None       1        None    None   \n",
       "17684        5       5.5                8       4        None    None   \n",
       "\n",
       "      Built In Braai  ... Electricity Included Borehole        Floor Area  \\\n",
       "0                  ✔  ...                 None     None   38 m²RatesR 503   \n",
       "1                  ✔  ...                 None     None   85 m²RatesR 894   \n",
       "2                  ✔  ...                 None     None   40 m²RatesR 320   \n",
       "3               None  ...                 None     None  123 m²RatesR 600   \n",
       "4               None  ...                 None     None            142 m²   \n",
       "...              ...  ...                  ...      ...               ...   \n",
       "17680           None  ...                 None     None               NaN   \n",
       "17681           None  ...                 None     None  77 m²RatesR 2120   \n",
       "17682           None  ...                 None     None               NaN   \n",
       "17683           None  ...                 None     None               NaN   \n",
       "17684           None  ...                 None     None           2298 m²   \n",
       "\n",
       "         Land Area   Rates Levy Province          City  \\\n",
       "0              NaN   R 503  NaN  gauteng  johannesburg   \n",
       "1              NaN   R 894  NaN  gauteng  johannesburg   \n",
       "2              NaN   R 320  NaN  gauteng  johannesburg   \n",
       "3              NaN   R 600  NaN  gauteng  johannesburg   \n",
       "4          8943 m²     NaN  NaN  gauteng  johannesburg   \n",
       "...            ...     ...  ...      ...           ...   \n",
       "17680  2075 m²None     NaN  NaN  gauteng  johannesburg   \n",
       "17681          NaN  R 2120  NaN  gauteng  johannesburg   \n",
       "17682        57 m²   R 500  NaN  gauteng  johannesburg   \n",
       "17683       164 m²  R 3462  NaN  gauteng  johannesburg   \n",
       "17684      4706 m²     NaN  NaN  gauteng  johannesburg   \n",
       "\n",
       "                            Suburb             Area  \n",
       "0                      bedfordview      bedfordview  \n",
       "1                      bedfordview      bedfordview  \n",
       "2                      bedfordview      bedfordview  \n",
       "3                      bedfordview  bedford-gardens  \n",
       "4                      bedfordview       st-andrews  \n",
       "...                            ...              ...  \n",
       "17680  sandton-and-bryanston-north       hurlingham  \n",
       "17681  sandton-and-bryanston-north      morningside  \n",
       "17682  sandton-and-bryanston-north        buccleuch  \n",
       "17683  sandton-and-bryanston-north        bryanston  \n",
       "17684  sandton-and-bryanston-north        hyde-park  \n",
       "\n",
       "[17685 rows x 71 columns]"
      ]
     },
     "metadata": {},
     "output_type": "display_data"
    }
   ],
   "source": [
    "property_list = pd.read_csv('all_property_details.csv', index_col=0)\n",
    "# Set display options for Pandas DataFrame\n",
    "pd.set_option('display.max_colwidth', None)\n",
    "\n",
    "# Display DataFrame\n",
    "display(property_list)"
   ]
  },
  {
   "cell_type": "markdown",
   "id": "d20c5d80",
   "metadata": {},
   "source": [
    "# Cleaning Data"
   ]
  },
  {
   "cell_type": "code",
   "execution_count": 38,
   "id": "912fd326",
   "metadata": {},
   "outputs": [
    {
     "data": {
      "text/html": [
       "<div>\n",
       "<style scoped>\n",
       "    .dataframe tbody tr th:only-of-type {\n",
       "        vertical-align: middle;\n",
       "    }\n",
       "\n",
       "    .dataframe tbody tr th {\n",
       "        vertical-align: top;\n",
       "    }\n",
       "\n",
       "    .dataframe thead th {\n",
       "        text-align: right;\n",
       "    }\n",
       "</style>\n",
       "<table border=\"1\" class=\"dataframe\">\n",
       "  <thead>\n",
       "    <tr style=\"text-align: right;\">\n",
       "      <th></th>\n",
       "      <th>Unnamed: 0</th>\n",
       "      <th>Title</th>\n",
       "      <th>Href</th>\n",
       "      <th>Bedrooms</th>\n",
       "      <th>Bathrooms</th>\n",
       "      <th>Covered Parkings</th>\n",
       "      <th>Lounges</th>\n",
       "      <th>Access Gate</th>\n",
       "      <th>Balcony</th>\n",
       "      <th>Built In Braai</th>\n",
       "      <th>...</th>\n",
       "      <th>Electricity Included</th>\n",
       "      <th>Borehole</th>\n",
       "      <th>Floor Area</th>\n",
       "      <th>Land Area</th>\n",
       "      <th>Rates</th>\n",
       "      <th>Levy</th>\n",
       "      <th>Province</th>\n",
       "      <th>City</th>\n",
       "      <th>Suburb</th>\n",
       "      <th>Area</th>\n",
       "    </tr>\n",
       "  </thead>\n",
       "  <tbody>\n",
       "    <tr>\n",
       "      <th>0</th>\n",
       "      <td>0</td>\n",
       "      <td>1 Bed Apartment in Bedfordview</td>\n",
       "      <td>https://www.privateproperty.co.za/for-sale/gauteng/johannesburg/bedfordview/bedfordview/g130-blackbrick-bedford/24-johnson-road/T3821226</td>\n",
       "      <td>1</td>\n",
       "      <td>1</td>\n",
       "      <td>1</td>\n",
       "      <td>1</td>\n",
       "      <td>1.0</td>\n",
       "      <td>1.0</td>\n",
       "      <td>1.0</td>\n",
       "      <td>...</td>\n",
       "      <td>NaN</td>\n",
       "      <td>NaN</td>\n",
       "      <td>38 m²RatesR 503</td>\n",
       "      <td>NaN</td>\n",
       "      <td>R 503</td>\n",
       "      <td>NaN</td>\n",
       "      <td>gauteng</td>\n",
       "      <td>johannesburg</td>\n",
       "      <td>bedfordview</td>\n",
       "      <td>bedfordview</td>\n",
       "    </tr>\n",
       "    <tr>\n",
       "      <th>1</th>\n",
       "      <td>1</td>\n",
       "      <td>2 Bed Apartment in Bedfordview</td>\n",
       "      <td>https://www.privateproperty.co.za/for-sale/gauteng/johannesburg/bedfordview/bedfordview/1102-blackbrick-bedford/24-johnson-road/T3821231</td>\n",
       "      <td>2</td>\n",
       "      <td>2</td>\n",
       "      <td>2</td>\n",
       "      <td>1</td>\n",
       "      <td>1.0</td>\n",
       "      <td>1.0</td>\n",
       "      <td>1.0</td>\n",
       "      <td>...</td>\n",
       "      <td>NaN</td>\n",
       "      <td>NaN</td>\n",
       "      <td>85 m²RatesR 894</td>\n",
       "      <td>NaN</td>\n",
       "      <td>R 894</td>\n",
       "      <td>NaN</td>\n",
       "      <td>gauteng</td>\n",
       "      <td>johannesburg</td>\n",
       "      <td>bedfordview</td>\n",
       "      <td>bedfordview</td>\n",
       "    </tr>\n",
       "    <tr>\n",
       "      <th>2</th>\n",
       "      <td>2</td>\n",
       "      <td>Studio apartment in Bedfordview</td>\n",
       "      <td>https://www.privateproperty.co.za/for-sale/gauteng/johannesburg/bedfordview/bedfordview/1097-blackbrick-bedford/24-johnson-road/T3821219</td>\n",
       "      <td>0.5</td>\n",
       "      <td>1</td>\n",
       "      <td>1</td>\n",
       "      <td>1</td>\n",
       "      <td>1.0</td>\n",
       "      <td>NaN</td>\n",
       "      <td>1.0</td>\n",
       "      <td>...</td>\n",
       "      <td>NaN</td>\n",
       "      <td>NaN</td>\n",
       "      <td>40 m²RatesR 320</td>\n",
       "      <td>NaN</td>\n",
       "      <td>R 320</td>\n",
       "      <td>NaN</td>\n",
       "      <td>gauteng</td>\n",
       "      <td>johannesburg</td>\n",
       "      <td>bedfordview</td>\n",
       "      <td>bedfordview</td>\n",
       "    </tr>\n",
       "    <tr>\n",
       "      <th>3</th>\n",
       "      <td>3</td>\n",
       "      <td>2 Bed Apartment in Bedford Gardens</td>\n",
       "      <td>https://www.privateproperty.co.za/for-sale/gauteng/johannesburg/bedfordview/bedford-gardens/33-kings-b-anerley/7-leicester-road/T4508721</td>\n",
       "      <td>2</td>\n",
       "      <td>2</td>\n",
       "      <td>1</td>\n",
       "      <td>1</td>\n",
       "      <td>1.0</td>\n",
       "      <td>1.0</td>\n",
       "      <td>NaN</td>\n",
       "      <td>...</td>\n",
       "      <td>NaN</td>\n",
       "      <td>NaN</td>\n",
       "      <td>123 m²RatesR 600</td>\n",
       "      <td>NaN</td>\n",
       "      <td>R 600</td>\n",
       "      <td>NaN</td>\n",
       "      <td>gauteng</td>\n",
       "      <td>johannesburg</td>\n",
       "      <td>bedfordview</td>\n",
       "      <td>bedford-gardens</td>\n",
       "    </tr>\n",
       "    <tr>\n",
       "      <th>4</th>\n",
       "      <td>4</td>\n",
       "      <td>2 Bed Townhouse in St Andrews</td>\n",
       "      <td>https://www.privateproperty.co.za/for-sale/gauteng/johannesburg/bedfordview/st-andrews/T4353067</td>\n",
       "      <td>2</td>\n",
       "      <td>2</td>\n",
       "      <td>1</td>\n",
       "      <td>1</td>\n",
       "      <td>NaN</td>\n",
       "      <td>1.0</td>\n",
       "      <td>NaN</td>\n",
       "      <td>...</td>\n",
       "      <td>NaN</td>\n",
       "      <td>NaN</td>\n",
       "      <td>142 m²</td>\n",
       "      <td>8943 m²</td>\n",
       "      <td>NaN</td>\n",
       "      <td>NaN</td>\n",
       "      <td>gauteng</td>\n",
       "      <td>johannesburg</td>\n",
       "      <td>bedfordview</td>\n",
       "      <td>st-andrews</td>\n",
       "    </tr>\n",
       "  </tbody>\n",
       "</table>\n",
       "<p>5 rows × 71 columns</p>\n",
       "</div>"
      ],
      "text/plain": [
       "   Unnamed: 0                               Title  \\\n",
       "0           0      1 Bed Apartment in Bedfordview   \n",
       "1           1      2 Bed Apartment in Bedfordview   \n",
       "2           2     Studio apartment in Bedfordview   \n",
       "3           3  2 Bed Apartment in Bedford Gardens   \n",
       "4           4       2 Bed Townhouse in St Andrews   \n",
       "\n",
       "                                                                                                                                       Href  \\\n",
       "0  https://www.privateproperty.co.za/for-sale/gauteng/johannesburg/bedfordview/bedfordview/g130-blackbrick-bedford/24-johnson-road/T3821226   \n",
       "1  https://www.privateproperty.co.za/for-sale/gauteng/johannesburg/bedfordview/bedfordview/1102-blackbrick-bedford/24-johnson-road/T3821231   \n",
       "2  https://www.privateproperty.co.za/for-sale/gauteng/johannesburg/bedfordview/bedfordview/1097-blackbrick-bedford/24-johnson-road/T3821219   \n",
       "3  https://www.privateproperty.co.za/for-sale/gauteng/johannesburg/bedfordview/bedford-gardens/33-kings-b-anerley/7-leicester-road/T4508721   \n",
       "4                                           https://www.privateproperty.co.za/for-sale/gauteng/johannesburg/bedfordview/st-andrews/T4353067   \n",
       "\n",
       "  Bedrooms Bathrooms Covered Parkings Lounges  Access Gate  Balcony  \\\n",
       "0        1         1                1       1          1.0      1.0   \n",
       "1        2         2                2       1          1.0      1.0   \n",
       "2      0.5         1                1       1          1.0      NaN   \n",
       "3        2         2                1       1          1.0      1.0   \n",
       "4        2         2                1       1          NaN      1.0   \n",
       "\n",
       "   Built In Braai  ...  Electricity Included  Borehole        Floor Area  \\\n",
       "0             1.0  ...                   NaN       NaN   38 m²RatesR 503   \n",
       "1             1.0  ...                   NaN       NaN   85 m²RatesR 894   \n",
       "2             1.0  ...                   NaN       NaN   40 m²RatesR 320   \n",
       "3             NaN  ...                   NaN       NaN  123 m²RatesR 600   \n",
       "4             NaN  ...                   NaN       NaN            142 m²   \n",
       "\n",
       "   Land Area  Rates  Levy  Province          City       Suburb  \\\n",
       "0        NaN  R 503   NaN   gauteng  johannesburg  bedfordview   \n",
       "1        NaN  R 894   NaN   gauteng  johannesburg  bedfordview   \n",
       "2        NaN  R 320   NaN   gauteng  johannesburg  bedfordview   \n",
       "3        NaN  R 600   NaN   gauteng  johannesburg  bedfordview   \n",
       "4    8943 m²    NaN   NaN   gauteng  johannesburg  bedfordview   \n",
       "\n",
       "              Area  \n",
       "0      bedfordview  \n",
       "1      bedfordview  \n",
       "2      bedfordview  \n",
       "3  bedford-gardens  \n",
       "4       st-andrews  \n",
       "\n",
       "[5 rows x 71 columns]"
      ]
     },
     "execution_count": 38,
     "metadata": {},
     "output_type": "execute_result"
    }
   ],
   "source": [
    "property_list = property_list.replace(to_replace='None', value=np.nan)\n",
    "property_list = property_list.replace(to_replace='✔', value=1)\n",
    "property_list.head()"
   ]
  },
  {
   "cell_type": "code",
   "execution_count": 39,
   "id": "e10dd0e4",
   "metadata": {},
   "outputs": [
    {
     "data": {
      "application/vnd.jupyter.widget-view+json": {
       "model_id": "1b5ba4e76f15427cae645305dc754693",
       "version_major": 2,
       "version_minor": 0
      },
      "image/png": "[encoded data removed]",
      "text/html": [
       "\n",
       "            <div style=\"display: inline-block;\">\n",
       "                <div class=\"jupyter-widgets widget-label\" style=\"text-align: center;\">\n",
       "                    Figure\n",
       "                </div>\n",
       "                <img src='data:image/png;base64,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' width=2000.0/>\n",
       "            </div>\n",
       "        "
      ],
      "text/plain": [
       "Canvas(toolbar=Toolbar(toolitems=[('Home', 'Reset original view', 'home', 'home'), ('Back', 'Back to previous …"
      ]
     },
     "metadata": {},
     "output_type": "display_data"
    }
   ],
   "source": [
    "# Calculate the percentage of NaN values per column\n",
    "nan_percentages = (property_list.isna().sum() / len(property_list)) * 100\n",
    "\n",
    "# Sort the NaN percentages from highest to lowest\n",
    "nan_percentages_sorted = nan_percentages.sort_values(ascending=True)\n",
    "\n",
    "# Plotting the sorted percentages\n",
    "nan_percentages_sorted.plot(kind='barh', color='skyblue', figsize=(20, 12))\n",
    "\n",
    "plt.title('Percentage of NaN Values per Column')\n",
    "plt.xlabel('Percentage of NaN')\n",
    "plt.ylabel('Columns')\n",
    "plt.xlim(0, 100)\n",
    "\n",
    "# Adding the percentage values on the right of each bar\n",
    "for i in range(len(nan_percentages_sorted)):\n",
    "    plt.text(x=nan_percentages_sorted[i] + 1, y=i, s=f'{nan_percentages_sorted[i]:.2f}%', va='center')\n",
    "\n",
    "plt.tight_layout()\n",
    "plt.show()"
   ]
  },
  {
   "cell_type": "code",
   "execution_count": 40,
   "id": "26046517",
   "metadata": {},
   "outputs": [],
   "source": [
    "# Filter columns where percentage of NaN is 60% or more\n",
    "columns_to_remove = nan_percentages[nan_percentages >= 45].index\n",
    "# Remove the filtered columns\n",
    "property_list = property_list.drop(columns=columns_to_remove)"
   ]
  },
  {
   "cell_type": "code",
   "execution_count": 41,
   "id": "57541897",
   "metadata": {},
   "outputs": [
    {
     "data": {
      "text/html": [
       "<div>\n",
       "<style scoped>\n",
       "    .dataframe tbody tr th:only-of-type {\n",
       "        vertical-align: middle;\n",
       "    }\n",
       "\n",
       "    .dataframe tbody tr th {\n",
       "        vertical-align: top;\n",
       "    }\n",
       "\n",
       "    .dataframe thead th {\n",
       "        text-align: right;\n",
       "    }\n",
       "</style>\n",
       "<table border=\"1\" class=\"dataframe\">\n",
       "  <thead>\n",
       "    <tr style=\"text-align: right;\">\n",
       "      <th></th>\n",
       "      <th>Unnamed: 0</th>\n",
       "      <th>Title</th>\n",
       "      <th>Href</th>\n",
       "      <th>Bedrooms</th>\n",
       "      <th>Bathrooms</th>\n",
       "      <th>Lounges</th>\n",
       "      <th>Kitchen</th>\n",
       "      <th>Main Value 3</th>\n",
       "      <th>Price</th>\n",
       "      <th>Floor Area</th>\n",
       "      <th>Province</th>\n",
       "      <th>City</th>\n",
       "      <th>Suburb</th>\n",
       "      <th>Area</th>\n",
       "    </tr>\n",
       "  </thead>\n",
       "  <tbody>\n",
       "    <tr>\n",
       "      <th>0</th>\n",
       "      <td>0</td>\n",
       "      <td>1 Bed Apartment in Bedfordview</td>\n",
       "      <td>https://www.privateproperty.co.za/for-sale/gauteng/johannesburg/bedfordview/bedfordview/g130-blackbrick-bedford/24-johnson-road/T3821226</td>\n",
       "      <td>1</td>\n",
       "      <td>1</td>\n",
       "      <td>1</td>\n",
       "      <td>1.0</td>\n",
       "      <td>LevyR 1295</td>\n",
       "      <td>1 175 000</td>\n",
       "      <td>38 m²RatesR 503</td>\n",
       "      <td>gauteng</td>\n",
       "      <td>johannesburg</td>\n",
       "      <td>bedfordview</td>\n",
       "      <td>bedfordview</td>\n",
       "    </tr>\n",
       "    <tr>\n",
       "      <th>1</th>\n",
       "      <td>1</td>\n",
       "      <td>2 Bed Apartment in Bedfordview</td>\n",
       "      <td>https://www.privateproperty.co.za/for-sale/gauteng/johannesburg/bedfordview/bedfordview/1102-blackbrick-bedford/24-johnson-road/T3821231</td>\n",
       "      <td>2</td>\n",
       "      <td>2</td>\n",
       "      <td>1</td>\n",
       "      <td>1.0</td>\n",
       "      <td>LevyR 2035</td>\n",
       "      <td>1 675 000</td>\n",
       "      <td>85 m²RatesR 894</td>\n",
       "      <td>gauteng</td>\n",
       "      <td>johannesburg</td>\n",
       "      <td>bedfordview</td>\n",
       "      <td>bedfordview</td>\n",
       "    </tr>\n",
       "    <tr>\n",
       "      <th>2</th>\n",
       "      <td>2</td>\n",
       "      <td>Studio apartment in Bedfordview</td>\n",
       "      <td>https://www.privateproperty.co.za/for-sale/gauteng/johannesburg/bedfordview/bedfordview/1097-blackbrick-bedford/24-johnson-road/T3821219</td>\n",
       "      <td>0.5</td>\n",
       "      <td>1</td>\n",
       "      <td>1</td>\n",
       "      <td>1.0</td>\n",
       "      <td>LevyR 1400</td>\n",
       "      <td>929 000</td>\n",
       "      <td>40 m²RatesR 320</td>\n",
       "      <td>gauteng</td>\n",
       "      <td>johannesburg</td>\n",
       "      <td>bedfordview</td>\n",
       "      <td>bedfordview</td>\n",
       "    </tr>\n",
       "    <tr>\n",
       "      <th>3</th>\n",
       "      <td>3</td>\n",
       "      <td>2 Bed Apartment in Bedford Gardens</td>\n",
       "      <td>https://www.privateproperty.co.za/for-sale/gauteng/johannesburg/bedfordview/bedford-gardens/33-kings-b-anerley/7-leicester-road/T4508721</td>\n",
       "      <td>2</td>\n",
       "      <td>2</td>\n",
       "      <td>1</td>\n",
       "      <td>1.0</td>\n",
       "      <td>LevyR 2500</td>\n",
       "      <td>1 150 000</td>\n",
       "      <td>123 m²RatesR 600</td>\n",
       "      <td>gauteng</td>\n",
       "      <td>johannesburg</td>\n",
       "      <td>bedfordview</td>\n",
       "      <td>bedford-gardens</td>\n",
       "    </tr>\n",
       "    <tr>\n",
       "      <th>4</th>\n",
       "      <td>4</td>\n",
       "      <td>2 Bed Townhouse in St Andrews</td>\n",
       "      <td>https://www.privateproperty.co.za/for-sale/gauteng/johannesburg/bedfordview/st-andrews/T4353067</td>\n",
       "      <td>2</td>\n",
       "      <td>2</td>\n",
       "      <td>1</td>\n",
       "      <td>1.0</td>\n",
       "      <td>RatesR 1061</td>\n",
       "      <td>1 350 000</td>\n",
       "      <td>142 m²</td>\n",
       "      <td>gauteng</td>\n",
       "      <td>johannesburg</td>\n",
       "      <td>bedfordview</td>\n",
       "      <td>st-andrews</td>\n",
       "    </tr>\n",
       "  </tbody>\n",
       "</table>\n",
       "</div>"
      ],
      "text/plain": [
       "   Unnamed: 0                               Title  \\\n",
       "0           0      1 Bed Apartment in Bedfordview   \n",
       "1           1      2 Bed Apartment in Bedfordview   \n",
       "2           2     Studio apartment in Bedfordview   \n",
       "3           3  2 Bed Apartment in Bedford Gardens   \n",
       "4           4       2 Bed Townhouse in St Andrews   \n",
       "\n",
       "                                                                                                                                       Href  \\\n",
       "0  https://www.privateproperty.co.za/for-sale/gauteng/johannesburg/bedfordview/bedfordview/g130-blackbrick-bedford/24-johnson-road/T3821226   \n",
       "1  https://www.privateproperty.co.za/for-sale/gauteng/johannesburg/bedfordview/bedfordview/1102-blackbrick-bedford/24-johnson-road/T3821231   \n",
       "2  https://www.privateproperty.co.za/for-sale/gauteng/johannesburg/bedfordview/bedfordview/1097-blackbrick-bedford/24-johnson-road/T3821219   \n",
       "3  https://www.privateproperty.co.za/for-sale/gauteng/johannesburg/bedfordview/bedford-gardens/33-kings-b-anerley/7-leicester-road/T4508721   \n",
       "4                                           https://www.privateproperty.co.za/for-sale/gauteng/johannesburg/bedfordview/st-andrews/T4353067   \n",
       "\n",
       "  Bedrooms Bathrooms Lounges  Kitchen Main Value 3      Price  \\\n",
       "0        1         1       1      1.0   LevyR 1295  1 175 000   \n",
       "1        2         2       1      1.0   LevyR 2035  1 675 000   \n",
       "2      0.5         1       1      1.0   LevyR 1400    929 000   \n",
       "3        2         2       1      1.0   LevyR 2500  1 150 000   \n",
       "4        2         2       1      1.0  RatesR 1061  1 350 000   \n",
       "\n",
       "         Floor Area Province          City       Suburb             Area  \n",
       "0   38 m²RatesR 503  gauteng  johannesburg  bedfordview      bedfordview  \n",
       "1   85 m²RatesR 894  gauteng  johannesburg  bedfordview      bedfordview  \n",
       "2   40 m²RatesR 320  gauteng  johannesburg  bedfordview      bedfordview  \n",
       "3  123 m²RatesR 600  gauteng  johannesburg  bedfordview  bedford-gardens  \n",
       "4            142 m²  gauteng  johannesburg  bedfordview       st-andrews  "
      ]
     },
     "execution_count": 41,
     "metadata": {},
     "output_type": "execute_result"
    }
   ],
   "source": [
    "property_list.head()"
   ]
  },
  {
   "cell_type": "code",
   "execution_count": 42,
   "id": "47c94cde",
   "metadata": {},
   "outputs": [],
   "source": [
    "# Fixing the Floor Area and Land Area Columns\n",
    "\n",
    "property_list['Floor Area'] = property_list['Floor Area'].str.replace(r'Rates.*|None|LevyR.*|\\xa0m²', '', regex=True)\n"
   ]
  },
  {
   "cell_type": "code",
   "execution_count": 43,
   "id": "0d401ec4",
   "metadata": {},
   "outputs": [
    {
     "data": {
      "text/html": [
       "<div>\n",
       "<style scoped>\n",
       "    .dataframe tbody tr th:only-of-type {\n",
       "        vertical-align: middle;\n",
       "    }\n",
       "\n",
       "    .dataframe tbody tr th {\n",
       "        vertical-align: top;\n",
       "    }\n",
       "\n",
       "    .dataframe thead th {\n",
       "        text-align: right;\n",
       "    }\n",
       "</style>\n",
       "<table border=\"1\" class=\"dataframe\">\n",
       "  <thead>\n",
       "    <tr style=\"text-align: right;\">\n",
       "      <th></th>\n",
       "      <th>Unnamed: 0</th>\n",
       "      <th>Title</th>\n",
       "      <th>Href</th>\n",
       "      <th>Bedrooms</th>\n",
       "      <th>Bathrooms</th>\n",
       "      <th>Lounges</th>\n",
       "      <th>Kitchen</th>\n",
       "      <th>Main Value 3</th>\n",
       "      <th>Price</th>\n",
       "      <th>Floor Area</th>\n",
       "      <th>Province</th>\n",
       "      <th>City</th>\n",
       "      <th>Suburb</th>\n",
       "      <th>Area</th>\n",
       "    </tr>\n",
       "  </thead>\n",
       "  <tbody>\n",
       "    <tr>\n",
       "      <th>0</th>\n",
       "      <td>0</td>\n",
       "      <td>1 Bed Apartment in Bedfordview</td>\n",
       "      <td>https://www.privateproperty.co.za/for-sale/gauteng/johannesburg/bedfordview/bedfordview/g130-blackbrick-bedford/24-johnson-road/T3821226</td>\n",
       "      <td>1</td>\n",
       "      <td>1</td>\n",
       "      <td>1</td>\n",
       "      <td>1.0</td>\n",
       "      <td>LevyR 1295</td>\n",
       "      <td>1 175 000</td>\n",
       "      <td>38</td>\n",
       "      <td>gauteng</td>\n",
       "      <td>johannesburg</td>\n",
       "      <td>bedfordview</td>\n",
       "      <td>bedfordview</td>\n",
       "    </tr>\n",
       "    <tr>\n",
       "      <th>1</th>\n",
       "      <td>1</td>\n",
       "      <td>2 Bed Apartment in Bedfordview</td>\n",
       "      <td>https://www.privateproperty.co.za/for-sale/gauteng/johannesburg/bedfordview/bedfordview/1102-blackbrick-bedford/24-johnson-road/T3821231</td>\n",
       "      <td>2</td>\n",
       "      <td>2</td>\n",
       "      <td>1</td>\n",
       "      <td>1.0</td>\n",
       "      <td>LevyR 2035</td>\n",
       "      <td>1 675 000</td>\n",
       "      <td>85</td>\n",
       "      <td>gauteng</td>\n",
       "      <td>johannesburg</td>\n",
       "      <td>bedfordview</td>\n",
       "      <td>bedfordview</td>\n",
       "    </tr>\n",
       "    <tr>\n",
       "      <th>2</th>\n",
       "      <td>2</td>\n",
       "      <td>Studio apartment in Bedfordview</td>\n",
       "      <td>https://www.privateproperty.co.za/for-sale/gauteng/johannesburg/bedfordview/bedfordview/1097-blackbrick-bedford/24-johnson-road/T3821219</td>\n",
       "      <td>0.5</td>\n",
       "      <td>1</td>\n",
       "      <td>1</td>\n",
       "      <td>1.0</td>\n",
       "      <td>LevyR 1400</td>\n",
       "      <td>929 000</td>\n",
       "      <td>40</td>\n",
       "      <td>gauteng</td>\n",
       "      <td>johannesburg</td>\n",
       "      <td>bedfordview</td>\n",
       "      <td>bedfordview</td>\n",
       "    </tr>\n",
       "    <tr>\n",
       "      <th>3</th>\n",
       "      <td>3</td>\n",
       "      <td>2 Bed Apartment in Bedford Gardens</td>\n",
       "      <td>https://www.privateproperty.co.za/for-sale/gauteng/johannesburg/bedfordview/bedford-gardens/33-kings-b-anerley/7-leicester-road/T4508721</td>\n",
       "      <td>2</td>\n",
       "      <td>2</td>\n",
       "      <td>1</td>\n",
       "      <td>1.0</td>\n",
       "      <td>LevyR 2500</td>\n",
       "      <td>1 150 000</td>\n",
       "      <td>123</td>\n",
       "      <td>gauteng</td>\n",
       "      <td>johannesburg</td>\n",
       "      <td>bedfordview</td>\n",
       "      <td>bedford-gardens</td>\n",
       "    </tr>\n",
       "    <tr>\n",
       "      <th>4</th>\n",
       "      <td>4</td>\n",
       "      <td>2 Bed Townhouse in St Andrews</td>\n",
       "      <td>https://www.privateproperty.co.za/for-sale/gauteng/johannesburg/bedfordview/st-andrews/T4353067</td>\n",
       "      <td>2</td>\n",
       "      <td>2</td>\n",
       "      <td>1</td>\n",
       "      <td>1.0</td>\n",
       "      <td>RatesR 1061</td>\n",
       "      <td>1 350 000</td>\n",
       "      <td>142</td>\n",
       "      <td>gauteng</td>\n",
       "      <td>johannesburg</td>\n",
       "      <td>bedfordview</td>\n",
       "      <td>st-andrews</td>\n",
       "    </tr>\n",
       "  </tbody>\n",
       "</table>\n",
       "</div>"
      ],
      "text/plain": [
       "   Unnamed: 0                               Title  \\\n",
       "0           0      1 Bed Apartment in Bedfordview   \n",
       "1           1      2 Bed Apartment in Bedfordview   \n",
       "2           2     Studio apartment in Bedfordview   \n",
       "3           3  2 Bed Apartment in Bedford Gardens   \n",
       "4           4       2 Bed Townhouse in St Andrews   \n",
       "\n",
       "                                                                                                                                       Href  \\\n",
       "0  https://www.privateproperty.co.za/for-sale/gauteng/johannesburg/bedfordview/bedfordview/g130-blackbrick-bedford/24-johnson-road/T3821226   \n",
       "1  https://www.privateproperty.co.za/for-sale/gauteng/johannesburg/bedfordview/bedfordview/1102-blackbrick-bedford/24-johnson-road/T3821231   \n",
       "2  https://www.privateproperty.co.za/for-sale/gauteng/johannesburg/bedfordview/bedfordview/1097-blackbrick-bedford/24-johnson-road/T3821219   \n",
       "3  https://www.privateproperty.co.za/for-sale/gauteng/johannesburg/bedfordview/bedford-gardens/33-kings-b-anerley/7-leicester-road/T4508721   \n",
       "4                                           https://www.privateproperty.co.za/for-sale/gauteng/johannesburg/bedfordview/st-andrews/T4353067   \n",
       "\n",
       "  Bedrooms Bathrooms Lounges  Kitchen Main Value 3      Price Floor Area  \\\n",
       "0        1         1       1      1.0   LevyR 1295  1 175 000         38   \n",
       "1        2         2       1      1.0   LevyR 2035  1 675 000         85   \n",
       "2      0.5         1       1      1.0   LevyR 1400    929 000         40   \n",
       "3        2         2       1      1.0   LevyR 2500  1 150 000        123   \n",
       "4        2         2       1      1.0  RatesR 1061  1 350 000        142   \n",
       "\n",
       "  Province          City       Suburb             Area  \n",
       "0  gauteng  johannesburg  bedfordview      bedfordview  \n",
       "1  gauteng  johannesburg  bedfordview      bedfordview  \n",
       "2  gauteng  johannesburg  bedfordview      bedfordview  \n",
       "3  gauteng  johannesburg  bedfordview  bedford-gardens  \n",
       "4  gauteng  johannesburg  bedfordview       st-andrews  "
      ]
     },
     "execution_count": 43,
     "metadata": {},
     "output_type": "execute_result"
    }
   ],
   "source": [
    "property_list.head()"
   ]
  },
  {
   "cell_type": "code",
   "execution_count": 45,
   "id": "735fc2ec",
   "metadata": {},
   "outputs": [
    {
     "data": {
      "text/html": [
       "<div>\n",
       "<style scoped>\n",
       "    .dataframe tbody tr th:only-of-type {\n",
       "        vertical-align: middle;\n",
       "    }\n",
       "\n",
       "    .dataframe tbody tr th {\n",
       "        vertical-align: top;\n",
       "    }\n",
       "\n",
       "    .dataframe thead th {\n",
       "        text-align: right;\n",
       "    }\n",
       "</style>\n",
       "<table border=\"1\" class=\"dataframe\">\n",
       "  <thead>\n",
       "    <tr style=\"text-align: right;\">\n",
       "      <th></th>\n",
       "      <th>Bedrooms</th>\n",
       "      <th>Bathrooms</th>\n",
       "      <th>Price</th>\n",
       "      <th>Floor Area</th>\n",
       "      <th>Lounges</th>\n",
       "    </tr>\n",
       "  </thead>\n",
       "  <tbody>\n",
       "    <tr>\n",
       "      <th>0</th>\n",
       "      <td>1</td>\n",
       "      <td>1</td>\n",
       "      <td>1 175 000</td>\n",
       "      <td>38</td>\n",
       "      <td>1</td>\n",
       "    </tr>\n",
       "    <tr>\n",
       "      <th>1</th>\n",
       "      <td>2</td>\n",
       "      <td>2</td>\n",
       "      <td>1 675 000</td>\n",
       "      <td>85</td>\n",
       "      <td>1</td>\n",
       "    </tr>\n",
       "    <tr>\n",
       "      <th>2</th>\n",
       "      <td>0.5</td>\n",
       "      <td>1</td>\n",
       "      <td>929 000</td>\n",
       "      <td>40</td>\n",
       "      <td>1</td>\n",
       "    </tr>\n",
       "    <tr>\n",
       "      <th>3</th>\n",
       "      <td>2</td>\n",
       "      <td>2</td>\n",
       "      <td>1 150 000</td>\n",
       "      <td>123</td>\n",
       "      <td>1</td>\n",
       "    </tr>\n",
       "    <tr>\n",
       "      <th>4</th>\n",
       "      <td>2</td>\n",
       "      <td>2</td>\n",
       "      <td>1 350 000</td>\n",
       "      <td>142</td>\n",
       "      <td>1</td>\n",
       "    </tr>\n",
       "    <tr>\n",
       "      <th>...</th>\n",
       "      <td>...</td>\n",
       "      <td>...</td>\n",
       "      <td>...</td>\n",
       "      <td>...</td>\n",
       "      <td>...</td>\n",
       "    </tr>\n",
       "    <tr>\n",
       "      <th>17680</th>\n",
       "      <td>4</td>\n",
       "      <td>4</td>\n",
       "      <td>POA</td>\n",
       "      <td>NaN</td>\n",
       "      <td>2</td>\n",
       "    </tr>\n",
       "    <tr>\n",
       "      <th>17681</th>\n",
       "      <td>2</td>\n",
       "      <td>2</td>\n",
       "      <td>On Auction</td>\n",
       "      <td>77</td>\n",
       "      <td>1</td>\n",
       "    </tr>\n",
       "    <tr>\n",
       "      <th>17682</th>\n",
       "      <td>2</td>\n",
       "      <td>1</td>\n",
       "      <td>On Auction</td>\n",
       "      <td>NaN</td>\n",
       "      <td>1</td>\n",
       "    </tr>\n",
       "    <tr>\n",
       "      <th>17683</th>\n",
       "      <td>3</td>\n",
       "      <td>2</td>\n",
       "      <td>Sold</td>\n",
       "      <td>NaN</td>\n",
       "      <td>1</td>\n",
       "    </tr>\n",
       "    <tr>\n",
       "      <th>17684</th>\n",
       "      <td>5</td>\n",
       "      <td>5.5</td>\n",
       "      <td>POA</td>\n",
       "      <td>2298</td>\n",
       "      <td>4</td>\n",
       "    </tr>\n",
       "  </tbody>\n",
       "</table>\n",
       "<p>17685 rows × 5 columns</p>\n",
       "</div>"
      ],
      "text/plain": [
       "      Bedrooms Bathrooms       Price Floor Area Lounges\n",
       "0            1         1   1 175 000         38       1\n",
       "1            2         2   1 675 000         85       1\n",
       "2          0.5         1     929 000         40       1\n",
       "3            2         2   1 150 000        123       1\n",
       "4            2         2   1 350 000        142       1\n",
       "...        ...       ...         ...        ...     ...\n",
       "17680        4         4         POA        NaN       2\n",
       "17681        2         2  On Auction         77       1\n",
       "17682        2         1  On Auction        NaN       1\n",
       "17683        3         2        Sold        NaN       1\n",
       "17684        5       5.5         POA       2298       4\n",
       "\n",
       "[17685 rows x 5 columns]"
      ]
     },
     "execution_count": 45,
     "metadata": {},
     "output_type": "execute_result"
    }
   ],
   "source": [
    "property_list[['Bedrooms', 'Bathrooms', 'Price', 'Floor Area','Lounges',]]"
   ]
  },
  {
   "cell_type": "code",
   "execution_count": 46,
   "id": "150e41d5",
   "metadata": {},
   "outputs": [
    {
     "ename": "KeyError",
     "evalue": "'Land Area'",
     "output_type": "error",
     "traceback": [
      "\u001b[1;31m---------------------------------------------------------------------------\u001b[0m",
      "\u001b[1;31mKeyError\u001b[0m                                  Traceback (most recent call last)",
      "\u001b[1;32m~\\anaconda3\\lib\\site-packages\\pandas\\core\\indexes\\base.py\u001b[0m in \u001b[0;36mget_loc\u001b[1;34m(self, key, method, tolerance)\u001b[0m\n\u001b[0;32m   3628\u001b[0m             \u001b[1;32mtry\u001b[0m\u001b[1;33m:\u001b[0m\u001b[1;33m\u001b[0m\u001b[1;33m\u001b[0m\u001b[0m\n\u001b[1;32m-> 3629\u001b[1;33m                 \u001b[1;32mreturn\u001b[0m \u001b[0mself\u001b[0m\u001b[1;33m.\u001b[0m\u001b[0m_engine\u001b[0m\u001b[1;33m.\u001b[0m\u001b[0mget_loc\u001b[0m\u001b[1;33m(\u001b[0m\u001b[0mcasted_key\u001b[0m\u001b[1;33m)\u001b[0m\u001b[1;33m\u001b[0m\u001b[1;33m\u001b[0m\u001b[0m\n\u001b[0m\u001b[0;32m   3630\u001b[0m             \u001b[1;32mexcept\u001b[0m \u001b[0mKeyError\u001b[0m \u001b[1;32mas\u001b[0m \u001b[0merr\u001b[0m\u001b[1;33m:\u001b[0m\u001b[1;33m\u001b[0m\u001b[1;33m\u001b[0m\u001b[0m\n",
      "\u001b[1;32m~\\anaconda3\\lib\\site-packages\\pandas\\_libs\\index.pyx\u001b[0m in \u001b[0;36mpandas._libs.index.IndexEngine.get_loc\u001b[1;34m()\u001b[0m\n",
      "\u001b[1;32m~\\anaconda3\\lib\\site-packages\\pandas\\_libs\\index.pyx\u001b[0m in \u001b[0;36mpandas._libs.index.IndexEngine.get_loc\u001b[1;34m()\u001b[0m\n",
      "\u001b[1;32mpandas\\_libs\\hashtable_class_helper.pxi\u001b[0m in \u001b[0;36mpandas._libs.hashtable.PyObjectHashTable.get_item\u001b[1;34m()\u001b[0m\n",
      "\u001b[1;32mpandas\\_libs\\hashtable_class_helper.pxi\u001b[0m in \u001b[0;36mpandas._libs.hashtable.PyObjectHashTable.get_item\u001b[1;34m()\u001b[0m\n",
      "\u001b[1;31mKeyError\u001b[0m: 'Land Area'",
      "\nThe above exception was the direct cause of the following exception:\n",
      "\u001b[1;31mKeyError\u001b[0m                                  Traceback (most recent call last)",
      "\u001b[1;32m~\\AppData\\Local\\Temp\\ipykernel_11556\\1579529418.py\u001b[0m in \u001b[0;36m<module>\u001b[1;34m\u001b[0m\n\u001b[0;32m      4\u001b[0m \u001b[1;32mfor\u001b[0m \u001b[0mcolumn\u001b[0m \u001b[1;32min\u001b[0m \u001b[0mcolumns_to_convert\u001b[0m\u001b[1;33m:\u001b[0m\u001b[1;33m\u001b[0m\u001b[1;33m\u001b[0m\u001b[0m\n\u001b[0;32m      5\u001b[0m     \u001b[1;31m# Remove commas and spaces before converting to float\u001b[0m\u001b[1;33m\u001b[0m\u001b[1;33m\u001b[0m\u001b[0m\n\u001b[1;32m----> 6\u001b[1;33m     \u001b[0mproperty_list\u001b[0m\u001b[1;33m[\u001b[0m\u001b[0mcolumn\u001b[0m\u001b[1;33m]\u001b[0m \u001b[1;33m=\u001b[0m \u001b[0mpd\u001b[0m\u001b[1;33m.\u001b[0m\u001b[0mto_numeric\u001b[0m\u001b[1;33m(\u001b[0m\u001b[0mproperty_list\u001b[0m\u001b[1;33m[\u001b[0m\u001b[0mcolumn\u001b[0m\u001b[1;33m]\u001b[0m\u001b[1;33m.\u001b[0m\u001b[0mstr\u001b[0m\u001b[1;33m.\u001b[0m\u001b[0mreplace\u001b[0m\u001b[1;33m(\u001b[0m\u001b[1;34m','\u001b[0m\u001b[1;33m,\u001b[0m \u001b[1;34m''\u001b[0m\u001b[1;33m)\u001b[0m\u001b[1;33m.\u001b[0m\u001b[0mstr\u001b[0m\u001b[1;33m.\u001b[0m\u001b[0mreplace\u001b[0m\u001b[1;33m(\u001b[0m\u001b[1;34m' '\u001b[0m\u001b[1;33m,\u001b[0m \u001b[1;34m''\u001b[0m\u001b[1;33m)\u001b[0m\u001b[1;33m,\u001b[0m \u001b[0merrors\u001b[0m\u001b[1;33m=\u001b[0m\u001b[1;34m'coerce'\u001b[0m\u001b[1;33m)\u001b[0m\u001b[1;33m\u001b[0m\u001b[1;33m\u001b[0m\u001b[0m\n\u001b[0m",
      "\u001b[1;32m~\\anaconda3\\lib\\site-packages\\pandas\\core\\frame.py\u001b[0m in \u001b[0;36m__getitem__\u001b[1;34m(self, key)\u001b[0m\n\u001b[0;32m   3503\u001b[0m             \u001b[1;32mif\u001b[0m \u001b[0mself\u001b[0m\u001b[1;33m.\u001b[0m\u001b[0mcolumns\u001b[0m\u001b[1;33m.\u001b[0m\u001b[0mnlevels\u001b[0m \u001b[1;33m>\u001b[0m \u001b[1;36m1\u001b[0m\u001b[1;33m:\u001b[0m\u001b[1;33m\u001b[0m\u001b[1;33m\u001b[0m\u001b[0m\n\u001b[0;32m   3504\u001b[0m                 \u001b[1;32mreturn\u001b[0m \u001b[0mself\u001b[0m\u001b[1;33m.\u001b[0m\u001b[0m_getitem_multilevel\u001b[0m\u001b[1;33m(\u001b[0m\u001b[0mkey\u001b[0m\u001b[1;33m)\u001b[0m\u001b[1;33m\u001b[0m\u001b[1;33m\u001b[0m\u001b[0m\n\u001b[1;32m-> 3505\u001b[1;33m             \u001b[0mindexer\u001b[0m \u001b[1;33m=\u001b[0m \u001b[0mself\u001b[0m\u001b[1;33m.\u001b[0m\u001b[0mcolumns\u001b[0m\u001b[1;33m.\u001b[0m\u001b[0mget_loc\u001b[0m\u001b[1;33m(\u001b[0m\u001b[0mkey\u001b[0m\u001b[1;33m)\u001b[0m\u001b[1;33m\u001b[0m\u001b[1;33m\u001b[0m\u001b[0m\n\u001b[0m\u001b[0;32m   3506\u001b[0m             \u001b[1;32mif\u001b[0m \u001b[0mis_integer\u001b[0m\u001b[1;33m(\u001b[0m\u001b[0mindexer\u001b[0m\u001b[1;33m)\u001b[0m\u001b[1;33m:\u001b[0m\u001b[1;33m\u001b[0m\u001b[1;33m\u001b[0m\u001b[0m\n\u001b[0;32m   3507\u001b[0m                 \u001b[0mindexer\u001b[0m \u001b[1;33m=\u001b[0m \u001b[1;33m[\u001b[0m\u001b[0mindexer\u001b[0m\u001b[1;33m]\u001b[0m\u001b[1;33m\u001b[0m\u001b[1;33m\u001b[0m\u001b[0m\n",
      "\u001b[1;32m~\\anaconda3\\lib\\site-packages\\pandas\\core\\indexes\\base.py\u001b[0m in \u001b[0;36mget_loc\u001b[1;34m(self, key, method, tolerance)\u001b[0m\n\u001b[0;32m   3629\u001b[0m                 \u001b[1;32mreturn\u001b[0m \u001b[0mself\u001b[0m\u001b[1;33m.\u001b[0m\u001b[0m_engine\u001b[0m\u001b[1;33m.\u001b[0m\u001b[0mget_loc\u001b[0m\u001b[1;33m(\u001b[0m\u001b[0mcasted_key\u001b[0m\u001b[1;33m)\u001b[0m\u001b[1;33m\u001b[0m\u001b[1;33m\u001b[0m\u001b[0m\n\u001b[0;32m   3630\u001b[0m             \u001b[1;32mexcept\u001b[0m \u001b[0mKeyError\u001b[0m \u001b[1;32mas\u001b[0m \u001b[0merr\u001b[0m\u001b[1;33m:\u001b[0m\u001b[1;33m\u001b[0m\u001b[1;33m\u001b[0m\u001b[0m\n\u001b[1;32m-> 3631\u001b[1;33m                 \u001b[1;32mraise\u001b[0m \u001b[0mKeyError\u001b[0m\u001b[1;33m(\u001b[0m\u001b[0mkey\u001b[0m\u001b[1;33m)\u001b[0m \u001b[1;32mfrom\u001b[0m \u001b[0merr\u001b[0m\u001b[1;33m\u001b[0m\u001b[1;33m\u001b[0m\u001b[0m\n\u001b[0m\u001b[0;32m   3632\u001b[0m             \u001b[1;32mexcept\u001b[0m \u001b[0mTypeError\u001b[0m\u001b[1;33m:\u001b[0m\u001b[1;33m\u001b[0m\u001b[1;33m\u001b[0m\u001b[0m\n\u001b[0;32m   3633\u001b[0m                 \u001b[1;31m# If we have a listlike key, _check_indexing_error will raise\u001b[0m\u001b[1;33m\u001b[0m\u001b[1;33m\u001b[0m\u001b[0m\n",
      "\u001b[1;31mKeyError\u001b[0m: 'Land Area'"
     ]
    }
   ],
   "source": [
    "# Convert specific columns to float data type after cleaning\n",
    "columns_to_convert = ['Bedrooms', 'Bathrooms', 'Price', 'Floor Area', 'Land Area','Lounges', 'Dining Areas', 'Pool', 'Garages']\n",
    "\n",
    "for column in columns_to_convert:\n",
    "    # Remove commas and spaces before converting to float\n",
    "    property_list[column] = pd.to_numeric(property_list[column].str.replace(',', '').str.replace(' ', ''), errors='coerce')"
   ]
  },
  {
   "cell_type": "code",
   "execution_count": 47,
   "id": "6b3dfeee",
   "metadata": {},
   "outputs": [
    {
     "data": {
      "text/plain": [
       "Unnamed: 0        int64\n",
       "Title            object\n",
       "Href             object\n",
       "Bedrooms        float64\n",
       "Bathrooms       float64\n",
       "Lounges          object\n",
       "Kitchen         float64\n",
       "Main Value 3     object\n",
       "Price           float64\n",
       "Floor Area      float64\n",
       "Province         object\n",
       "City             object\n",
       "Suburb           object\n",
       "Area             object\n",
       "dtype: object"
      ]
     },
     "execution_count": 47,
     "metadata": {},
     "output_type": "execute_result"
    }
   ],
   "source": [
    "property_list.dtypes"
   ]
  },
  {
   "cell_type": "code",
   "execution_count": 48,
   "id": "38b45ccf",
   "metadata": {},
   "outputs": [],
   "source": [
    "# 1. Price per Square Meter:\n",
    "property_list['Price per Sqm'] = property_list['Price'] / property_list['Floor Area']\n",
    "\n",
    "\n",
    "pattern = r'(Flat|House|Apartment)'\n",
    "\n",
    "# Extract property type using regular expression\n",
    "property_list['Type'] = property_list['Title'].str.extract(pattern)\n"
   ]
  },
  {
   "cell_type": "code",
   "execution_count": 49,
   "id": "5c842db5",
   "metadata": {},
   "outputs": [
    {
     "data": {
      "text/html": [
       "<div>\n",
       "<style scoped>\n",
       "    .dataframe tbody tr th:only-of-type {\n",
       "        vertical-align: middle;\n",
       "    }\n",
       "\n",
       "    .dataframe tbody tr th {\n",
       "        vertical-align: top;\n",
       "    }\n",
       "\n",
       "    .dataframe thead th {\n",
       "        text-align: right;\n",
       "    }\n",
       "</style>\n",
       "<table border=\"1\" class=\"dataframe\">\n",
       "  <thead>\n",
       "    <tr style=\"text-align: right;\">\n",
       "      <th></th>\n",
       "      <th>Unnamed: 0</th>\n",
       "      <th>Title</th>\n",
       "      <th>Href</th>\n",
       "      <th>Bedrooms</th>\n",
       "      <th>Bathrooms</th>\n",
       "      <th>Lounges</th>\n",
       "      <th>Kitchen</th>\n",
       "      <th>Main Value 3</th>\n",
       "      <th>Price</th>\n",
       "      <th>Floor Area</th>\n",
       "      <th>Province</th>\n",
       "      <th>City</th>\n",
       "      <th>Suburb</th>\n",
       "      <th>Area</th>\n",
       "      <th>Price per Sqm</th>\n",
       "      <th>Type</th>\n",
       "    </tr>\n",
       "  </thead>\n",
       "  <tbody>\n",
       "    <tr>\n",
       "      <th>0</th>\n",
       "      <td>0</td>\n",
       "      <td>1 Bed Apartment in Bedfordview</td>\n",
       "      <td>https://www.privateproperty.co.za/for-sale/gauteng/johannesburg/bedfordview/bedfordview/g130-blackbrick-bedford/24-johnson-road/T3821226</td>\n",
       "      <td>1.0</td>\n",
       "      <td>1.0</td>\n",
       "      <td>1</td>\n",
       "      <td>1.0</td>\n",
       "      <td>LevyR 1295</td>\n",
       "      <td>1175000.0</td>\n",
       "      <td>38.0</td>\n",
       "      <td>gauteng</td>\n",
       "      <td>johannesburg</td>\n",
       "      <td>bedfordview</td>\n",
       "      <td>bedfordview</td>\n",
       "      <td>30921.052632</td>\n",
       "      <td>Apartment</td>\n",
       "    </tr>\n",
       "    <tr>\n",
       "      <th>1</th>\n",
       "      <td>1</td>\n",
       "      <td>2 Bed Apartment in Bedfordview</td>\n",
       "      <td>https://www.privateproperty.co.za/for-sale/gauteng/johannesburg/bedfordview/bedfordview/1102-blackbrick-bedford/24-johnson-road/T3821231</td>\n",
       "      <td>2.0</td>\n",
       "      <td>2.0</td>\n",
       "      <td>1</td>\n",
       "      <td>1.0</td>\n",
       "      <td>LevyR 2035</td>\n",
       "      <td>1675000.0</td>\n",
       "      <td>85.0</td>\n",
       "      <td>gauteng</td>\n",
       "      <td>johannesburg</td>\n",
       "      <td>bedfordview</td>\n",
       "      <td>bedfordview</td>\n",
       "      <td>19705.882353</td>\n",
       "      <td>Apartment</td>\n",
       "    </tr>\n",
       "    <tr>\n",
       "      <th>2</th>\n",
       "      <td>2</td>\n",
       "      <td>Studio apartment in Bedfordview</td>\n",
       "      <td>https://www.privateproperty.co.za/for-sale/gauteng/johannesburg/bedfordview/bedfordview/1097-blackbrick-bedford/24-johnson-road/T3821219</td>\n",
       "      <td>0.5</td>\n",
       "      <td>1.0</td>\n",
       "      <td>1</td>\n",
       "      <td>1.0</td>\n",
       "      <td>LevyR 1400</td>\n",
       "      <td>929000.0</td>\n",
       "      <td>40.0</td>\n",
       "      <td>gauteng</td>\n",
       "      <td>johannesburg</td>\n",
       "      <td>bedfordview</td>\n",
       "      <td>bedfordview</td>\n",
       "      <td>23225.000000</td>\n",
       "      <td>NaN</td>\n",
       "    </tr>\n",
       "    <tr>\n",
       "      <th>3</th>\n",
       "      <td>3</td>\n",
       "      <td>2 Bed Apartment in Bedford Gardens</td>\n",
       "      <td>https://www.privateproperty.co.za/for-sale/gauteng/johannesburg/bedfordview/bedford-gardens/33-kings-b-anerley/7-leicester-road/T4508721</td>\n",
       "      <td>2.0</td>\n",
       "      <td>2.0</td>\n",
       "      <td>1</td>\n",
       "      <td>1.0</td>\n",
       "      <td>LevyR 2500</td>\n",
       "      <td>1150000.0</td>\n",
       "      <td>123.0</td>\n",
       "      <td>gauteng</td>\n",
       "      <td>johannesburg</td>\n",
       "      <td>bedfordview</td>\n",
       "      <td>bedford-gardens</td>\n",
       "      <td>9349.593496</td>\n",
       "      <td>Apartment</td>\n",
       "    </tr>\n",
       "    <tr>\n",
       "      <th>4</th>\n",
       "      <td>4</td>\n",
       "      <td>2 Bed Townhouse in St Andrews</td>\n",
       "      <td>https://www.privateproperty.co.za/for-sale/gauteng/johannesburg/bedfordview/st-andrews/T4353067</td>\n",
       "      <td>2.0</td>\n",
       "      <td>2.0</td>\n",
       "      <td>1</td>\n",
       "      <td>1.0</td>\n",
       "      <td>RatesR 1061</td>\n",
       "      <td>1350000.0</td>\n",
       "      <td>142.0</td>\n",
       "      <td>gauteng</td>\n",
       "      <td>johannesburg</td>\n",
       "      <td>bedfordview</td>\n",
       "      <td>st-andrews</td>\n",
       "      <td>9507.042254</td>\n",
       "      <td>NaN</td>\n",
       "    </tr>\n",
       "  </tbody>\n",
       "</table>\n",
       "</div>"
      ],
      "text/plain": [
       "   Unnamed: 0                               Title  \\\n",
       "0           0      1 Bed Apartment in Bedfordview   \n",
       "1           1      2 Bed Apartment in Bedfordview   \n",
       "2           2     Studio apartment in Bedfordview   \n",
       "3           3  2 Bed Apartment in Bedford Gardens   \n",
       "4           4       2 Bed Townhouse in St Andrews   \n",
       "\n",
       "                                                                                                                                       Href  \\\n",
       "0  https://www.privateproperty.co.za/for-sale/gauteng/johannesburg/bedfordview/bedfordview/g130-blackbrick-bedford/24-johnson-road/T3821226   \n",
       "1  https://www.privateproperty.co.za/for-sale/gauteng/johannesburg/bedfordview/bedfordview/1102-blackbrick-bedford/24-johnson-road/T3821231   \n",
       "2  https://www.privateproperty.co.za/for-sale/gauteng/johannesburg/bedfordview/bedfordview/1097-blackbrick-bedford/24-johnson-road/T3821219   \n",
       "3  https://www.privateproperty.co.za/for-sale/gauteng/johannesburg/bedfordview/bedford-gardens/33-kings-b-anerley/7-leicester-road/T4508721   \n",
       "4                                           https://www.privateproperty.co.za/for-sale/gauteng/johannesburg/bedfordview/st-andrews/T4353067   \n",
       "\n",
       "   Bedrooms  Bathrooms Lounges  Kitchen Main Value 3      Price  Floor Area  \\\n",
       "0       1.0        1.0       1      1.0   LevyR 1295  1175000.0        38.0   \n",
       "1       2.0        2.0       1      1.0   LevyR 2035  1675000.0        85.0   \n",
       "2       0.5        1.0       1      1.0   LevyR 1400   929000.0        40.0   \n",
       "3       2.0        2.0       1      1.0   LevyR 2500  1150000.0       123.0   \n",
       "4       2.0        2.0       1      1.0  RatesR 1061  1350000.0       142.0   \n",
       "\n",
       "  Province          City       Suburb             Area  Price per Sqm  \\\n",
       "0  gauteng  johannesburg  bedfordview      bedfordview   30921.052632   \n",
       "1  gauteng  johannesburg  bedfordview      bedfordview   19705.882353   \n",
       "2  gauteng  johannesburg  bedfordview      bedfordview   23225.000000   \n",
       "3  gauteng  johannesburg  bedfordview  bedford-gardens    9349.593496   \n",
       "4  gauteng  johannesburg  bedfordview       st-andrews    9507.042254   \n",
       "\n",
       "        Type  \n",
       "0  Apartment  \n",
       "1  Apartment  \n",
       "2        NaN  \n",
       "3  Apartment  \n",
       "4        NaN  "
      ]
     },
     "execution_count": 49,
     "metadata": {},
     "output_type": "execute_result"
    }
   ],
   "source": [
    "property_list.head()"
   ]
  },
  {
   "cell_type": "markdown",
   "id": "e7bb1b28",
   "metadata": {},
   "source": [
    "# Data Analysis"
   ]
  },
  {
   "cell_type": "code",
   "execution_count": 50,
   "id": "a807add5",
   "metadata": {},
   "outputs": [
    {
     "data": {
      "application/vnd.plotly.v1+json": {
       "config": {
        "plotlyServerURL": "https://plot.ly"
       },
       "data": [
        {
         "marker": {
          "color": "rgb(158,202,225)"
         },
         "name": "bedfordview",
         "type": "bar",
         "x": [
          "bedford-gardens",
          "bedford-park",
          "bedfordview",
          "essexwold",
          "meadowbrook",
          "morninghill",
          "oriel",
          "senderwood",
          "st-andrews"
         ],
         "y": [
          272,
          21,
          333,
          13,
          15,
          73,
          24,
          4,
          56
         ]
        },
        {
         "marker": {
          "color": "rgb(158,202,225)"
         },
         "name": "fourways-sunninghill-and-lonehill",
         "type": "bar",
         "x": [
          "beverley",
          "bloubosrand",
          "broadacres",
          "cedar-creek",
          "cedar-lakes",
          "craigavon",
          "dainfern",
          "dainfern-ridge",
          "dainfern-valley",
          "douglasdale",
          "fourways",
          "fourways-gardens",
          "jukskei-park",
          "kengies",
          "lonehill",
          "maroeladal",
          "paulshof",
          "pineslopes",
          "steyn-city",
          "sunninghill"
         ],
         "y": [
          75,
          105,
          307,
          5,
          6,
          157,
          208,
          5,
          7,
          287,
          569,
          10,
          66,
          24,
          392,
          34,
          385,
          18,
          1,
          322
         ]
        },
        {
         "marker": {
          "color": "rgb(158,202,225)"
         },
         "name": "johannesburg-south",
         "type": "bar",
         "x": [
          "aeroton",
          "alan-manor",
          "alveda",
          "aspen-hills",
          "bassonia",
          "bassonia-estate",
          "crown-gardens",
          "eikenhof",
          "elandspark",
          "eye-of-africa",
          "forest-hill",
          "gillview",
          "glenanda",
          "glenvista",
          "haddon",
          "katlehong",
          "kenilworth",
          "kibler-park",
          "liefde-en-vrede",
          "linmeyer",
          "meredale",
          "moffat-view",
          "mondeor",
          "mulbarton",
          "naturena",
          "oakdene",
          "ormonde",
          "regents-park",
          "ridgeway",
          "robertsham",
          "roseacre",
          "rosettenville",
          "sky-city",
          "south-hills",
          "suideroord",
          "the-hill",
          "turffontein",
          "winchester-hills"
         ],
         "y": [
          15,
          64,
          134,
          3,
          75,
          1,
          33,
          47,
          73,
          45,
          38,
          8,
          48,
          201,
          39,
          595,
          34,
          334,
          100,
          117,
          149,
          21,
          192,
          179,
          181,
          336,
          289,
          34,
          164,
          71,
          27,
          137,
          1098,
          176,
          41,
          89,
          163,
          283
         ]
        },
        {
         "marker": {
          "color": "rgb(158,202,225)"
         },
         "name": "north-riding-to-lanseria",
         "type": "bar",
         "x": [
          "bellairspark",
          "blair-atholl-estate",
          "boskruin",
          "bromhof",
          "chartwell",
          "cosmo-city",
          "farmall",
          "jackal-creek-northriding",
          "johannesburg-north",
          "kya-sands",
          "lanseria-and-surrounds",
          "nooitgedacht",
          "noordhang",
          "north-riding",
          "northgate",
          "northwold",
          "olivedale",
          "sharonlea",
          "sonneglans",
          "sundowner"
         ],
         "y": [
          11,
          13,
          38,
          107,
          62,
          473,
          3,
          206,
          16,
          81,
          151,
          367,
          47,
          619,
          197,
          150,
          142,
          35,
          76,
          137
         ]
        },
        {
         "marker": {
          "color": "rgb(158,202,225)"
         },
         "name": "northcliff",
         "type": "bar",
         "x": [
          "albertskroon",
          "albertville",
          "auckland-park",
          "berario",
          "bergbron",
          "blackheath",
          "bosmont",
          "brixton",
          "crosby",
          "delarey",
          "emmarentia",
          "fairland",
          "florida-glen",
          "greenside",
          "greymont",
          "linden",
          "melville",
          "montgomery-park",
          "newlands",
          "northcliff",
          "quellerina",
          "richmond",
          "risidale",
          "riverlea",
          "roosevelt-park",
          "sophiatown",
          "victory-park",
          "westbury",
          "westdene",
          "whiteridge"
         ],
         "y": [
          2,
          54,
          49,
          8,
          71,
          70,
          25,
          102,
          46,
          12,
          4,
          109,
          30,
          13,
          34,
          38,
          49,
          51,
          58,
          109,
          25,
          36,
          7,
          82,
          15,
          52,
          19,
          13,
          103,
          19
         ]
        },
        {
         "marker": {
          "color": "rgb(158,202,225)"
         },
         "name": "randburg-and-ferndale",
         "type": "bar",
         "x": [
          "aldara-park",
          "blairgowrie",
          "bordeaux",
          "cresta",
          "darrenwood",
          "ferndale",
          "fontainebleau",
          "industria",
          "kelland",
          "kensington-b",
          "malanshof",
          "moret",
          "president-ridge",
          "randpark",
          "randpark-ridge",
          "robin-hills",
          "robindale",
          "ruiterhof",
          "strydompark",
          "windsor-east",
          "windsor-glen",
          "windsor-west"
         ],
         "y": [
          1,
          81,
          24,
          12,
          12,
          461,
          24,
          1,
          10,
          41,
          35,
          2,
          10,
          15,
          156,
          4,
          36,
          2,
          5,
          103,
          1,
          67
         ]
        },
        {
         "marker": {
          "color": "rgb(158,202,225)"
         },
         "name": "sandton-and-bryanston-north",
         "type": "bar",
         "x": [
          "atholl",
          "atholl-gardens",
          "benmore-gardens",
          "bramley",
          "bramley-park",
          "bryanston",
          "bryanston-west",
          "buccleuch",
          "edenburg",
          "gallo-manor",
          "hurlingham",
          "hurlingham-manor",
          "hyde-park",
          "illovo",
          "inanda",
          "kelvin",
          "khyber-rock",
          "linbro-park",
          "lombardy-east",
          "magaliessig",
          "morningside",
          "morningside-manor",
          "parkmore",
          "petervale",
          "rembrandt-park",
          "river-club",
          "rivonia",
          "sandhurst",
          "sandown",
          "strathavon",
          "wendywood",
          "woodmead"
         ],
         "y": [
          72,
          2,
          30,
          25,
          22,
          567,
          11,
          203,
          129,
          15,
          18,
          4,
          41,
          151,
          5,
          25,
          2,
          141,
          41,
          92,
          540,
          22,
          29,
          35,
          66,
          31,
          168,
          36,
          270,
          41,
          29,
          55
         ]
        }
       ],
       "layout": {
        "barmode": "stack",
        "font": {
         "color": "darkslategray",
         "family": "Arial, sans-serif",
         "size": 12
        },
        "paper_bgcolor": "rgba(0,0,0,0)",
        "plot_bgcolor": "rgba(0,0,0,0)",
        "showlegend": true,
        "template": {
         "data": {
          "bar": [
           {
            "error_x": {
             "color": "#2a3f5f"
            },
            "error_y": {
             "color": "#2a3f5f"
            },
            "marker": {
             "line": {
              "color": "#E5ECF6",
              "width": 0.5
             },
             "pattern": {
              "fillmode": "overlay",
              "size": 10,
              "solidity": 0.2
             }
            },
            "type": "bar"
           }
          ],
          "barpolar": [
           {
            "marker": {
             "line": {
              "color": "#E5ECF6",
              "width": 0.5
             },
             "pattern": {
              "fillmode": "overlay",
              "size": 10,
              "solidity": 0.2
             }
            },
            "type": "barpolar"
           }
          ],
          "carpet": [
           {
            "aaxis": {
             "endlinecolor": "#2a3f5f",
             "gridcolor": "white",
             "linecolor": "white",
             "minorgridcolor": "white",
             "startlinecolor": "#2a3f5f"
            },
            "baxis": {
             "endlinecolor": "#2a3f5f",
             "gridcolor": "white",
             "linecolor": "white",
             "minorgridcolor": "white",
             "startlinecolor": "#2a3f5f"
            },
            "type": "carpet"
           }
          ],
          "choropleth": [
           {
            "colorbar": {
             "outlinewidth": 0,
             "ticks": ""
            },
            "type": "choropleth"
           }
          ],
          "contour": [
           {
            "colorbar": {
             "outlinewidth": 0,
             "ticks": ""
            },
            "colorscale": [
             [
              0,
              "#0d0887"
             ],
             [
              0.1111111111111111,
              "#46039f"
             ],
             [
              0.2222222222222222,
              "#7201a8"
             ],
             [
              0.3333333333333333,
              "#9c179e"
             ],
             [
              0.4444444444444444,
              "#bd3786"
             ],
             [
              0.5555555555555556,
              "#d8576b"
             ],
             [
              0.6666666666666666,
              "#ed7953"
             ],
             [
              0.7777777777777778,
              "#fb9f3a"
             ],
             [
              0.8888888888888888,
              "#fdca26"
             ],
             [
              1,
              "#f0f921"
             ]
            ],
            "type": "contour"
           }
          ],
          "contourcarpet": [
           {
            "colorbar": {
             "outlinewidth": 0,
             "ticks": ""
            },
            "type": "contourcarpet"
           }
          ],
          "heatmap": [
           {
            "colorbar": {
             "outlinewidth": 0,
             "ticks": ""
            },
            "colorscale": [
             [
              0,
              "#0d0887"
             ],
             [
              0.1111111111111111,
              "#46039f"
             ],
             [
              0.2222222222222222,
              "#7201a8"
             ],
             [
              0.3333333333333333,
              "#9c179e"
             ],
             [
              0.4444444444444444,
              "#bd3786"
             ],
             [
              0.5555555555555556,
              "#d8576b"
             ],
             [
              0.6666666666666666,
              "#ed7953"
             ],
             [
              0.7777777777777778,
              "#fb9f3a"
             ],
             [
              0.8888888888888888,
              "#fdca26"
             ],
             [
              1,
              "#f0f921"
             ]
            ],
            "type": "heatmap"
           }
          ],
          "heatmapgl": [
           {
            "colorbar": {
             "outlinewidth": 0,
             "ticks": ""
            },
            "colorscale": [
             [
              0,
              "#0d0887"
             ],
             [
              0.1111111111111111,
              "#46039f"
             ],
             [
              0.2222222222222222,
              "#7201a8"
             ],
             [
              0.3333333333333333,
              "#9c179e"
             ],
             [
              0.4444444444444444,
              "#bd3786"
             ],
             [
              0.5555555555555556,
              "#d8576b"
             ],
             [
              0.6666666666666666,
              "#ed7953"
             ],
             [
              0.7777777777777778,
              "#fb9f3a"
             ],
             [
              0.8888888888888888,
              "#fdca26"
             ],
             [
              1,
              "#f0f921"
             ]
            ],
            "type": "heatmapgl"
           }
          ],
          "histogram": [
           {
            "marker": {
             "pattern": {
              "fillmode": "overlay",
              "size": 10,
              "solidity": 0.2
             }
            },
            "type": "histogram"
           }
          ],
          "histogram2d": [
           {
            "colorbar": {
             "outlinewidth": 0,
             "ticks": ""
            },
            "colorscale": [
             [
              0,
              "#0d0887"
             ],
             [
              0.1111111111111111,
              "#46039f"
             ],
             [
              0.2222222222222222,
              "#7201a8"
             ],
             [
              0.3333333333333333,
              "#9c179e"
             ],
             [
              0.4444444444444444,
              "#bd3786"
             ],
             [
              0.5555555555555556,
              "#d8576b"
             ],
             [
              0.6666666666666666,
              "#ed7953"
             ],
             [
              0.7777777777777778,
              "#fb9f3a"
             ],
             [
              0.8888888888888888,
              "#fdca26"
             ],
             [
              1,
              "#f0f921"
             ]
            ],
            "type": "histogram2d"
           }
          ],
          "histogram2dcontour": [
           {
            "colorbar": {
             "outlinewidth": 0,
             "ticks": ""
            },
            "colorscale": [
             [
              0,
              "#0d0887"
             ],
             [
              0.1111111111111111,
              "#46039f"
             ],
             [
              0.2222222222222222,
              "#7201a8"
             ],
             [
              0.3333333333333333,
              "#9c179e"
             ],
             [
              0.4444444444444444,
              "#bd3786"
             ],
             [
              0.5555555555555556,
              "#d8576b"
             ],
             [
              0.6666666666666666,
              "#ed7953"
             ],
             [
              0.7777777777777778,
              "#fb9f3a"
             ],
             [
              0.8888888888888888,
              "#fdca26"
             ],
             [
              1,
              "#f0f921"
             ]
            ],
            "type": "histogram2dcontour"
           }
          ],
          "mesh3d": [
           {
            "colorbar": {
             "outlinewidth": 0,
             "ticks": ""
            },
            "type": "mesh3d"
           }
          ],
          "parcoords": [
           {
            "line": {
             "colorbar": {
              "outlinewidth": 0,
              "ticks": ""
             }
            },
            "type": "parcoords"
           }
          ],
          "pie": [
           {
            "automargin": true,
            "type": "pie"
           }
          ],
          "scatter": [
           {
            "fillpattern": {
             "fillmode": "overlay",
             "size": 10,
             "solidity": 0.2
            },
            "type": "scatter"
           }
          ],
          "scatter3d": [
           {
            "line": {
             "colorbar": {
              "outlinewidth": 0,
              "ticks": ""
             }
            },
            "marker": {
             "colorbar": {
              "outlinewidth": 0,
              "ticks": ""
             }
            },
            "type": "scatter3d"
           }
          ],
          "scattercarpet": [
           {
            "marker": {
             "colorbar": {
              "outlinewidth": 0,
              "ticks": ""
             }
            },
            "type": "scattercarpet"
           }
          ],
          "scattergeo": [
           {
            "marker": {
             "colorbar": {
              "outlinewidth": 0,
              "ticks": ""
             }
            },
            "type": "scattergeo"
           }
          ],
          "scattergl": [
           {
            "marker": {
             "colorbar": {
              "outlinewidth": 0,
              "ticks": ""
             }
            },
            "type": "scattergl"
           }
          ],
          "scattermapbox": [
           {
            "marker": {
             "colorbar": {
              "outlinewidth": 0,
              "ticks": ""
             }
            },
            "type": "scattermapbox"
           }
          ],
          "scatterpolar": [
           {
            "marker": {
             "colorbar": {
              "outlinewidth": 0,
              "ticks": ""
             }
            },
            "type": "scatterpolar"
           }
          ],
          "scatterpolargl": [
           {
            "marker": {
             "colorbar": {
              "outlinewidth": 0,
              "ticks": ""
             }
            },
            "type": "scatterpolargl"
           }
          ],
          "scatterternary": [
           {
            "marker": {
             "colorbar": {
              "outlinewidth": 0,
              "ticks": ""
             }
            },
            "type": "scatterternary"
           }
          ],
          "surface": [
           {
            "colorbar": {
             "outlinewidth": 0,
             "ticks": ""
            },
            "colorscale": [
             [
              0,
              "#0d0887"
             ],
             [
              0.1111111111111111,
              "#46039f"
             ],
             [
              0.2222222222222222,
              "#7201a8"
             ],
             [
              0.3333333333333333,
              "#9c179e"
             ],
             [
              0.4444444444444444,
              "#bd3786"
             ],
             [
              0.5555555555555556,
              "#d8576b"
             ],
             [
              0.6666666666666666,
              "#ed7953"
             ],
             [
              0.7777777777777778,
              "#fb9f3a"
             ],
             [
              0.8888888888888888,
              "#fdca26"
             ],
             [
              1,
              "#f0f921"
             ]
            ],
            "type": "surface"
           }
          ],
          "table": [
           {
            "cells": {
             "fill": {
              "color": "#EBF0F8"
             },
             "line": {
              "color": "white"
             }
            },
            "header": {
             "fill": {
              "color": "#C8D4E3"
             },
             "line": {
              "color": "white"
             }
            },
            "type": "table"
           }
          ]
         },
         "layout": {
          "annotationdefaults": {
           "arrowcolor": "#2a3f5f",
           "arrowhead": 0,
           "arrowwidth": 1
          },
          "autotypenumbers": "strict",
          "coloraxis": {
           "colorbar": {
            "outlinewidth": 0,
            "ticks": ""
           }
          },
          "colorscale": {
           "diverging": [
            [
             0,
             "#8e0152"
            ],
            [
             0.1,
             "#c51b7d"
            ],
            [
             0.2,
             "#de77ae"
            ],
            [
             0.3,
             "#f1b6da"
            ],
            [
             0.4,
             "#fde0ef"
            ],
            [
             0.5,
             "#f7f7f7"
            ],
            [
             0.6,
             "#e6f5d0"
            ],
            [
             0.7,
             "#b8e186"
            ],
            [
             0.8,
             "#7fbc41"
            ],
            [
             0.9,
             "#4d9221"
            ],
            [
             1,
             "#276419"
            ]
           ],
           "sequential": [
            [
             0,
             "#0d0887"
            ],
            [
             0.1111111111111111,
             "#46039f"
            ],
            [
             0.2222222222222222,
             "#7201a8"
            ],
            [
             0.3333333333333333,
             "#9c179e"
            ],
            [
             0.4444444444444444,
             "#bd3786"
            ],
            [
             0.5555555555555556,
             "#d8576b"
            ],
            [
             0.6666666666666666,
             "#ed7953"
            ],
            [
             0.7777777777777778,
             "#fb9f3a"
            ],
            [
             0.8888888888888888,
             "#fdca26"
            ],
            [
             1,
             "#f0f921"
            ]
           ],
           "sequentialminus": [
            [
             0,
             "#0d0887"
            ],
            [
             0.1111111111111111,
             "#46039f"
            ],
            [
             0.2222222222222222,
             "#7201a8"
            ],
            [
             0.3333333333333333,
             "#9c179e"
            ],
            [
             0.4444444444444444,
             "#bd3786"
            ],
            [
             0.5555555555555556,
             "#d8576b"
            ],
            [
             0.6666666666666666,
             "#ed7953"
            ],
            [
             0.7777777777777778,
             "#fb9f3a"
            ],
            [
             0.8888888888888888,
             "#fdca26"
            ],
            [
             1,
             "#f0f921"
            ]
           ]
          },
          "colorway": [
           "#636efa",
           "#EF553B",
           "#00cc96",
           "#ab63fa",
           "#FFA15A",
           "#19d3f3",
           "#FF6692",
           "#B6E880",
           "#FF97FF",
           "#FECB52"
          ],
          "font": {
           "color": "#2a3f5f"
          },
          "geo": {
           "bgcolor": "white",
           "lakecolor": "white",
           "landcolor": "#E5ECF6",
           "showlakes": true,
           "showland": true,
           "subunitcolor": "white"
          },
          "hoverlabel": {
           "align": "left"
          },
          "hovermode": "closest",
          "mapbox": {
           "style": "light"
          },
          "paper_bgcolor": "white",
          "plot_bgcolor": "#E5ECF6",
          "polar": {
           "angularaxis": {
            "gridcolor": "white",
            "linecolor": "white",
            "ticks": ""
           },
           "bgcolor": "#E5ECF6",
           "radialaxis": {
            "gridcolor": "white",
            "linecolor": "white",
            "ticks": ""
           }
          },
          "scene": {
           "xaxis": {
            "backgroundcolor": "#E5ECF6",
            "gridcolor": "white",
            "gridwidth": 2,
            "linecolor": "white",
            "showbackground": true,
            "ticks": "",
            "zerolinecolor": "white"
           },
           "yaxis": {
            "backgroundcolor": "#E5ECF6",
            "gridcolor": "white",
            "gridwidth": 2,
            "linecolor": "white",
            "showbackground": true,
            "ticks": "",
            "zerolinecolor": "white"
           },
           "zaxis": {
            "backgroundcolor": "#E5ECF6",
            "gridcolor": "white",
            "gridwidth": 2,
            "linecolor": "white",
            "showbackground": true,
            "ticks": "",
            "zerolinecolor": "white"
           }
          },
          "shapedefaults": {
           "line": {
            "color": "#2a3f5f"
           }
          },
          "ternary": {
           "aaxis": {
            "gridcolor": "white",
            "linecolor": "white",
            "ticks": ""
           },
           "baxis": {
            "gridcolor": "white",
            "linecolor": "white",
            "ticks": ""
           },
           "bgcolor": "#E5ECF6",
           "caxis": {
            "gridcolor": "white",
            "linecolor": "white",
            "ticks": ""
           }
          },
          "title": {
           "x": 0.05
          },
          "xaxis": {
           "automargin": true,
           "gridcolor": "white",
           "linecolor": "white",
           "ticks": "",
           "title": {
            "standoff": 15
           },
           "zerolinecolor": "white",
           "zerolinewidth": 2
          },
          "yaxis": {
           "automargin": true,
           "gridcolor": "white",
           "linecolor": "white",
           "ticks": "",
           "title": {
            "standoff": 15
           },
           "zerolinecolor": "white",
           "zerolinewidth": 2
          }
         }
        },
        "title": {
         "text": "Number of Listings by Suburb and Area"
        },
        "updatemenus": [
         {
          "buttons": [
           {
            "args": [
             null,
             {
              "frame": {
               "duration": 500,
               "redraw": true
              },
              "fromcurrent": true
             }
            ],
            "label": "Play",
            "method": "animate"
           }
          ],
          "direction": "left",
          "pad": {
           "r": 10,
           "t": 87
          },
          "showactive": false,
          "type": "buttons",
          "x": 0.1,
          "xanchor": "right",
          "y": 0,
          "yanchor": "top"
         }
        ],
        "xaxis": {
         "categoryorder": "total descending",
         "title": {
          "text": "Area"
         }
        },
        "yaxis": {
         "title": {
          "text": "Number of Listings"
         }
        }
       }
      },
      "text/html": [
       "<div>                            <div id=\"dbae1a1d-7427-4d5b-88e1-68b74e266337\" class=\"plotly-graph-div\" style=\"height:525px; width:100%;\"></div>            <script type=\"text/javascript\">                require([\"plotly\"], function(Plotly) {                    window.PLOTLYENV=window.PLOTLYENV || {};                                    if (document.getElementById(\"dbae1a1d-7427-4d5b-88e1-68b74e266337\")) {                    Plotly.newPlot(                        \"dbae1a1d-7427-4d5b-88e1-68b74e266337\",                        [{\"marker\":{\"color\":\"rgb(158,202,225)\"},\"name\":\"bedfordview\",\"x\":[\"bedford-gardens\",\"bedford-park\",\"bedfordview\",\"essexwold\",\"meadowbrook\",\"morninghill\",\"oriel\",\"senderwood\",\"st-andrews\"],\"y\":[272,21,333,13,15,73,24,4,56],\"type\":\"bar\"},{\"marker\":{\"color\":\"rgb(158,202,225)\"},\"name\":\"fourways-sunninghill-and-lonehill\",\"x\":[\"beverley\",\"bloubosrand\",\"broadacres\",\"cedar-creek\",\"cedar-lakes\",\"craigavon\",\"dainfern\",\"dainfern-ridge\",\"dainfern-valley\",\"douglasdale\",\"fourways\",\"fourways-gardens\",\"jukskei-park\",\"kengies\",\"lonehill\",\"maroeladal\",\"paulshof\",\"pineslopes\",\"steyn-city\",\"sunninghill\"],\"y\":[75,105,307,5,6,157,208,5,7,287,569,10,66,24,392,34,385,18,1,322],\"type\":\"bar\"},{\"marker\":{\"color\":\"rgb(158,202,225)\"},\"name\":\"johannesburg-south\",\"x\":[\"aeroton\",\"alan-manor\",\"alveda\",\"aspen-hills\",\"bassonia\",\"bassonia-estate\",\"crown-gardens\",\"eikenhof\",\"elandspark\",\"eye-of-africa\",\"forest-hill\",\"gillview\",\"glenanda\",\"glenvista\",\"haddon\",\"katlehong\",\"kenilworth\",\"kibler-park\",\"liefde-en-vrede\",\"linmeyer\",\"meredale\",\"moffat-view\",\"mondeor\",\"mulbarton\",\"naturena\",\"oakdene\",\"ormonde\",\"regents-park\",\"ridgeway\",\"robertsham\",\"roseacre\",\"rosettenville\",\"sky-city\",\"south-hills\",\"suideroord\",\"the-hill\",\"turffontein\",\"winchester-hills\"],\"y\":[15,64,134,3,75,1,33,47,73,45,38,8,48,201,39,595,34,334,100,117,149,21,192,179,181,336,289,34,164,71,27,137,1098,176,41,89,163,283],\"type\":\"bar\"},{\"marker\":{\"color\":\"rgb(158,202,225)\"},\"name\":\"north-riding-to-lanseria\",\"x\":[\"bellairspark\",\"blair-atholl-estate\",\"boskruin\",\"bromhof\",\"chartwell\",\"cosmo-city\",\"farmall\",\"jackal-creek-northriding\",\"johannesburg-north\",\"kya-sands\",\"lanseria-and-surrounds\",\"nooitgedacht\",\"noordhang\",\"north-riding\",\"northgate\",\"northwold\",\"olivedale\",\"sharonlea\",\"sonneglans\",\"sundowner\"],\"y\":[11,13,38,107,62,473,3,206,16,81,151,367,47,619,197,150,142,35,76,137],\"type\":\"bar\"},{\"marker\":{\"color\":\"rgb(158,202,225)\"},\"name\":\"northcliff\",\"x\":[\"albertskroon\",\"albertville\",\"auckland-park\",\"berario\",\"bergbron\",\"blackheath\",\"bosmont\",\"brixton\",\"crosby\",\"delarey\",\"emmarentia\",\"fairland\",\"florida-glen\",\"greenside\",\"greymont\",\"linden\",\"melville\",\"montgomery-park\",\"newlands\",\"northcliff\",\"quellerina\",\"richmond\",\"risidale\",\"riverlea\",\"roosevelt-park\",\"sophiatown\",\"victory-park\",\"westbury\",\"westdene\",\"whiteridge\"],\"y\":[2,54,49,8,71,70,25,102,46,12,4,109,30,13,34,38,49,51,58,109,25,36,7,82,15,52,19,13,103,19],\"type\":\"bar\"},{\"marker\":{\"color\":\"rgb(158,202,225)\"},\"name\":\"randburg-and-ferndale\",\"x\":[\"aldara-park\",\"blairgowrie\",\"bordeaux\",\"cresta\",\"darrenwood\",\"ferndale\",\"fontainebleau\",\"industria\",\"kelland\",\"kensington-b\",\"malanshof\",\"moret\",\"president-ridge\",\"randpark\",\"randpark-ridge\",\"robin-hills\",\"robindale\",\"ruiterhof\",\"strydompark\",\"windsor-east\",\"windsor-glen\",\"windsor-west\"],\"y\":[1,81,24,12,12,461,24,1,10,41,35,2,10,15,156,4,36,2,5,103,1,67],\"type\":\"bar\"},{\"marker\":{\"color\":\"rgb(158,202,225)\"},\"name\":\"sandton-and-bryanston-north\",\"x\":[\"atholl\",\"atholl-gardens\",\"benmore-gardens\",\"bramley\",\"bramley-park\",\"bryanston\",\"bryanston-west\",\"buccleuch\",\"edenburg\",\"gallo-manor\",\"hurlingham\",\"hurlingham-manor\",\"hyde-park\",\"illovo\",\"inanda\",\"kelvin\",\"khyber-rock\",\"linbro-park\",\"lombardy-east\",\"magaliessig\",\"morningside\",\"morningside-manor\",\"parkmore\",\"petervale\",\"rembrandt-park\",\"river-club\",\"rivonia\",\"sandhurst\",\"sandown\",\"strathavon\",\"wendywood\",\"woodmead\"],\"y\":[72,2,30,25,22,567,11,203,129,15,18,4,41,151,5,25,2,141,41,92,540,22,29,35,66,31,168,36,270,41,29,55],\"type\":\"bar\"}],                        {\"template\":{\"data\":{\"histogram2dcontour\":[{\"type\":\"histogram2dcontour\",\"colorbar\":{\"outlinewidth\":0,\"ticks\":\"\"},\"colorscale\":[[0.0,\"#0d0887\"],[0.1111111111111111,\"#46039f\"],[0.2222222222222222,\"#7201a8\"],[0.3333333333333333,\"#9c179e\"],[0.4444444444444444,\"#bd3786\"],[0.5555555555555556,\"#d8576b\"],[0.6666666666666666,\"#ed7953\"],[0.7777777777777778,\"#fb9f3a\"],[0.8888888888888888,\"#fdca26\"],[1.0,\"#f0f921\"]]}],\"choropleth\":[{\"type\":\"choropleth\",\"colorbar\":{\"outlinewidth\":0,\"ticks\":\"\"}}],\"histogram2d\":[{\"type\":\"histogram2d\",\"colorbar\":{\"outlinewidth\":0,\"ticks\":\"\"},\"colorscale\":[[0.0,\"#0d0887\"],[0.1111111111111111,\"#46039f\"],[0.2222222222222222,\"#7201a8\"],[0.3333333333333333,\"#9c179e\"],[0.4444444444444444,\"#bd3786\"],[0.5555555555555556,\"#d8576b\"],[0.6666666666666666,\"#ed7953\"],[0.7777777777777778,\"#fb9f3a\"],[0.8888888888888888,\"#fdca26\"],[1.0,\"#f0f921\"]]}],\"heatmap\":[{\"type\":\"heatmap\",\"colorbar\":{\"outlinewidth\":0,\"ticks\":\"\"},\"colorscale\":[[0.0,\"#0d0887\"],[0.1111111111111111,\"#46039f\"],[0.2222222222222222,\"#7201a8\"],[0.3333333333333333,\"#9c179e\"],[0.4444444444444444,\"#bd3786\"],[0.5555555555555556,\"#d8576b\"],[0.6666666666666666,\"#ed7953\"],[0.7777777777777778,\"#fb9f3a\"],[0.8888888888888888,\"#fdca26\"],[1.0,\"#f0f921\"]]}],\"heatmapgl\":[{\"type\":\"heatmapgl\",\"colorbar\":{\"outlinewidth\":0,\"ticks\":\"\"},\"colorscale\":[[0.0,\"#0d0887\"],[0.1111111111111111,\"#46039f\"],[0.2222222222222222,\"#7201a8\"],[0.3333333333333333,\"#9c179e\"],[0.4444444444444444,\"#bd3786\"],[0.5555555555555556,\"#d8576b\"],[0.6666666666666666,\"#ed7953\"],[0.7777777777777778,\"#fb9f3a\"],[0.8888888888888888,\"#fdca26\"],[1.0,\"#f0f921\"]]}],\"contourcarpet\":[{\"type\":\"contourcarpet\",\"colorbar\":{\"outlinewidth\":0,\"ticks\":\"\"}}],\"contour\":[{\"type\":\"contour\",\"colorbar\":{\"outlinewidth\":0,\"ticks\":\"\"},\"colorscale\":[[0.0,\"#0d0887\"],[0.1111111111111111,\"#46039f\"],[0.2222222222222222,\"#7201a8\"],[0.3333333333333333,\"#9c179e\"],[0.4444444444444444,\"#bd3786\"],[0.5555555555555556,\"#d8576b\"],[0.6666666666666666,\"#ed7953\"],[0.7777777777777778,\"#fb9f3a\"],[0.8888888888888888,\"#fdca26\"],[1.0,\"#f0f921\"]]}],\"surface\":[{\"type\":\"surface\",\"colorbar\":{\"outlinewidth\":0,\"ticks\":\"\"},\"colorscale\":[[0.0,\"#0d0887\"],[0.1111111111111111,\"#46039f\"],[0.2222222222222222,\"#7201a8\"],[0.3333333333333333,\"#9c179e\"],[0.4444444444444444,\"#bd3786\"],[0.5555555555555556,\"#d8576b\"],[0.6666666666666666,\"#ed7953\"],[0.7777777777777778,\"#fb9f3a\"],[0.8888888888888888,\"#fdca26\"],[1.0,\"#f0f921\"]]}],\"mesh3d\":[{\"type\":\"mesh3d\",\"colorbar\":{\"outlinewidth\":0,\"ticks\":\"\"}}],\"scatter\":[{\"fillpattern\":{\"fillmode\":\"overlay\",\"size\":10,\"solidity\":0.2},\"type\":\"scatter\"}],\"parcoords\":[{\"type\":\"parcoords\",\"line\":{\"colorbar\":{\"outlinewidth\":0,\"ticks\":\"\"}}}],\"scatterpolargl\":[{\"type\":\"scatterpolargl\",\"marker\":{\"colorbar\":{\"outlinewidth\":0,\"ticks\":\"\"}}}],\"bar\":[{\"error_x\":{\"color\":\"#2a3f5f\"},\"error_y\":{\"color\":\"#2a3f5f\"},\"marker\":{\"line\":{\"color\":\"#E5ECF6\",\"width\":0.5},\"pattern\":{\"fillmode\":\"overlay\",\"size\":10,\"solidity\":0.2}},\"type\":\"bar\"}],\"scattergeo\":[{\"type\":\"scattergeo\",\"marker\":{\"colorbar\":{\"outlinewidth\":0,\"ticks\":\"\"}}}],\"scatterpolar\":[{\"type\":\"scatterpolar\",\"marker\":{\"colorbar\":{\"outlinewidth\":0,\"ticks\":\"\"}}}],\"histogram\":[{\"marker\":{\"pattern\":{\"fillmode\":\"overlay\",\"size\":10,\"solidity\":0.2}},\"type\":\"histogram\"}],\"scattergl\":[{\"type\":\"scattergl\",\"marker\":{\"colorbar\":{\"outlinewidth\":0,\"ticks\":\"\"}}}],\"scatter3d\":[{\"type\":\"scatter3d\",\"line\":{\"colorbar\":{\"outlinewidth\":0,\"ticks\":\"\"}},\"marker\":{\"colorbar\":{\"outlinewidth\":0,\"ticks\":\"\"}}}],\"scattermapbox\":[{\"type\":\"scattermapbox\",\"marker\":{\"colorbar\":{\"outlinewidth\":0,\"ticks\":\"\"}}}],\"scatterternary\":[{\"type\":\"scatterternary\",\"marker\":{\"colorbar\":{\"outlinewidth\":0,\"ticks\":\"\"}}}],\"scattercarpet\":[{\"type\":\"scattercarpet\",\"marker\":{\"colorbar\":{\"outlinewidth\":0,\"ticks\":\"\"}}}],\"carpet\":[{\"aaxis\":{\"endlinecolor\":\"#2a3f5f\",\"gridcolor\":\"white\",\"linecolor\":\"white\",\"minorgridcolor\":\"white\",\"startlinecolor\":\"#2a3f5f\"},\"baxis\":{\"endlinecolor\":\"#2a3f5f\",\"gridcolor\":\"white\",\"linecolor\":\"white\",\"minorgridcolor\":\"white\",\"startlinecolor\":\"#2a3f5f\"},\"type\":\"carpet\"}],\"table\":[{\"cells\":{\"fill\":{\"color\":\"#EBF0F8\"},\"line\":{\"color\":\"white\"}},\"header\":{\"fill\":{\"color\":\"#C8D4E3\"},\"line\":{\"color\":\"white\"}},\"type\":\"table\"}],\"barpolar\":[{\"marker\":{\"line\":{\"color\":\"#E5ECF6\",\"width\":0.5},\"pattern\":{\"fillmode\":\"overlay\",\"size\":10,\"solidity\":0.2}},\"type\":\"barpolar\"}],\"pie\":[{\"automargin\":true,\"type\":\"pie\"}]},\"layout\":{\"autotypenumbers\":\"strict\",\"colorway\":[\"#636efa\",\"#EF553B\",\"#00cc96\",\"#ab63fa\",\"#FFA15A\",\"#19d3f3\",\"#FF6692\",\"#B6E880\",\"#FF97FF\",\"#FECB52\"],\"font\":{\"color\":\"#2a3f5f\"},\"hovermode\":\"closest\",\"hoverlabel\":{\"align\":\"left\"},\"paper_bgcolor\":\"white\",\"plot_bgcolor\":\"#E5ECF6\",\"polar\":{\"bgcolor\":\"#E5ECF6\",\"angularaxis\":{\"gridcolor\":\"white\",\"linecolor\":\"white\",\"ticks\":\"\"},\"radialaxis\":{\"gridcolor\":\"white\",\"linecolor\":\"white\",\"ticks\":\"\"}},\"ternary\":{\"bgcolor\":\"#E5ECF6\",\"aaxis\":{\"gridcolor\":\"white\",\"linecolor\":\"white\",\"ticks\":\"\"},\"baxis\":{\"gridcolor\":\"white\",\"linecolor\":\"white\",\"ticks\":\"\"},\"caxis\":{\"gridcolor\":\"white\",\"linecolor\":\"white\",\"ticks\":\"\"}},\"coloraxis\":{\"colorbar\":{\"outlinewidth\":0,\"ticks\":\"\"}},\"colorscale\":{\"sequential\":[[0.0,\"#0d0887\"],[0.1111111111111111,\"#46039f\"],[0.2222222222222222,\"#7201a8\"],[0.3333333333333333,\"#9c179e\"],[0.4444444444444444,\"#bd3786\"],[0.5555555555555556,\"#d8576b\"],[0.6666666666666666,\"#ed7953\"],[0.7777777777777778,\"#fb9f3a\"],[0.8888888888888888,\"#fdca26\"],[1.0,\"#f0f921\"]],\"sequentialminus\":[[0.0,\"#0d0887\"],[0.1111111111111111,\"#46039f\"],[0.2222222222222222,\"#7201a8\"],[0.3333333333333333,\"#9c179e\"],[0.4444444444444444,\"#bd3786\"],[0.5555555555555556,\"#d8576b\"],[0.6666666666666666,\"#ed7953\"],[0.7777777777777778,\"#fb9f3a\"],[0.8888888888888888,\"#fdca26\"],[1.0,\"#f0f921\"]],\"diverging\":[[0,\"#8e0152\"],[0.1,\"#c51b7d\"],[0.2,\"#de77ae\"],[0.3,\"#f1b6da\"],[0.4,\"#fde0ef\"],[0.5,\"#f7f7f7\"],[0.6,\"#e6f5d0\"],[0.7,\"#b8e186\"],[0.8,\"#7fbc41\"],[0.9,\"#4d9221\"],[1,\"#276419\"]]},\"xaxis\":{\"gridcolor\":\"white\",\"linecolor\":\"white\",\"ticks\":\"\",\"title\":{\"standoff\":15},\"zerolinecolor\":\"white\",\"automargin\":true,\"zerolinewidth\":2},\"yaxis\":{\"gridcolor\":\"white\",\"linecolor\":\"white\",\"ticks\":\"\",\"title\":{\"standoff\":15},\"zerolinecolor\":\"white\",\"automargin\":true,\"zerolinewidth\":2},\"scene\":{\"xaxis\":{\"backgroundcolor\":\"#E5ECF6\",\"gridcolor\":\"white\",\"linecolor\":\"white\",\"showbackground\":true,\"ticks\":\"\",\"zerolinecolor\":\"white\",\"gridwidth\":2},\"yaxis\":{\"backgroundcolor\":\"#E5ECF6\",\"gridcolor\":\"white\",\"linecolor\":\"white\",\"showbackground\":true,\"ticks\":\"\",\"zerolinecolor\":\"white\",\"gridwidth\":2},\"zaxis\":{\"backgroundcolor\":\"#E5ECF6\",\"gridcolor\":\"white\",\"linecolor\":\"white\",\"showbackground\":true,\"ticks\":\"\",\"zerolinecolor\":\"white\",\"gridwidth\":2}},\"shapedefaults\":{\"line\":{\"color\":\"#2a3f5f\"}},\"annotationdefaults\":{\"arrowcolor\":\"#2a3f5f\",\"arrowhead\":0,\"arrowwidth\":1},\"geo\":{\"bgcolor\":\"white\",\"landcolor\":\"#E5ECF6\",\"subunitcolor\":\"white\",\"showland\":true,\"showlakes\":true,\"lakecolor\":\"white\"},\"title\":{\"x\":0.05},\"mapbox\":{\"style\":\"light\"}}},\"xaxis\":{\"title\":{\"text\":\"Area\"},\"categoryorder\":\"total descending\"},\"font\":{\"family\":\"Arial, sans-serif\",\"size\":12,\"color\":\"darkslategray\"},\"barmode\":\"stack\",\"title\":{\"text\":\"Number of Listings by Suburb and Area\"},\"yaxis\":{\"title\":{\"text\":\"Number of Listings\"}},\"showlegend\":true,\"plot_bgcolor\":\"rgba(0,0,0,0)\",\"paper_bgcolor\":\"rgba(0,0,0,0)\",\"updatemenus\":[{\"buttons\":[{\"args\":[null,{\"frame\":{\"duration\":500,\"redraw\":true},\"fromcurrent\":true}],\"label\":\"Play\",\"method\":\"animate\"}],\"direction\":\"left\",\"pad\":{\"r\":10,\"t\":87},\"showactive\":false,\"type\":\"buttons\",\"x\":0.1,\"xanchor\":\"right\",\"y\":0,\"yanchor\":\"top\"}]},                        {\"responsive\": true}                    ).then(function(){\n",
       "                            \n",
       "var gd = document.getElementById('dbae1a1d-7427-4d5b-88e1-68b74e266337');\n",
       "var x = new MutationObserver(function (mutations, observer) {{\n",
       "        var display = window.getComputedStyle(gd).display;\n",
       "        if (!display || display === 'none') {{\n",
       "            console.log([gd, 'removed!']);\n",
       "            Plotly.purge(gd);\n",
       "            observer.disconnect();\n",
       "        }}\n",
       "}});\n",
       "\n",
       "// Listen for the removal of the full notebook cells\n",
       "var notebookContainer = gd.closest('#notebook-container');\n",
       "if (notebookContainer) {{\n",
       "    x.observe(notebookContainer, {childList: true});\n",
       "}}\n",
       "\n",
       "// Listen for the clearing of the current output cell\n",
       "var outputEl = gd.closest('.output');\n",
       "if (outputEl) {{\n",
       "    x.observe(outputEl, {childList: true});\n",
       "}}\n",
       "\n",
       "                        })                };                });            </script>        </div>"
      ]
     },
     "metadata": {},
     "output_type": "display_data"
    }
   ],
   "source": [
    "# Group by suburb and area\n",
    "suburb_areas = property_list.groupby(['Suburb', 'Area']).size().reset_index(name='Count')\n",
    "\n",
    "# Create an interactive bar chart for suburbs\n",
    "fig = go.Figure()\n",
    "\n",
    "# Add bars for each suburb\n",
    "for suburb in suburb_areas['Suburb'].unique():\n",
    "    areas = suburb_areas[suburb_areas['Suburb'] == suburb]['Area']\n",
    "    counts = suburb_areas[suburb_areas['Suburb'] == suburb]['Count']\n",
    "    fig.add_trace(go.Bar(name=suburb, x=areas, y=counts, marker_color='rgb(158,202,225)'))\n",
    "\n",
    "# Update layout\n",
    "fig.update_layout(barmode='stack',\n",
    "                  title='Number of Listings by Suburb and Area',\n",
    "                  xaxis_title='Area',\n",
    "                  yaxis_title='Number of Listings',\n",
    "                  xaxis=dict(categoryorder='total descending'),\n",
    "                  showlegend=True,\n",
    "                  plot_bgcolor='rgba(0,0,0,0)',\n",
    "                  paper_bgcolor='rgba(0,0,0,0)',\n",
    "                  font=dict(family='Arial, sans-serif', size=12, color='darkslategray'))\n",
    "\n",
    "# Add interactivity\n",
    "fig.update_layout(updatemenus=[{\n",
    "    'buttons': [{\n",
    "        'args': [None, {'frame': {'duration': 500, 'redraw': True}, 'fromcurrent': True}],\n",
    "        'label': 'Play',\n",
    "        'method': 'animate'\n",
    "    }],\n",
    "    'direction': 'left',\n",
    "    'pad': {'r': 10, 't': 87},\n",
    "    'showactive': False,\n",
    "    'type': 'buttons',\n",
    "    'x': 0.1,\n",
    "    'xanchor': 'right',\n",
    "    'y': 0,\n",
    "    'yanchor': 'top'\n",
    "}])\n",
    "\n",
    "# Show the plot\n",
    "fig.show()"
   ]
  },
  {
   "cell_type": "code",
   "execution_count": 51,
   "id": "f7ceb08d",
   "metadata": {},
   "outputs": [],
   "source": [
    "import numpy as np\n",
    "\n",
    "# Function to calculate min, max, average price, and corresponding href for a given title and floor size\n",
    "def calculate_price_stats(row):\n",
    "    title = row['Title']\n",
    "    floor_size = row['Floor Area']\n",
    "    \n",
    "    try:\n",
    "        # Filter properties matching the title\n",
    "        filtered_properties = property_list[property_list['Title'] == title]\n",
    "        \n",
    "        # If no match is found, return NaN values\n",
    "        if filtered_properties.empty:\n",
    "            return pd.Series([np.nan, np.nan])\n",
    "        \n",
    "        # Find the closest floor size\n",
    "        closest_size = min(filtered_properties['Floor Area'], key=lambda x: abs(x - floor_size))\n",
    "        \n",
    "        # Filter properties matching the title and closest floor size\n",
    "        closest_properties = filtered_properties[filtered_properties['Floor Area'] == closest_size]\n",
    "        \n",
    "        # If no match is found, return NaN values\n",
    "        if closest_properties.empty:\n",
    "            return pd.Series([np.nan, np.nan])\n",
    "        \n",
    "        # Compute statistics\n",
    "        max_price_row = closest_properties.loc[closest_properties['Price'].idxmax()]\n",
    "        max_price_href = max_price_row['Href']\n",
    "        max_price = closest_properties['Price'].max()\n",
    "        return pd.Series([max_price, max_price_href])\n",
    "    \n",
    "    except KeyError:\n",
    "        return pd.Series([np.nan, np.nan])\n",
    "\n",
    "# Apply the function to each row of the DataFrame\n",
    "property_list[['Max Price', 'Max Price Href']] = property_list.apply(calculate_price_stats, axis=1)\n"
   ]
  },
  {
   "cell_type": "code",
   "execution_count": 52,
   "id": "d20f3174",
   "metadata": {},
   "outputs": [],
   "source": [
    "# Adding a Potential Profit Field\n",
    "\n",
    "property_list['Potential Profit'] = property_list['Max Price'] - property_list['Price']"
   ]
  },
  {
   "cell_type": "code",
   "execution_count": 53,
   "id": "230e4c8c",
   "metadata": {},
   "outputs": [
    {
     "data": {
      "text/html": [
       "<div>\n",
       "<style scoped>\n",
       "    .dataframe tbody tr th:only-of-type {\n",
       "        vertical-align: middle;\n",
       "    }\n",
       "\n",
       "    .dataframe tbody tr th {\n",
       "        vertical-align: top;\n",
       "    }\n",
       "\n",
       "    .dataframe thead th {\n",
       "        text-align: right;\n",
       "    }\n",
       "</style>\n",
       "<table border=\"1\" class=\"dataframe\">\n",
       "  <thead>\n",
       "    <tr style=\"text-align: right;\">\n",
       "      <th></th>\n",
       "      <th>Unnamed: 0</th>\n",
       "      <th>Title</th>\n",
       "      <th>Href</th>\n",
       "      <th>Bedrooms</th>\n",
       "      <th>Bathrooms</th>\n",
       "      <th>Lounges</th>\n",
       "      <th>Kitchen</th>\n",
       "      <th>Main Value 3</th>\n",
       "      <th>Price</th>\n",
       "      <th>Floor Area</th>\n",
       "      <th>Province</th>\n",
       "      <th>City</th>\n",
       "      <th>Suburb</th>\n",
       "      <th>Area</th>\n",
       "      <th>Price per Sqm</th>\n",
       "      <th>Type</th>\n",
       "      <th>Max Price</th>\n",
       "      <th>Max Price Href</th>\n",
       "      <th>Potential Profit</th>\n",
       "    </tr>\n",
       "  </thead>\n",
       "  <tbody>\n",
       "    <tr>\n",
       "      <th>3794</th>\n",
       "      <td>3794</td>\n",
       "      <td>2 Bed House in Sky City</td>\n",
       "      <td>https://www.privateproperty.co.za/for-sale/gauteng/johannesburg/johannesburg-south/sky-city/10411-paddlefish-street/T4490604</td>\n",
       "      <td>2.0</td>\n",
       "      <td>1.0</td>\n",
       "      <td>1</td>\n",
       "      <td>1.0</td>\n",
       "      <td>RatesR 600</td>\n",
       "      <td>780000.0</td>\n",
       "      <td>60.0</td>\n",
       "      <td>gauteng</td>\n",
       "      <td>johannesburg</td>\n",
       "      <td>johannesburg-south</td>\n",
       "      <td>sky-city</td>\n",
       "      <td>13000.000000</td>\n",
       "      <td>House</td>\n",
       "      <td>1011500.0</td>\n",
       "      <td>https://www.privateproperty.co.za/for-sale/gauteng/johannesburg/johannesburg-south/sky-city/57-kenneth-street/T4406237</td>\n",
       "      <td>231500.0</td>\n",
       "    </tr>\n",
       "    <tr>\n",
       "      <th>3795</th>\n",
       "      <td>3795</td>\n",
       "      <td>3 Bed House in Sky City</td>\n",
       "      <td>https://www.privateproperty.co.za/for-sale/gauteng/johannesburg/johannesburg-south/sky-city/2518-firefish-street/T4385346</td>\n",
       "      <td>3.0</td>\n",
       "      <td>2.0</td>\n",
       "      <td>1</td>\n",
       "      <td>1.0</td>\n",
       "      <td>RatesR 600</td>\n",
       "      <td>950000.0</td>\n",
       "      <td>80.0</td>\n",
       "      <td>gauteng</td>\n",
       "      <td>johannesburg</td>\n",
       "      <td>johannesburg-south</td>\n",
       "      <td>sky-city</td>\n",
       "      <td>11875.000000</td>\n",
       "      <td>House</td>\n",
       "      <td>1250000.0</td>\n",
       "      <td>https://www.privateproperty.co.za/for-sale/gauteng/johannesburg/johannesburg-south/sky-city/T4477390</td>\n",
       "      <td>300000.0</td>\n",
       "    </tr>\n",
       "    <tr>\n",
       "      <th>3796</th>\n",
       "      <td>3796</td>\n",
       "      <td>3 Bed Townhouse in Winchester Hills</td>\n",
       "      <td>https://www.privateproperty.co.za/for-sale/gauteng/johannesburg/johannesburg-south/winchester-hills/71-376-on-devereaux/376-devereaux/T4325707</td>\n",
       "      <td>3.0</td>\n",
       "      <td>2.0</td>\n",
       "      <td>1</td>\n",
       "      <td>1.0</td>\n",
       "      <td>RatesR 1200</td>\n",
       "      <td>1200000.0</td>\n",
       "      <td>98.0</td>\n",
       "      <td>gauteng</td>\n",
       "      <td>johannesburg</td>\n",
       "      <td>johannesburg-south</td>\n",
       "      <td>winchester-hills</td>\n",
       "      <td>12244.897959</td>\n",
       "      <td>NaN</td>\n",
       "      <td>1250000.0</td>\n",
       "      <td>https://www.privateproperty.co.za/for-sale/gauteng/johannesburg/johannesburg-south/winchester-hills/T4526416</td>\n",
       "      <td>50000.0</td>\n",
       "    </tr>\n",
       "    <tr>\n",
       "      <th>3797</th>\n",
       "      <td>3797</td>\n",
       "      <td>4 Bed House in Palmridge</td>\n",
       "      <td>https://www.privateproperty.co.za/for-sale/gauteng/johannesburg/johannesburg-south/katlehong/15-ursinia-street/T4473827</td>\n",
       "      <td>4.0</td>\n",
       "      <td>2.0</td>\n",
       "      <td>1</td>\n",
       "      <td>1.0</td>\n",
       "      <td>RatesR 1271</td>\n",
       "      <td>1250000.0</td>\n",
       "      <td>286.0</td>\n",
       "      <td>gauteng</td>\n",
       "      <td>johannesburg</td>\n",
       "      <td>johannesburg-south</td>\n",
       "      <td>katlehong</td>\n",
       "      <td>4370.629371</td>\n",
       "      <td>House</td>\n",
       "      <td>1250000.0</td>\n",
       "      <td>https://www.privateproperty.co.za/for-sale/gauteng/johannesburg/johannesburg-south/katlehong/15-ursinia-street/T4473827</td>\n",
       "      <td>0.0</td>\n",
       "    </tr>\n",
       "    <tr>\n",
       "      <th>3800</th>\n",
       "      <td>3800</td>\n",
       "      <td>3 Bed House in Sky City</td>\n",
       "      <td>https://www.privateproperty.co.za/for-sale/gauteng/johannesburg/johannesburg-south/sky-city/T4284918</td>\n",
       "      <td>3.0</td>\n",
       "      <td>2.0</td>\n",
       "      <td>1</td>\n",
       "      <td>1.0</td>\n",
       "      <td>RatesR 600</td>\n",
       "      <td>920000.0</td>\n",
       "      <td>72.0</td>\n",
       "      <td>gauteng</td>\n",
       "      <td>johannesburg</td>\n",
       "      <td>johannesburg-south</td>\n",
       "      <td>sky-city</td>\n",
       "      <td>12777.777778</td>\n",
       "      <td>House</td>\n",
       "      <td>920000.0</td>\n",
       "      <td>https://www.privateproperty.co.za/for-sale/gauteng/johannesburg/johannesburg-south/sky-city/T4284918</td>\n",
       "      <td>0.0</td>\n",
       "    </tr>\n",
       "    <tr>\n",
       "      <th>...</th>\n",
       "      <td>...</td>\n",
       "      <td>...</td>\n",
       "      <td>...</td>\n",
       "      <td>...</td>\n",
       "      <td>...</td>\n",
       "      <td>...</td>\n",
       "      <td>...</td>\n",
       "      <td>...</td>\n",
       "      <td>...</td>\n",
       "      <td>...</td>\n",
       "      <td>...</td>\n",
       "      <td>...</td>\n",
       "      <td>...</td>\n",
       "      <td>...</td>\n",
       "      <td>...</td>\n",
       "      <td>...</td>\n",
       "      <td>...</td>\n",
       "      <td>...</td>\n",
       "      <td>...</td>\n",
       "    </tr>\n",
       "    <tr>\n",
       "      <th>9347</th>\n",
       "      <td>9347</td>\n",
       "      <td>2 Bed Apartment in Kibler Park</td>\n",
       "      <td>https://www.privateproperty.co.za/for-sale/gauteng/johannesburg/johannesburg-south/kibler-park/T4482653</td>\n",
       "      <td>2.0</td>\n",
       "      <td>2.0</td>\n",
       "      <td>NaN</td>\n",
       "      <td>1.0</td>\n",
       "      <td>NaN</td>\n",
       "      <td>1300000.0</td>\n",
       "      <td>76.0</td>\n",
       "      <td>gauteng</td>\n",
       "      <td>johannesburg</td>\n",
       "      <td>johannesburg-south</td>\n",
       "      <td>kibler-park</td>\n",
       "      <td>17105.263158</td>\n",
       "      <td>Apartment</td>\n",
       "      <td>1300000.0</td>\n",
       "      <td>https://www.privateproperty.co.za/for-sale/gauteng/johannesburg/johannesburg-south/kibler-park/T4482653</td>\n",
       "      <td>0.0</td>\n",
       "    </tr>\n",
       "    <tr>\n",
       "      <th>9348</th>\n",
       "      <td>9348</td>\n",
       "      <td>3 Bed Apartment in Oakdene</td>\n",
       "      <td>https://www.privateproperty.co.za/for-sale/gauteng/johannesburg/johannesburg-south/oakdene/T4341781</td>\n",
       "      <td>3.0</td>\n",
       "      <td>2.0</td>\n",
       "      <td>1</td>\n",
       "      <td>NaN</td>\n",
       "      <td>NaN</td>\n",
       "      <td>1300000.0</td>\n",
       "      <td>40.0</td>\n",
       "      <td>gauteng</td>\n",
       "      <td>johannesburg</td>\n",
       "      <td>johannesburg-south</td>\n",
       "      <td>oakdene</td>\n",
       "      <td>32500.000000</td>\n",
       "      <td>Apartment</td>\n",
       "      <td>1300000.0</td>\n",
       "      <td>https://www.privateproperty.co.za/for-sale/gauteng/johannesburg/johannesburg-south/oakdene/T4341781</td>\n",
       "      <td>0.0</td>\n",
       "    </tr>\n",
       "    <tr>\n",
       "      <th>9353</th>\n",
       "      <td>9353</td>\n",
       "      <td>3 Bed Apartment in Roseacre</td>\n",
       "      <td>https://www.privateproperty.co.za/for-sale/gauteng/johannesburg/johannesburg-south/roseacre/T4342277</td>\n",
       "      <td>3.0</td>\n",
       "      <td>2.0</td>\n",
       "      <td>1</td>\n",
       "      <td>NaN</td>\n",
       "      <td>NaN</td>\n",
       "      <td>1500000.0</td>\n",
       "      <td>40.0</td>\n",
       "      <td>gauteng</td>\n",
       "      <td>johannesburg</td>\n",
       "      <td>johannesburg-south</td>\n",
       "      <td>roseacre</td>\n",
       "      <td>37500.000000</td>\n",
       "      <td>Apartment</td>\n",
       "      <td>NaN</td>\n",
       "      <td>NaN</td>\n",
       "      <td>NaN</td>\n",
       "    </tr>\n",
       "    <tr>\n",
       "      <th>9355</th>\n",
       "      <td>9355</td>\n",
       "      <td>4 Bed House in Mulbarton</td>\n",
       "      <td>https://www.privateproperty.co.za/for-sale/gauteng/johannesburg/johannesburg-south/mulbarton/T4127649</td>\n",
       "      <td>4.0</td>\n",
       "      <td>2.0</td>\n",
       "      <td>2</td>\n",
       "      <td>1.0</td>\n",
       "      <td>NaN</td>\n",
       "      <td>1700000.0</td>\n",
       "      <td>220.0</td>\n",
       "      <td>gauteng</td>\n",
       "      <td>johannesburg</td>\n",
       "      <td>johannesburg-south</td>\n",
       "      <td>mulbarton</td>\n",
       "      <td>7727.272727</td>\n",
       "      <td>House</td>\n",
       "      <td>NaN</td>\n",
       "      <td>NaN</td>\n",
       "      <td>NaN</td>\n",
       "    </tr>\n",
       "    <tr>\n",
       "      <th>9357</th>\n",
       "      <td>9357</td>\n",
       "      <td>6 Bed House in Turffontein</td>\n",
       "      <td>https://www.privateproperty.co.za/for-sale/gauteng/johannesburg/johannesburg-south/turffontein/T4374664</td>\n",
       "      <td>6.0</td>\n",
       "      <td>5.0</td>\n",
       "      <td>1</td>\n",
       "      <td>NaN</td>\n",
       "      <td>NaN</td>\n",
       "      <td>2000000.0</td>\n",
       "      <td>200.0</td>\n",
       "      <td>gauteng</td>\n",
       "      <td>johannesburg</td>\n",
       "      <td>johannesburg-south</td>\n",
       "      <td>turffontein</td>\n",
       "      <td>10000.000000</td>\n",
       "      <td>House</td>\n",
       "      <td>NaN</td>\n",
       "      <td>NaN</td>\n",
       "      <td>NaN</td>\n",
       "    </tr>\n",
       "  </tbody>\n",
       "</table>\n",
       "<p>3890 rows × 19 columns</p>\n",
       "</div>"
      ],
      "text/plain": [
       "      Unnamed: 0                                Title  \\\n",
       "3794        3794              2 Bed House in Sky City   \n",
       "3795        3795              3 Bed House in Sky City   \n",
       "3796        3796  3 Bed Townhouse in Winchester Hills   \n",
       "3797        3797             4 Bed House in Palmridge   \n",
       "3800        3800              3 Bed House in Sky City   \n",
       "...          ...                                  ...   \n",
       "9347        9347       2 Bed Apartment in Kibler Park   \n",
       "9348        9348           3 Bed Apartment in Oakdene   \n",
       "9353        9353          3 Bed Apartment in Roseacre   \n",
       "9355        9355             4 Bed House in Mulbarton   \n",
       "9357        9357           6 Bed House in Turffontein   \n",
       "\n",
       "                                                                                                                                                Href  \\\n",
       "3794                    https://www.privateproperty.co.za/for-sale/gauteng/johannesburg/johannesburg-south/sky-city/10411-paddlefish-street/T4490604   \n",
       "3795                       https://www.privateproperty.co.za/for-sale/gauteng/johannesburg/johannesburg-south/sky-city/2518-firefish-street/T4385346   \n",
       "3796  https://www.privateproperty.co.za/for-sale/gauteng/johannesburg/johannesburg-south/winchester-hills/71-376-on-devereaux/376-devereaux/T4325707   \n",
       "3797                         https://www.privateproperty.co.za/for-sale/gauteng/johannesburg/johannesburg-south/katlehong/15-ursinia-street/T4473827   \n",
       "3800                                            https://www.privateproperty.co.za/for-sale/gauteng/johannesburg/johannesburg-south/sky-city/T4284918   \n",
       "...                                                                                                                                              ...   \n",
       "9347                                         https://www.privateproperty.co.za/for-sale/gauteng/johannesburg/johannesburg-south/kibler-park/T4482653   \n",
       "9348                                             https://www.privateproperty.co.za/for-sale/gauteng/johannesburg/johannesburg-south/oakdene/T4341781   \n",
       "9353                                            https://www.privateproperty.co.za/for-sale/gauteng/johannesburg/johannesburg-south/roseacre/T4342277   \n",
       "9355                                           https://www.privateproperty.co.za/for-sale/gauteng/johannesburg/johannesburg-south/mulbarton/T4127649   \n",
       "9357                                         https://www.privateproperty.co.za/for-sale/gauteng/johannesburg/johannesburg-south/turffontein/T4374664   \n",
       "\n",
       "      Bedrooms  Bathrooms Lounges  Kitchen Main Value 3      Price  \\\n",
       "3794       2.0        1.0       1      1.0   RatesR 600   780000.0   \n",
       "3795       3.0        2.0       1      1.0   RatesR 600   950000.0   \n",
       "3796       3.0        2.0       1      1.0  RatesR 1200  1200000.0   \n",
       "3797       4.0        2.0       1      1.0  RatesR 1271  1250000.0   \n",
       "3800       3.0        2.0       1      1.0   RatesR 600   920000.0   \n",
       "...        ...        ...     ...      ...          ...        ...   \n",
       "9347       2.0        2.0     NaN      1.0          NaN  1300000.0   \n",
       "9348       3.0        2.0       1      NaN          NaN  1300000.0   \n",
       "9353       3.0        2.0       1      NaN          NaN  1500000.0   \n",
       "9355       4.0        2.0       2      1.0          NaN  1700000.0   \n",
       "9357       6.0        5.0       1      NaN          NaN  2000000.0   \n",
       "\n",
       "      Floor Area Province          City              Suburb              Area  \\\n",
       "3794        60.0  gauteng  johannesburg  johannesburg-south          sky-city   \n",
       "3795        80.0  gauteng  johannesburg  johannesburg-south          sky-city   \n",
       "3796        98.0  gauteng  johannesburg  johannesburg-south  winchester-hills   \n",
       "3797       286.0  gauteng  johannesburg  johannesburg-south         katlehong   \n",
       "3800        72.0  gauteng  johannesburg  johannesburg-south          sky-city   \n",
       "...          ...      ...           ...                 ...               ...   \n",
       "9347        76.0  gauteng  johannesburg  johannesburg-south       kibler-park   \n",
       "9348        40.0  gauteng  johannesburg  johannesburg-south           oakdene   \n",
       "9353        40.0  gauteng  johannesburg  johannesburg-south          roseacre   \n",
       "9355       220.0  gauteng  johannesburg  johannesburg-south         mulbarton   \n",
       "9357       200.0  gauteng  johannesburg  johannesburg-south       turffontein   \n",
       "\n",
       "      Price per Sqm       Type  Max Price  \\\n",
       "3794   13000.000000      House  1011500.0   \n",
       "3795   11875.000000      House  1250000.0   \n",
       "3796   12244.897959        NaN  1250000.0   \n",
       "3797    4370.629371      House  1250000.0   \n",
       "3800   12777.777778      House   920000.0   \n",
       "...             ...        ...        ...   \n",
       "9347   17105.263158  Apartment  1300000.0   \n",
       "9348   32500.000000  Apartment  1300000.0   \n",
       "9353   37500.000000  Apartment        NaN   \n",
       "9355    7727.272727      House        NaN   \n",
       "9357   10000.000000      House        NaN   \n",
       "\n",
       "                                                                                                               Max Price Href  \\\n",
       "3794   https://www.privateproperty.co.za/for-sale/gauteng/johannesburg/johannesburg-south/sky-city/57-kenneth-street/T4406237   \n",
       "3795                     https://www.privateproperty.co.za/for-sale/gauteng/johannesburg/johannesburg-south/sky-city/T4477390   \n",
       "3796             https://www.privateproperty.co.za/for-sale/gauteng/johannesburg/johannesburg-south/winchester-hills/T4526416   \n",
       "3797  https://www.privateproperty.co.za/for-sale/gauteng/johannesburg/johannesburg-south/katlehong/15-ursinia-street/T4473827   \n",
       "3800                     https://www.privateproperty.co.za/for-sale/gauteng/johannesburg/johannesburg-south/sky-city/T4284918   \n",
       "...                                                                                                                       ...   \n",
       "9347                  https://www.privateproperty.co.za/for-sale/gauteng/johannesburg/johannesburg-south/kibler-park/T4482653   \n",
       "9348                      https://www.privateproperty.co.za/for-sale/gauteng/johannesburg/johannesburg-south/oakdene/T4341781   \n",
       "9353                                                                                                                      NaN   \n",
       "9355                                                                                                                      NaN   \n",
       "9357                                                                                                                      NaN   \n",
       "\n",
       "      Potential Profit  \n",
       "3794          231500.0  \n",
       "3795          300000.0  \n",
       "3796           50000.0  \n",
       "3797               0.0  \n",
       "3800               0.0  \n",
       "...                ...  \n",
       "9347               0.0  \n",
       "9348               0.0  \n",
       "9353               NaN  \n",
       "9355               NaN  \n",
       "9357               NaN  \n",
       "\n",
       "[3890 rows x 19 columns]"
      ]
     },
     "metadata": {},
     "output_type": "display_data"
    }
   ],
   "source": [
    "# Define widgets\n",
    "province_widget = widgets.Dropdown(\n",
    "    options=['All'] + list(property_list['Province'].unique()),\n",
    "    value='All',\n",
    "    description='Province:'\n",
    ")\n",
    "\n",
    "city_widget = widgets.Dropdown(\n",
    "    options=['All'] + list(property_list['City'].unique()),\n",
    "    value='All',\n",
    "    description='City:'\n",
    ")\n",
    "\n",
    "suburb_widget = widgets.Dropdown(\n",
    "    options=['All'] + list(property_list['Suburb'].unique()),\n",
    "    value='All',\n",
    "    description='Suburb:'\n",
    ")\n",
    "\n",
    "area_widget = widgets.Dropdown(\n",
    "    options=['All'] + list(property_list['Area'].unique()),\n",
    "    value='All',\n",
    "    description='Area:'\n",
    ")\n",
    "\n",
    "price_slider = widgets.FloatRangeSlider(\n",
    "    min=property_list['Price'].min(),\n",
    "    max=property_list['Price'].max(),\n",
    "    step=10000,\n",
    "    value=[property_list['Price'].min(), property_list['Price'].max()],\n",
    "    description='Price Range:'\n",
    ")\n",
    "\n",
    "price_per_sqm_slider = widgets.FloatRangeSlider(\n",
    "    min=property_list['Price per Sqm'].min(),\n",
    "    max=property_list['Price per Sqm'].max(),\n",
    "    step=100,\n",
    "    value=[property_list['Price per Sqm'].min(), property_list['Price per Sqm'].max()],\n",
    "    description='Price per Sqm Range:'\n",
    ")\n",
    "\n",
    "sorting_criteria_widget = widgets.Dropdown(\n",
    "    options=['None', 'Price', 'Price per Sqm'],\n",
    "    value='None',\n",
    "    description='Sorting Criteria:'\n",
    ")\n",
    "\n",
    "sorting_order_widget = widgets.Dropdown(\n",
    "    options=['Ascending', 'Descending'],\n",
    "    value='Ascending',\n",
    "    description='Sorting Order:'\n",
    ")\n",
    "\n",
    "apply_button = widgets.Button(description=\"Apply Filters\")\n",
    "\n",
    "# Define filtering function\n",
    "def filter_dataframe(button_instance):\n",
    "    clear_output(wait=True)\n",
    "    filtered_df = property_list.copy()\n",
    "    if province_widget.value != 'All':\n",
    "        filtered_df = filtered_df[filtered_df['Province'] == province_widget.value]\n",
    "    if city_widget.value != 'All':\n",
    "        filtered_df = filtered_df[filtered_df['City'] == city_widget.value]\n",
    "    if suburb_widget.value != 'All':\n",
    "        filtered_df = filtered_df[filtered_df['Suburb'] == suburb_widget.value]\n",
    "    if area_widget.value != 'All':\n",
    "        filtered_df = filtered_df[filtered_df['Area'] == area_widget.value]\n",
    "    filtered_df = filtered_df[(filtered_df['Price'] >= price_slider.value[0]) & (filtered_df['Price'] <= price_slider.value[1])]\n",
    "    filtered_df = filtered_df[(filtered_df['Price per Sqm'] >= price_per_sqm_slider.value[0]) & (filtered_df['Price per Sqm'] <= price_per_sqm_slider.value[1])]\n",
    "    \n",
    "    # Apply sorting\n",
    "    if sorting_criteria_widget.value != 'None':\n",
    "        ascending = sorting_order_widget.value == 'Ascending'\n",
    "        filtered_df = filtered_df.sort_values(by=sorting_criteria_widget.value, ascending=ascending)\n",
    "    \n",
    "    display(filtered_df)\n",
    "\n",
    "# Attach event handler to apply button\n",
    "apply_button.on_click(filter_dataframe)\n",
    "\n",
    "# Display widgets\n",
    "display(province_widget, city_widget, suburb_widget, area_widget, price_slider, price_per_sqm_slider,\n",
    "        sorting_criteria_widget, sorting_order_widget, apply_button)\n",
    "\n",
    "# Display initial DataFrame\n"
   ]
  },
  {
   "cell_type": "code",
   "execution_count": 54,
   "id": "a3416d87",
   "metadata": {},
   "outputs": [],
   "source": [
    "# Function to select top 10 lowest-priced properties by square meter and Potential Profit > 0\n",
    "def top_10_lowest_price_by_sqm_and_profit(df):\n",
    "    return df[(df['Potential Profit'] > 0)].groupby('Area').apply(lambda x: x.nsmallest(10, 'Price per Sqm'))\n",
    "\n",
    "# Filter DataFrames by property types\n",
    "house_properties = property_list[(property_list['Type'] == 'House')]\n",
    "flat_properties = property_list[(property_list['Type'] == 'Flat')]\n",
    "apartment_properties = property_list[(property_list['Type'] == 'Apartment')]\n",
    "\n",
    "# Apply function to each filtered DataFrame\n",
    "house_top_10 = top_10_lowest_price_by_sqm_and_profit(house_properties)\n",
    "flat_top_10 = top_10_lowest_price_by_sqm_and_profit(flat_properties)\n",
    "apartment_top_10 = top_10_lowest_price_by_sqm_and_profit(apartment_properties)"
   ]
  },
  {
   "cell_type": "code",
   "execution_count": 55,
   "id": "b13465c4",
   "metadata": {},
   "outputs": [],
   "source": [
    "apartment_top_10.to_csv('Top 10 Apartments.csv')\n",
    "house_top_10.to_csv('Top 10 Houses.csv')\n",
    "flat_top_10.to_csv('Top 10 Flat.csv')"
   ]
  },
  {
   "cell_type": "code",
   "execution_count": null,
   "id": "058b5135",
   "metadata": {},
   "outputs": [],
   "source": []
  }
 ],
 "metadata": {
  "kernelspec": {
   "display_name": "Python 3 (ipykernel)",
   "language": "python",
   "name": "python3"
  },
  "language_info": {
   "codemirror_mode": {
    "name": "ipython",
    "version": 3
   },
   "file_extension": ".py",
   "mimetype": "text/x-python",
   "name": "python",
   "nbconvert_exporter": "python",
   "pygments_lexer": "ipython3",
   "version": "3.9.13"
  }
 },
 "nbformat": 4,
 "nbformat_minor": 5
}
