{
 "cells": [
  {
   "cell_type": "code",
   "execution_count": 39,
   "id": "bbdd822e-edd7-4537-9292-418204cafb13",
   "metadata": {},
   "outputs": [],
   "source": [
    "import pandas as pd\n",
    "import numpy as np\n",
    "import os\n",
    "from datetime import datetime, timedelta\n",
    "import re\n",
    "import ast"
   ]
  },
  {
   "cell_type": "code",
   "execution_count": 40,
   "id": "3517d923-55fd-4492-9355-802b5ce1297c",
   "metadata": {},
   "outputs": [],
   "source": [
    "# Read the CSV files\n",
    "listings = pd.read_csv(\"listings.csv\")\n",
    "listings_scrap = pd.read_csv(\"listings_scrapy.csv\")\n",
    "\n",
    "# Merge the two dataframes on the 'href' column\n",
    "merged_df = pd.merge(listings, listings_scrap, on='href', how='inner')"
   ]
  },
  {
   "cell_type": "code",
   "execution_count": 41,
   "id": "8fcb0787-5bd0-41a4-9592-581fb55219fe",
   "metadata": {},
   "outputs": [],
   "source": [
    "merged_df['main_features'] = merged_df['main_features'].apply(ast.literal_eval)\n",
    "\n",
    "# Extracting numeric values and converting to integers\n",
    "merged_df['Floor Area'] = merged_df['main_features'].apply(lambda x: int(re.sub(r'\\D', '', x.get('Floor Area', '0'))))\n",
    "merged_df['Land Area'] = merged_df['main_features'].apply(lambda x: int(re.sub(r'\\D', '', x.get('Land Area', '0'))))\n",
    "merged_df['Rates'] = merged_df['main_features'].apply(lambda x: int(re.sub(r'\\D', '', x.get('Rates', '0'))))\n",
    "merged_df['Levy'] = merged_df['main_features'].apply(lambda x: int(re.sub(r'\\D', '', x.get('Levy', '0'))))"
   ]
  },
  {
   "cell_type": "code",
   "execution_count": 42,
   "id": "5eac5009-9b66-4fce-a099-b7d39281b416",
   "metadata": {},
   "outputs": [],
   "source": [
    "merged_df['key_main_features'] = merged_df['key_main_features'].apply(ast.literal_eval)\n",
    "\n",
    "# Extracting numeric values for Bedrooms and Bathrooms and converting to float\n",
    "merged_df['Bedrooms'] = merged_df['key_main_features'].apply(lambda x: float(re.search(r'\\d+(\\.\\d+)?', x.get('Bedrooms', '0')).group()))\n",
    "merged_df['Bathrooms'] = merged_df['key_main_features'].apply(lambda x: float(re.search(r'\\d+(\\.\\d+)?', x.get('Bathrooms', '0')).group()))"
   ]
  },
  {
   "cell_type": "code",
   "execution_count": 43,
   "id": "a9a2e4a7-d5b9-4084-a235-4e1ff981c739",
   "metadata": {},
   "outputs": [],
   "source": [
    "merged_df['Province'] = merged_df['href'].apply(lambda x: x.split('/')[4])\n",
    "merged_df['City'] = merged_df['href'].apply(lambda x: x.split('/')[5])\n",
    "merged_df['Suburb'] = merged_df['href'].apply(lambda x: x.split('/')[6])\n",
    "\n",
    "# Conditionally splitting the 'Area' column\n",
    "merged_df['Area'] = merged_df.apply(lambda row: row['href'].split('/')[7] if 'midrand' not in row['href'] else row['href'].split('/')[6], axis=1)\n",
    "\n",
    "# Extracting the listing number from the URL\n",
    "merged_df['Listing Number'] = merged_df['href'].apply(lambda x: x.split('/')[-1])\n"
   ]
  },
  {
   "cell_type": "code",
   "execution_count": 44,
   "id": "04b9ef30-c59a-449b-9ef5-746dab358dbf",
   "metadata": {},
   "outputs": [
    {
     "data": {
      "text/html": [
       "<div>\n",
       "<style scoped>\n",
       "    .dataframe tbody tr th:only-of-type {\n",
       "        vertical-align: middle;\n",
       "    }\n",
       "\n",
       "    .dataframe tbody tr th {\n",
       "        vertical-align: top;\n",
       "    }\n",
       "\n",
       "    .dataframe thead th {\n",
       "        text-align: right;\n",
       "    }\n",
       "</style>\n",
       "<table border=\"1\" class=\"dataframe\">\n",
       "  <thead>\n",
       "    <tr style=\"text-align: right;\">\n",
       "      <th></th>\n",
       "      <th>title</th>\n",
       "      <th>href</th>\n",
       "      <th>price</th>\n",
       "      <th>property_type</th>\n",
       "      <th>main_features</th>\n",
       "      <th>key_main_features</th>\n",
       "      <th>Floor Area</th>\n",
       "      <th>Land Area</th>\n",
       "      <th>Rates</th>\n",
       "      <th>Levy</th>\n",
       "      <th>Bedrooms</th>\n",
       "      <th>Bathrooms</th>\n",
       "      <th>Province</th>\n",
       "      <th>City</th>\n",
       "      <th>Suburb</th>\n",
       "      <th>Area</th>\n",
       "      <th>Listing Number</th>\n",
       "    </tr>\n",
       "  </thead>\n",
       "  <tbody>\n",
       "    <tr>\n",
       "      <th>0</th>\n",
       "      <td>3 Bed House in Leopards Rest Security Estate</td>\n",
       "      <td>https://www.privateproperty.co.za/for-sale/gau...</td>\n",
       "      <td>R 950 000</td>\n",
       "      <td>House</td>\n",
       "      <td>{'Floor Area': '60 m²', 'Land Area': '180 m²',...</td>\n",
       "      <td>{'Bedrooms': '3', 'Bathrooms': '2', 'Covered P...</td>\n",
       "      <td>60</td>\n",
       "      <td>180</td>\n",
       "      <td>650</td>\n",
       "      <td>350</td>\n",
       "      <td>3.0</td>\n",
       "      <td>2.0</td>\n",
       "      <td>gauteng</td>\n",
       "      <td>east-rand</td>\n",
       "      <td>alberton</td>\n",
       "      <td>leopards-rest-security-estate</td>\n",
       "      <td>T4457137</td>\n",
       "    </tr>\n",
       "    <tr>\n",
       "      <th>1</th>\n",
       "      <td>3 Bed House in Mayberry Park</td>\n",
       "      <td>https://www.privateproperty.co.za/for-sale/gau...</td>\n",
       "      <td>R 1 250 000</td>\n",
       "      <td>House</td>\n",
       "      <td>{'Floor Area': '155 m²', 'Land Area': '1035 m²...</td>\n",
       "      <td>{'Bedrooms': '3', 'Bathrooms': '2', 'Dining Ar...</td>\n",
       "      <td>155</td>\n",
       "      <td>1035</td>\n",
       "      <td>859</td>\n",
       "      <td>0</td>\n",
       "      <td>3.0</td>\n",
       "      <td>2.0</td>\n",
       "      <td>gauteng</td>\n",
       "      <td>east-rand</td>\n",
       "      <td>alberton</td>\n",
       "      <td>mayberry-park</td>\n",
       "      <td>T4424820</td>\n",
       "    </tr>\n",
       "    <tr>\n",
       "      <th>2</th>\n",
       "      <td>2 Bed Townhouse in Albertsdal</td>\n",
       "      <td>https://www.privateproperty.co.za/for-sale/gau...</td>\n",
       "      <td>R 825 000</td>\n",
       "      <td>Townhouse</td>\n",
       "      <td>{'Floor Area': '62 m²', 'Land Area': '9672 m²'...</td>\n",
       "      <td>{'Bedrooms': '2', 'Bathrooms': '1', 'Covered P...</td>\n",
       "      <td>62</td>\n",
       "      <td>9672</td>\n",
       "      <td>622</td>\n",
       "      <td>930</td>\n",
       "      <td>2.0</td>\n",
       "      <td>1.0</td>\n",
       "      <td>gauteng</td>\n",
       "      <td>east-rand</td>\n",
       "      <td>alberton</td>\n",
       "      <td>albertsdal</td>\n",
       "      <td>T4346769</td>\n",
       "    </tr>\n",
       "    <tr>\n",
       "      <th>3</th>\n",
       "      <td>2 Bed Townhouse in Albertsdal</td>\n",
       "      <td>https://www.privateproperty.co.za/for-sale/gau...</td>\n",
       "      <td>R 850 000</td>\n",
       "      <td>Townhouse</td>\n",
       "      <td>{'Floor Area': '70 m²', 'Land Area': '8756 m²'...</td>\n",
       "      <td>{'Bedrooms': '2', 'Bathrooms': '1', 'Covered P...</td>\n",
       "      <td>70</td>\n",
       "      <td>8756</td>\n",
       "      <td>650</td>\n",
       "      <td>1021</td>\n",
       "      <td>2.0</td>\n",
       "      <td>1.0</td>\n",
       "      <td>gauteng</td>\n",
       "      <td>east-rand</td>\n",
       "      <td>alberton</td>\n",
       "      <td>albertsdal</td>\n",
       "      <td>T4479111</td>\n",
       "    </tr>\n",
       "    <tr>\n",
       "      <th>4</th>\n",
       "      <td>2 Bed Apartment in Albertsdal</td>\n",
       "      <td>https://www.privateproperty.co.za/for-sale/gau...</td>\n",
       "      <td>R 850 000</td>\n",
       "      <td>Apartment</td>\n",
       "      <td>{'Floor Area': '65 m²', 'Land Area': '9672 m²'...</td>\n",
       "      <td>{'Bedrooms': '2', 'Bathrooms': '1', 'Covered P...</td>\n",
       "      <td>65</td>\n",
       "      <td>9672</td>\n",
       "      <td>286</td>\n",
       "      <td>1600</td>\n",
       "      <td>2.0</td>\n",
       "      <td>1.0</td>\n",
       "      <td>gauteng</td>\n",
       "      <td>east-rand</td>\n",
       "      <td>alberton</td>\n",
       "      <td>albertsdal</td>\n",
       "      <td>T4431390</td>\n",
       "    </tr>\n",
       "  </tbody>\n",
       "</table>\n",
       "</div>"
      ],
      "text/plain": [
       "                                          title  \\\n",
       "0  3 Bed House in Leopards Rest Security Estate   \n",
       "1                  3 Bed House in Mayberry Park   \n",
       "2                 2 Bed Townhouse in Albertsdal   \n",
       "3                 2 Bed Townhouse in Albertsdal   \n",
       "4                 2 Bed Apartment in Albertsdal   \n",
       "\n",
       "                                                href        price  \\\n",
       "0  https://www.privateproperty.co.za/for-sale/gau...    R 950 000   \n",
       "1  https://www.privateproperty.co.za/for-sale/gau...  R 1 250 000   \n",
       "2  https://www.privateproperty.co.za/for-sale/gau...    R 825 000   \n",
       "3  https://www.privateproperty.co.za/for-sale/gau...    R 850 000   \n",
       "4  https://www.privateproperty.co.za/for-sale/gau...    R 850 000   \n",
       "\n",
       "  property_type                                      main_features  \\\n",
       "0         House  {'Floor Area': '60 m²', 'Land Area': '180 m²',...   \n",
       "1         House  {'Floor Area': '155 m²', 'Land Area': '1035 m²...   \n",
       "2     Townhouse  {'Floor Area': '62 m²', 'Land Area': '9672 m²'...   \n",
       "3     Townhouse  {'Floor Area': '70 m²', 'Land Area': '8756 m²'...   \n",
       "4     Apartment  {'Floor Area': '65 m²', 'Land Area': '9672 m²'...   \n",
       "\n",
       "                                   key_main_features  Floor Area  Land Area  \\\n",
       "0  {'Bedrooms': '3', 'Bathrooms': '2', 'Covered P...          60        180   \n",
       "1  {'Bedrooms': '3', 'Bathrooms': '2', 'Dining Ar...         155       1035   \n",
       "2  {'Bedrooms': '2', 'Bathrooms': '1', 'Covered P...          62       9672   \n",
       "3  {'Bedrooms': '2', 'Bathrooms': '1', 'Covered P...          70       8756   \n",
       "4  {'Bedrooms': '2', 'Bathrooms': '1', 'Covered P...          65       9672   \n",
       "\n",
       "   Rates  Levy  Bedrooms  Bathrooms Province       City    Suburb  \\\n",
       "0    650   350       3.0        2.0  gauteng  east-rand  alberton   \n",
       "1    859     0       3.0        2.0  gauteng  east-rand  alberton   \n",
       "2    622   930       2.0        1.0  gauteng  east-rand  alberton   \n",
       "3    650  1021       2.0        1.0  gauteng  east-rand  alberton   \n",
       "4    286  1600       2.0        1.0  gauteng  east-rand  alberton   \n",
       "\n",
       "                            Area Listing Number  \n",
       "0  leopards-rest-security-estate       T4457137  \n",
       "1                  mayberry-park       T4424820  \n",
       "2                     albertsdal       T4346769  \n",
       "3                     albertsdal       T4479111  \n",
       "4                     albertsdal       T4431390  "
      ]
     },
     "execution_count": 44,
     "metadata": {},
     "output_type": "execute_result"
    }
   ],
   "source": [
    "merged_df.head()"
   ]
  },
  {
   "cell_type": "code",
   "execution_count": 45,
   "id": "ce779ed9-becf-4746-b135-12a43e57a682",
   "metadata": {},
   "outputs": [
    {
     "name": "stderr",
     "output_type": "stream",
     "text": [
      "C:\\Users\\lakha\\AppData\\Local\\Temp\\ipykernel_22012\\501181592.py:3: SettingWithCopyWarning: \n",
      "A value is trying to be set on a copy of a slice from a DataFrame.\n",
      "Try using .loc[row_indexer,col_indexer] = value instead\n",
      "\n",
      "See the caveats in the documentation: https://pandas.pydata.org/pandas-docs/stable/user_guide/indexing.html#returning-a-view-versus-a-copy\n",
      "  sold_properties['Sold Date'] = datetime.today().date()\n"
     ]
    }
   ],
   "source": [
    "sold_properties = merged_df[merged_df['price']=='Sold']\n",
    "# Adding Sold Date column with today's date\n",
    "sold_properties['Sold Date'] = datetime.today().date()\n",
    "\n",
    "# Define the file path\n",
    "file_path = r'C:\\Users\\lakha\\OneDrive\\Documents\\House Flipping - Real Life\\Local\\Sold Properties'\n",
    "\n",
    "# Generate the file name with today's date\n",
    "file_name = \"Sold Properties \" + datetime.today().strftime('%Y-%m-%d') + \".csv\"\n",
    "\n",
    "# Combine the file path and file name\n",
    "full_file_path = file_path + \"\\\\\" + file_name\n",
    "\n",
    "# Save the DataFrame to CSV\n",
    "sold_properties.to_csv(full_file_path, index=False)"
   ]
  },
  {
   "cell_type": "code",
   "execution_count": 46,
   "id": "e01b732e-7ea2-4c6c-bcd0-e3f3cdeab6ef",
   "metadata": {},
   "outputs": [
    {
     "name": "stderr",
     "output_type": "stream",
     "text": [
      "<>:3: SyntaxWarning: invalid escape sequence '\\d'\n",
      "<>:3: SyntaxWarning: invalid escape sequence '\\d'\n",
      "C:\\Users\\lakha\\AppData\\Local\\Temp\\ipykernel_22012\\1120208079.py:3: SyntaxWarning: invalid escape sequence '\\d'\n",
      "  listed_properties['price'] = listed_properties['price'].str.replace('[^\\d.]', '', regex=True)\n",
      "C:\\Users\\lakha\\AppData\\Local\\Temp\\ipykernel_22012\\1120208079.py:3: SettingWithCopyWarning: \n",
      "A value is trying to be set on a copy of a slice from a DataFrame.\n",
      "Try using .loc[row_indexer,col_indexer] = value instead\n",
      "\n",
      "See the caveats in the documentation: https://pandas.pydata.org/pandas-docs/stable/user_guide/indexing.html#returning-a-view-versus-a-copy\n",
      "  listed_properties['price'] = listed_properties['price'].str.replace('[^\\d.]', '', regex=True)\n",
      "C:\\Users\\lakha\\AppData\\Local\\Temp\\ipykernel_22012\\1120208079.py:6: SettingWithCopyWarning: \n",
      "A value is trying to be set on a copy of a slice from a DataFrame.\n",
      "Try using .loc[row_indexer,col_indexer] = value instead\n",
      "\n",
      "See the caveats in the documentation: https://pandas.pydata.org/pandas-docs/stable/user_guide/indexing.html#returning-a-view-versus-a-copy\n",
      "  listed_properties['price'] = pd.to_numeric(listed_properties['price'], errors='coerce')\n",
      "C:\\Users\\lakha\\AppData\\Local\\Temp\\ipykernel_22012\\1120208079.py:9: SettingWithCopyWarning: \n",
      "A value is trying to be set on a copy of a slice from a DataFrame.\n",
      "Try using .loc[row_indexer,col_indexer] = value instead\n",
      "\n",
      "See the caveats in the documentation: https://pandas.pydata.org/pandas-docs/stable/user_guide/indexing.html#returning-a-view-versus-a-copy\n",
      "  listed_properties['Price per sqm'] = listed_properties['price']/listed_properties['Floor Area']\n"
     ]
    }
   ],
   "source": [
    "listed_properties = merged_df[(merged_df['price'] != 'Sold') & (merged_df['price'] != 'On Auction')]\n",
    "# Remove non-numeric characters and convert to numeric\n",
    "listed_properties['price'] = listed_properties['price'].str.replace('[^\\d.]', '', regex=True)\n",
    "\n",
    "# Convert the column to numeric\n",
    "listed_properties['price'] = pd.to_numeric(listed_properties['price'], errors='coerce')\n",
    "# Define the directory path\n",
    "\n",
    "listed_properties['Price per sqm'] = listed_properties['price']/listed_properties['Floor Area']\n",
    "directory_path = r'https://github.com/Nikhil-Lakha/HouseFlipping/tree/main/Listed%20Properties'\n",
    "\n",
    "# Save as \"Current Listed Properties.csv\"\n",
    "listed_properties.to_csv(directory_path + \"\\\\Current Listed Properties.csv\", index=False)\n",
    "\n",
    "# Save with today's date\n",
    "today_date = datetime.today().strftime('%Y-%m-%d')\n",
    "file_name = f\"Listed Properties {today_date}.csv\"\n",
    "listed_properties.to_csv(directory_path + \"\\\\\" + file_name, index=False)"
   ]
  },
  {
   "cell_type": "markdown",
   "id": "364f8dbd-84e3-4447-b5e3-569d245d2ff7",
   "metadata": {},
   "source": [
    "## Market Research"
   ]
  },
  {
   "cell_type": "markdown",
   "id": "c0305c93-3744-457f-ac3e-bd44a30ef068",
   "metadata": {},
   "source": [
    "# Past Listed Properties"
   ]
  },
  {
   "cell_type": "code",
   "execution_count": 47,
   "id": "f3a329f3-75d1-4aad-99b2-51d90865ff67",
   "metadata": {},
   "outputs": [],
   "source": [
    "directory = \"https://github.com/Nikhil-Lakha/HouseFlipping/tree/main/Listed%20Properties""
   ]
  },
  {
   "cell_type": "code",
   "execution_count": 48,
   "id": "fa84a945-765a-44af-8b77-682fb6fd9d20",
   "metadata": {},
   "outputs": [],
   "source": [
    "# Initialize an empty DataFrame to store the data\n",
    "listed_combined_data = pd.DataFrame()\n",
    "\n",
    "# Iterate through files in the directory\n",
    "for filename in os.listdir(directory):\n",
    "    if filename.endswith(\".csv\") and filename.startswith(\"Listed Properties\"):\n",
    "        file_path = os.path.join(directory, filename)\n",
    "        \n",
    "        # Read the CSV file\n",
    "        data = pd.read_csv(file_path)\n",
    "        \n",
    "        # Append the data to the combined DataFrame\n",
    "        listed_combined_data = pd.concat([listed_combined_data, data], ignore_index=True)\n",
    "        \n",
    "# Remove duplicates based on the 'Listing Number' column, keeping only the oldest 'Sold Date'\n",
    "listed_combined_data.drop_duplicates(subset='Listing Number', keep='first', inplace=True)\n",
    "listed_combined_data.to_csv('https://github.com/Nikhil-Lakha/HouseFlipping/blob/main/Listed%20Properties/Past%20Listed%20Properties.csv',index=False)"
   ]
  },
  {
   "cell_type": "markdown",
   "id": "3b7e176c-a9ef-4c57-9ca0-30cd5255a3f6",
   "metadata": {},
   "source": [
    "# All Sold Properties"
   ]
  },
  {
   "cell_type": "code",
   "execution_count": 49,
   "id": "7dce115d-eeea-4f2a-9402-252c60d56126",
   "metadata": {},
   "outputs": [],
   "source": [
    "# Define the directory where the CSV files are located\n",
    "directory = 'https://github.com/Nikhil-Lakha/HouseFlipping/tree/main/Sold%20Properties'"
   ]
  },
  {
   "cell_type": "code",
   "execution_count": 50,
   "id": "25092291-3825-4e47-af56-e9c6bd607202",
   "metadata": {},
   "outputs": [],
   "source": [
    "# Initialize an empty DataFrame to store the data\n",
    "combined_data = pd.DataFrame()\n",
    "\n",
    "# Iterate through files in the directory\n",
    "for filename in os.listdir(directory):\n",
    "    if filename.endswith(\".csv\") and filename.startswith(\"Sold Properties\"):\n",
    "        file_path = os.path.join(directory, filename)\n",
    "        \n",
    "        # Read the CSV file\n",
    "        data = pd.read_csv(file_path)\n",
    "        \n",
    "        # Convert 'Sold Date' column to datetime\n",
    "        data['Sold Date'] = pd.to_datetime(data['Sold Date'])\n",
    "        \n",
    "        # Sort the data by 'Sold Date' in ascending order\n",
    "        data.sort_values(by='Sold Date', inplace=True)\n",
    "        \n",
    "        # Append the data to the combined DataFrame\n",
    "        combined_data = pd.concat([combined_data, data], ignore_index=True)\n",
    "        \n",
    "# Remove duplicates based on the 'Listing Number' column, keeping only the oldest 'Sold Date'\n",
    "combined_data.drop_duplicates(subset='Listing Number', keep='first', inplace=True)\n",
    "\n",
    "combined_data = pd.merge(combined_data, listed_combined_data[['Listing Number', 'price']], on='Listing Number', how='left')\n",
    "# Rename the 'price' column to 'previously listed price'\n",
    "combined_data.rename(columns={'price_y': 'previously listed price'}, inplace=True)\n",
    "combined_data.rename(columns={'price_x': 'Status'}, inplace=True)"
   ]
  },
  {
   "cell_type": "code",
   "execution_count": 51,
   "id": "78910ea3-5dc1-45b3-b605-a5867673a69c",
   "metadata": {},
   "outputs": [],
   "source": [
    "combined_data.to_csv('https://github.com/Nikhil-Lakha/HouseFlipping/blob/main/Sold%20Properties/All%20Sold%20Properties.csv',index=False)"
   ]
  },
  {
   "cell_type": "markdown",
   "id": "b15f456c-9676-48ec-ad9f-62b459c42ffe",
   "metadata": {},
   "source": [
    "# Comparing Current listed with Previously 30 Days Sold"
   ]
  },
  {
   "cell_type": "code",
   "execution_count": 52,
   "id": "ad96df3a-05ee-4736-bd7a-779bd73e2f88",
   "metadata": {},
   "outputs": [],
   "source": [
    "current_listed = data = pd.read_csv('https://github.com/Nikhil-Lakha/HouseFlipping/blob/main/Listed%20Properties/Current%20Listed%20Properties.csv')"
   ]
  },
  {
   "cell_type": "code",
   "execution_count": 53,
   "id": "f3064e1d-9001-496b-aeba-4a74eee00b54",
   "metadata": {},
   "outputs": [],
   "source": [
    "# Get the date 30 days ago from today\n",
    "thirty_days_ago = datetime.now() - timedelta(days=30)\n",
    "\n",
    "# Filter the DataFrame to include only rows where sale date is within the last 30 days\n",
    "days_sold_data = combined_data[combined_data['Sold Date'] >= thirty_days_ago]"
   ]
  },
  {
   "cell_type": "code",
   "execution_count": 54,
   "id": "fed3fabb-9885-426e-951d-fe3e8f691ddd",
   "metadata": {},
   "outputs": [],
   "source": [
    "listed_property_count = listed_combined_data.groupby(['Province', 'City', 'Suburb', 'Area']).size().reset_index(name='Listed')\n",
    "sold_property_count = days_sold_data.groupby(['Province', 'City', 'Suburb', 'Area']).size().reset_index(name='Sold')"
   ]
  },
  {
   "cell_type": "code",
   "execution_count": 55,
   "id": "ae539f14-428c-45ee-a3d0-ff22f9ba0e72",
   "metadata": {},
   "outputs": [],
   "source": [
    "# Merging two dataframes on the 'Area' column and excluding common columns\n",
    "# Merging two dataframes on the 'Area' column\n",
    "merged_df = pd.merge(listed_property_count, sold_property_count, on='Area', how='left', suffixes=('_listed', '_sold'))\n",
    "\n",
    "# Drop unwanted columns (those with '_y' suffix)\n",
    "merged_df.drop(merged_df.filter(regex='_sold$').columns.tolist(), axis=1, inplace=True)\n",
    "\n",
    "# Rename columns with '_x' suffix to remove the suffix\n",
    "merged_df.rename(columns=lambda x: x.replace('_listed', ''), inplace=True)\n",
    "merged_df['Inventory'] = merged_df['Listed']/merged_df['Sold']\n",
    "merged_df.to_csv('Property Market 30 days.csv', index=False)"
   ]
  }
 ],
 "metadata": {
  "kernelspec": {
   "display_name": "Python 3 (ipykernel)",
   "language": "python",
   "name": "python3"
  },
  "language_info": {
   "codemirror_mode": {
    "name": "ipython",
    "version": 3
   },
   "file_extension": ".py",
   "mimetype": "text/x-python",
   "name": "python",
   "nbconvert_exporter": "python",
   "pygments_lexer": "ipython3",
   "version": "3.12.2"
  }
 },
 "nbformat": 4,
 "nbformat_minor": 5
}
