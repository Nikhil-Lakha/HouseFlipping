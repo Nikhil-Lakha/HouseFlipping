{
 "cells": [
  {
   "cell_type": "code",
   "execution_count": 35,
   "id": "4698cfb9",
   "metadata": {},
   "outputs": [],
   "source": [
    "import pandas as pd"
   ]
  },
  {
   "cell_type": "code",
   "execution_count": 36,
   "id": "5bff45b7",
   "metadata": {},
   "outputs": [],
   "source": [
    "dataset = pd.read_csv(\"Property Link count.csv\", delimiter=\",\")"
   ]
  },
  {
   "cell_type": "code",
   "execution_count": 37,
   "id": "57d44473",
   "metadata": {},
   "outputs": [],
   "source": [
    "# Function to duplicate rows based on the count column value\n",
    "def duplicate_rows(row):\n",
    "    return pd.DataFrame([row] * row['Count'])\n",
    "\n",
    "# Apply the function to each row and concatenate the results\n",
    "new_df = pd.concat(dataset.apply(duplicate_rows, axis=1).tolist(), ignore_index=True)"
   ]
  },
  {
   "cell_type": "code",
   "execution_count": 38,
   "id": "2e360dbf",
   "metadata": {},
   "outputs": [],
   "source": [
    "new_df.to_csv('Links for Google sheets.csv')"
   ]
  }
 ],
 "metadata": {
  "kernelspec": {
   "display_name": "Python 3 (ipykernel)",
   "language": "python",
   "name": "python3"
  },
  "language_info": {
   "codemirror_mode": {
    "name": "ipython",
    "version": 3
   },
   "file_extension": ".py",
   "mimetype": "text/x-python",
   "name": "python",
   "nbconvert_exporter": "python",
   "pygments_lexer": "ipython3",
   "version": "3.9.13"
  }
 },
 "nbformat": 4,
 "nbformat_minor": 5
}
